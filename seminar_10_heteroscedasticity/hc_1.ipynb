{
 "cells": [
  {
   "cell_type": "code",
   "execution_count": 10,
   "id": "c78cb829",
   "metadata": {
    "ExecuteTime": {
     "end_time": "2021-11-12T14:33:14.097556Z",
     "start_time": "2021-11-12T14:33:14.068Z"
    }
   },
   "outputs": [],
   "source": [
    "x <- seq(5,54)\n",
    "e <- x*rnorm(length(x), 0, 1)\n",
    "y <- 10 + 2*x+e "
   ]
  },
  {
   "cell_type": "code",
   "execution_count": 11,
   "id": "baa0253c",
   "metadata": {
    "ExecuteTime": {
     "end_time": "2021-11-12T14:33:14.347712Z",
     "start_time": "2021-11-12T14:33:14.297Z"
    }
   },
   "outputs": [
    {
     "data": {
      "image/png": "[encoded data removed]",
      "text/plain": [
       "plot without title"
      ]
     },
     "metadata": {
      "image/png": {
       "height": 420,
       "width": 420
      }
     },
     "output_type": "display_data"
    }
   ],
   "source": [
    "plot(x,y)\n",
    "abline(lm(y~x))"
   ]
  },
  {
   "cell_type": "code",
   "execution_count": 12,
   "id": "bbe76e0a",
   "metadata": {
    "ExecuteTime": {
     "end_time": "2021-11-12T14:33:14.528752Z",
     "start_time": "2021-11-12T14:33:14.511Z"
    }
   },
   "outputs": [
    {
     "data": {
      "text/plain": [
       "\n",
       "Call:\n",
       "lm(formula = y ~ x)\n",
       "\n",
       "Residuals:\n",
       "    Min      1Q  Median      3Q     Max \n",
       "-63.653 -12.402  -0.452  13.357  72.604 \n",
       "\n",
       "Coefficients:\n",
       "            Estimate Std. Error t value Pr(>|t|)    \n",
       "(Intercept)  -0.3004     7.9952  -0.038     0.97    \n",
       "x             2.3483     0.2435   9.646 8.14e-13 ***\n",
       "---\n",
       "Signif. codes:  0 ‘***’ 0.001 ‘**’ 0.01 ‘*’ 0.05 ‘.’ 0.1 ‘ ’ 1\n",
       "\n",
       "Residual standard error: 24.84 on 48 degrees of freedom\n",
       "Multiple R-squared:  0.6597,\tAdjusted R-squared:  0.6526 \n",
       "F-statistic: 93.04 on 1 and 48 DF,  p-value: 8.137e-13\n"
      ]
     },
     "metadata": {},
     "output_type": "display_data"
    }
   ],
   "source": [
    "summary(lm(y~x))"
   ]
  },
  {
   "cell_type": "code",
   "execution_count": 14,
   "id": "2f464a68",
   "metadata": {
    "ExecuteTime": {
     "end_time": "2021-11-12T14:33:24.750886Z",
     "start_time": "2021-11-12T14:33:24.717Z"
    }
   },
   "outputs": [
    {
     "data": {
      "text/plain": [
       "\n",
       "Call:\n",
       "lm(formula = y ~ x, weights = 1/x)\n",
       "\n",
       "Weighted Residuals:\n",
       "     Min       1Q   Median       3Q      Max \n",
       "-10.0667  -2.9841   0.2907   2.9125  10.8956 \n",
       "\n",
       "Coefficients:\n",
       "            Estimate Std. Error t value Pr(>|t|)    \n",
       "(Intercept)   5.2438     4.7792   1.097    0.278    \n",
       "x             2.1604     0.1964  10.998 1.03e-14 ***\n",
       "---\n",
       "Signif. codes:  0 ‘***’ 0.001 ‘**’ 0.01 ‘*’ 0.05 ‘.’ 0.1 ‘ ’ 1\n",
       "\n",
       "Residual standard error: 4.267 on 48 degrees of freedom\n",
       "Multiple R-squared:  0.7159,\tAdjusted R-squared:   0.71 \n",
       "F-statistic: 120.9 on 1 and 48 DF,  p-value: 1.028e-14\n"
      ]
     },
     "metadata": {},
     "output_type": "display_data"
    }
   ],
   "source": [
    "summary(lm(y~x, weights=1/x))"
   ]
  },
  {
   "cell_type": "code",
   "execution_count": 15,
   "id": "2a23a6d5",
   "metadata": {
    "ExecuteTime": {
     "end_time": "2021-11-12T14:34:17.218742Z",
     "start_time": "2021-11-12T14:34:17.140Z"
    }
   },
   "outputs": [],
   "source": [
    "library('sandwich')"
   ]
  },
  {
   "cell_type": "code",
   "execution_count": 16,
   "id": "b12f26b4",
   "metadata": {
    "ExecuteTime": {
     "end_time": "2021-11-12T14:34:44.031361Z",
     "start_time": "2021-11-12T14:34:44.017Z"
    }
   },
   "outputs": [],
   "source": [
    "m1 <- lm(y~x)"
   ]
  },
  {
   "cell_type": "code",
   "execution_count": 18,
   "id": "693a1e1a",
   "metadata": {
    "ExecuteTime": {
     "end_time": "2021-11-12T14:35:54.447771Z",
     "start_time": "2021-11-12T14:35:54.398Z"
    }
   },
   "outputs": [
    {
     "data": {
      "text/html": [
       "<table>\n",
       "<caption>A matrix: 2 × 2 of type dbl</caption>\n",
       "<thead>\n",
       "\t<tr><th></th><th scope=col>(Intercept)</th><th scope=col>x</th></tr>\n",
       "</thead>\n",
       "<tbody>\n",
       "\t<tr><th scope=row>(Intercept)</th><td>26.7373875</td><td>-0.99502447</td></tr>\n",
       "\t<tr><th scope=row>x</th><td>-0.9950245</td><td> 0.05035169</td></tr>\n",
       "</tbody>\n",
       "</table>\n"
      ],
      "text/latex": [
       "A matrix: 2 × 2 of type dbl\n",
       "\\begin{tabular}{r|ll}\n",
       "  & (Intercept) & x\\\\\n",
       "\\hline\n",
       "\t(Intercept) & 26.7373875 & -0.99502447\\\\\n",
       "\tx & -0.9950245 &  0.05035169\\\\\n",
       "\\end{tabular}\n"
      ],
      "text/markdown": [
       "\n",
       "A matrix: 2 × 2 of type dbl\n",
       "\n",
       "| <!--/--> | (Intercept) | x |\n",
       "|---|---|---|\n",
       "| (Intercept) | 26.7373875 | -0.99502447 |\n",
       "| x | -0.9950245 |  0.05035169 |\n",
       "\n"
      ],
      "text/plain": [
       "            (Intercept) x          \n",
       "(Intercept) 26.7373875  -0.99502447\n",
       "x           -0.9950245   0.05035169"
      ]
     },
     "metadata": {},
     "output_type": "display_data"
    },
    {
     "data": {
      "text/html": [
       "<table>\n",
       "<caption>A matrix: 2 × 2 of type dbl</caption>\n",
       "<thead>\n",
       "\t<tr><th></th><th scope=col>(Intercept)</th><th scope=col>x</th></tr>\n",
       "</thead>\n",
       "<tbody>\n",
       "\t<tr><th scope=row>(Intercept)</th><td>27.851445</td><td>-1.03648383</td></tr>\n",
       "\t<tr><th scope=row>x</th><td>-1.036484</td><td> 0.05244967</td></tr>\n",
       "</tbody>\n",
       "</table>\n"
      ],
      "text/latex": [
       "A matrix: 2 × 2 of type dbl\n",
       "\\begin{tabular}{r|ll}\n",
       "  & (Intercept) & x\\\\\n",
       "\\hline\n",
       "\t(Intercept) & 27.851445 & -1.03648383\\\\\n",
       "\tx & -1.036484 &  0.05244967\\\\\n",
       "\\end{tabular}\n"
      ],
      "text/markdown": [
       "\n",
       "A matrix: 2 × 2 of type dbl\n",
       "\n",
       "| <!--/--> | (Intercept) | x |\n",
       "|---|---|---|\n",
       "| (Intercept) | 27.851445 | -1.03648383 |\n",
       "| x | -1.036484 |  0.05244967 |\n",
       "\n"
      ],
      "text/plain": [
       "            (Intercept) x          \n",
       "(Intercept) 27.851445   -1.03648383\n",
       "x           -1.036484    0.05244967"
      ]
     },
     "metadata": {},
     "output_type": "display_data"
    },
    {
     "data": {
      "text/html": [
       "<table>\n",
       "<caption>A matrix: 2 × 2 of type dbl</caption>\n",
       "<thead>\n",
       "\t<tr><th></th><th scope=col>(Intercept)</th><th scope=col>x</th></tr>\n",
       "</thead>\n",
       "<tbody>\n",
       "\t<tr><th scope=row>(Intercept)</th><td>28.038551</td><td>-1.04809426</td></tr>\n",
       "\t<tr><th scope=row>x</th><td>-1.048094</td><td> 0.05299115</td></tr>\n",
       "</tbody>\n",
       "</table>\n"
      ],
      "text/latex": [
       "A matrix: 2 × 2 of type dbl\n",
       "\\begin{tabular}{r|ll}\n",
       "  & (Intercept) & x\\\\\n",
       "\\hline\n",
       "\t(Intercept) & 28.038551 & -1.04809426\\\\\n",
       "\tx & -1.048094 &  0.05299115\\\\\n",
       "\\end{tabular}\n"
      ],
      "text/markdown": [
       "\n",
       "A matrix: 2 × 2 of type dbl\n",
       "\n",
       "| <!--/--> | (Intercept) | x |\n",
       "|---|---|---|\n",
       "| (Intercept) | 28.038551 | -1.04809426 |\n",
       "| x | -1.048094 |  0.05299115 |\n",
       "\n"
      ],
      "text/plain": [
       "            (Intercept) x          \n",
       "(Intercept) 28.038551   -1.04809426\n",
       "x           -1.048094    0.05299115"
      ]
     },
     "metadata": {},
     "output_type": "display_data"
    },
    {
     "data": {
      "text/html": [
       "<table>\n",
       "<caption>A matrix: 2 × 2 of type dbl</caption>\n",
       "<thead>\n",
       "\t<tr><th></th><th scope=col>(Intercept)</th><th scope=col>x</th></tr>\n",
       "</thead>\n",
       "<tbody>\n",
       "\t<tr><th scope=row>(Intercept)</th><td>29.41207</td><td>-1.10421000</td></tr>\n",
       "\t<tr><th scope=row>x</th><td>-1.10421</td><td> 0.05577853</td></tr>\n",
       "</tbody>\n",
       "</table>\n"
      ],
      "text/latex": [
       "A matrix: 2 × 2 of type dbl\n",
       "\\begin{tabular}{r|ll}\n",
       "  & (Intercept) & x\\\\\n",
       "\\hline\n",
       "\t(Intercept) & 29.41207 & -1.10421000\\\\\n",
       "\tx & -1.10421 &  0.05577853\\\\\n",
       "\\end{tabular}\n"
      ],
      "text/markdown": [
       "\n",
       "A matrix: 2 × 2 of type dbl\n",
       "\n",
       "| <!--/--> | (Intercept) | x |\n",
       "|---|---|---|\n",
       "| (Intercept) | 29.41207 | -1.10421000 |\n",
       "| x | -1.10421 |  0.05577853 |\n",
       "\n"
      ],
      "text/plain": [
       "            (Intercept) x          \n",
       "(Intercept) 29.41207    -1.10421000\n",
       "x           -1.10421     0.05577853"
      ]
     },
     "metadata": {},
     "output_type": "display_data"
    }
   ],
   "source": [
    "vcovHC(m1, type='HC0')\n",
    "vcovHC(m1, type='HC1')\n",
    "vcovHC(m1, type='HC2')\n",
    "vcovHC(m1, type='HC3')"
   ]
  },
  {
   "cell_type": "code",
   "execution_count": 22,
   "id": "cf15a635",
   "metadata": {
    "ExecuteTime": {
     "end_time": "2021-11-12T14:38:45.289759Z",
     "start_time": "2021-11-12T14:38:45.247Z"
    }
   },
   "outputs": [
    {
     "name": "stderr",
     "output_type": "stream",
     "text": [
      "Loading required package: zoo\n",
      "\n",
      "\n",
      "Attaching package: ‘zoo’\n",
      "\n",
      "\n",
      "The following objects are masked from ‘package:base’:\n",
      "\n",
      "    as.Date, as.Date.numeric\n",
      "\n",
      "\n"
     ]
    }
   ],
   "source": [
    "library('lmtest')"
   ]
  },
  {
   "cell_type": "code",
   "execution_count": 23,
   "id": "18c37cd5",
   "metadata": {
    "ExecuteTime": {
     "end_time": "2021-11-12T14:39:09.191197Z",
     "start_time": "2021-11-12T14:39:09.170Z"
    }
   },
   "outputs": [
    {
     "data": {
      "text/plain": [
       "\n",
       "t test of coefficients:\n",
       "\n",
       "            Estimate Std. Error t value  Pr(>|t|)    \n",
       "(Intercept) -0.30042    5.27745 -0.0569    0.9548    \n",
       "x            2.34834    0.22902 10.2539 1.107e-13 ***\n",
       "---\n",
       "Signif. codes:  0 ‘***’ 0.001 ‘**’ 0.01 ‘*’ 0.05 ‘.’ 0.1 ‘ ’ 1\n"
      ]
     },
     "metadata": {},
     "output_type": "display_data"
    }
   ],
   "source": [
    "coeftest(m1, vcov. = vcovHC(m1, type='HC1'))"
   ]
  },
  {
   "cell_type": "code",
   "execution_count": 24,
   "id": "ec0796f1",
   "metadata": {
    "ExecuteTime": {
     "end_time": "2021-11-12T14:39:24.655566Z",
     "start_time": "2021-11-12T14:39:24.637Z"
    }
   },
   "outputs": [
    {
     "data": {
      "text/plain": [
       "\n",
       "t test of coefficients:\n",
       "\n",
       "            Estimate Std. Error t value  Pr(>|t|)    \n",
       "(Intercept) -0.30042    5.42329 -0.0554    0.9561    \n",
       "x            2.34834    0.23617  9.9432 3.051e-13 ***\n",
       "---\n",
       "Signif. codes:  0 ‘***’ 0.001 ‘**’ 0.01 ‘*’ 0.05 ‘.’ 0.1 ‘ ’ 1\n"
      ]
     },
     "metadata": {},
     "output_type": "display_data"
    }
   ],
   "source": [
    "coeftest(m1, vcov. = vcovHC(m1, type='HC3'))"
   ]
  }
 ],
 "metadata": {
  "hide_input": false,
  "kernelspec": {
   "display_name": "R 4.0.2",
   "language": "R",
   "name": "ir"
  },
  "language_info": {
   "codemirror_mode": "r",
   "file_extension": ".r",
   "mimetype": "text/x-r-source",
   "name": "R",
   "pygments_lexer": "r",
   "version": "4.0.4"
  },
  "latex_envs": {
   "LaTeX_envs_menu_present": true,
   "autoclose": true,
   "autocomplete": true,
   "bibliofile": "biblio.bib",
   "cite_by": "apalike",
   "current_citInitial": 1,
   "eqLabelWithNumbers": true,
   "eqNumInitial": 1,
   "hotkeys": {
    "equation": "Ctrl-E",
    "itemize": "Ctrl-I"
   },
   "labels_anchors": false,
   "latex_user_defs": false,
   "report_style_numbering": false,
   "user_envs_cfg": false
  },
  "toc": {
   "base_numbering": 1,
   "nav_menu": {},
   "number_sections": true,
   "sideBar": true,
   "skip_h1_title": false,
   "title_cell": "Table of Contents",
   "title_sidebar": "Contents",
   "toc_cell": false,
   "toc_position": {},
   "toc_section_display": true,
   "toc_window_display": false
  },
  "varInspector": {
   "cols": {
    "lenName": 16,
    "lenType": 16,
    "lenVar": 40
   },
   "kernels_config": {
    "python": {
     "delete_cmd_postfix": "",
     "delete_cmd_prefix": "del ",
     "library": "var_list.py",
     "varRefreshCmd": "print(var_dic_list())"
    },
    "r": {
     "delete_cmd_postfix": ") ",
     "delete_cmd_prefix": "rm(",
     "library": "var_list.r",
     "varRefreshCmd": "cat(var_dic_list()) "
    }
   },
   "types_to_exclude": [
    "module",
    "function",
    "builtin_function_or_method",
    "instance",
    "_Feature"
   ],
   "window_display": false
  }
 },
 "nbformat": 4,
 "nbformat_minor": 5
}
