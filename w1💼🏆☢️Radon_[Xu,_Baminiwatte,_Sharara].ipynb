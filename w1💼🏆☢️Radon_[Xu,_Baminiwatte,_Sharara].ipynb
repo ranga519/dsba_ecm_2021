{
  "nbformat": 4,
  "nbformat_minor": 0,
  "metadata": {
    "colab": {
      "name": "w1💼🏆☢️Radon.[Xu, Baminiwatte, Sharara].ipynb",
      "provenance": [],
      "collapsed_sections": [],
      "include_colab_link": true
    },
    "kernelspec": {
      "name": "ir",
      "display_name": "R"
    },
    "language_info": {
      "name": "R"
    }
  },
  "cells": [
    {
      "cell_type": "markdown",
      "metadata": {
        "id": "view-in-github",
        "colab_type": "text"
      },
      "source": [
        "<a href=\"https://colab.research.google.com/github/ranga519/dsba_ecm_2021/blob/main/w1%F0%9F%92%BC%F0%9F%8F%86%E2%98%A2%EF%B8%8FRadon_%5BXu%2C_Baminiwatte%2C_Sharara%5D.ipynb\" target=\"_parent\"><img src=\"https://colab.research.google.com/assets/colab-badge.svg\" alt=\"Open In Colab\"/></a>"
      ]
    },
    {
      "cell_type": "markdown",
      "source": [
        "1. **Kaggle public LB rank & score**: 5, 66.60339\n",
        "1. **Kaggle team name**:DU-XBS-Xu, Baminiwatte, Sharara\n",
        "  1. Use format (without brackets): `[ProGroup ID]-[Your fancy Kaggle group name]-[Team member names]`. \n",
        "  1. [E.g.](https://en.wikipedia.org/wiki/List_of_Latin_phrases_(E)#exempli_gratia) `DA-Dota-Lazareva,Iazykova,Ovyan` (see Rules in Kaggle for ProGroup ID)\n",
        "1. Our Colab uses [CPU | GPU | TPU]\n",
        "\n",
        "Your private LB score must be reproducible with this Colab. Seed all [RNG](https://en.wikipedia.org/wiki/Random_number_generation). Don't exceed runtime."
      ],
      "metadata": {
        "id": "XFR0iVYsHmIG"
      }
    },
    {
      "cell_type": "markdown",
      "source": [
        "<hr color=darkblue>\n",
        "\n",
        "# **1💼🏆☢️Radon**\n",
        "\n",
        "<details><summary><font color=darkblue>More info and Kaggle API instructions</font></summary>\n",
        "\n",
        "**Public URL** with read-only access is [here](https://www.kaggle.com/c/1-10-22-radon/rules). See competition rules, submission, grading, dataset, and performance metric. The **starter code** below produces a baseline model, which you should beat, while respecting the competition rules. Your code starts after the timer. This is your baseline model. Seed all [RNG](https://en.wikipedia.org/wiki/Random_number_generation) for reproducibility!\n",
        "\n",
        "**Instructions for enabling Kaggle API in Colab**:\n",
        "1. Accept competition rules before running [Kaggle API](https://github.com/Kaggle/kaggle-api#api-credentials). [Loading Kaggle dataset example](https://www.analyticsvidhya.com/blog/2021/06/how-to-load-kaggle-datasets-directly-into-google-colab)\n",
        "1. In your Kaggle Account, [Create API Token](https://github.com/Kaggle/kaggle-api#api-credentials) and save the resulting **kaggle.json** file to the root of your Google Colab file directory\n",
        "\n",
        "Your Kaggle/Google Drive credentials are secure; and Colab's kaggle.json only lasts a Colab session.\n",
        "\n",
        "</details>\n"
      ],
      "metadata": {
        "id": "3ZgUQ_-x-vGy"
      }
    },
    {
      "cell_type": "code",
      "execution_count": null,
      "metadata": {
        "id": "pcYjgu6TFSNU"
      },
      "outputs": [],
      "source": [
        "# library() # shows packages installed in Colab noteboook "
      ]
    },
    {
      "cell_type": "code",
      "source": [
        "install.packages(\"caret\")\n",
        "install.packages('fastDummies')\n",
        "library('fastDummies')\n",
        "library(tidyverse)\n",
        "library(caret)"
      ],
      "metadata": {
        "id": "Q2XGzsCoxNeu",
        "colab": {
          "base_uri": "https://localhost:8080/"
        },
        "outputId": "0bec36f0-16e3-4c60-8330-5573cca77b4b"
      },
      "execution_count": null,
      "outputs": [
        {
          "output_type": "stream",
          "name": "stderr",
          "text": [
            "Installing package into ‘/usr/local/lib/R/site-library’\n",
            "(as ‘lib’ is unspecified)\n",
            "\n",
            "Installing package into ‘/usr/local/lib/R/site-library’\n",
            "(as ‘lib’ is unspecified)\n",
            "\n",
            "Warning message in system(\"timedatectl\", intern = TRUE):\n",
            "“running command 'timedatectl' had status 1”\n",
            "── \u001b[1mAttaching packages\u001b[22m ─────────────────────────────────────── tidyverse 1.3.1 ──\n",
            "\n",
            "\u001b[32m✔\u001b[39m \u001b[34mggplot2\u001b[39m 3.3.5     \u001b[32m✔\u001b[39m \u001b[34mpurrr  \u001b[39m 0.3.4\n",
            "\u001b[32m✔\u001b[39m \u001b[34mtibble \u001b[39m 3.1.6     \u001b[32m✔\u001b[39m \u001b[34mdplyr  \u001b[39m 1.0.7\n",
            "\u001b[32m✔\u001b[39m \u001b[34mtidyr  \u001b[39m 1.1.4     \u001b[32m✔\u001b[39m \u001b[34mstringr\u001b[39m 1.4.0\n",
            "\u001b[32m✔\u001b[39m \u001b[34mreadr  \u001b[39m 2.1.1     \u001b[32m✔\u001b[39m \u001b[34mforcats\u001b[39m 0.5.1\n",
            "\n",
            "── \u001b[1mConflicts\u001b[22m ────────────────────────────────────────── tidyverse_conflicts() ──\n",
            "\u001b[31m✖\u001b[39m \u001b[34mdplyr\u001b[39m::\u001b[32mfilter()\u001b[39m masks \u001b[34mstats\u001b[39m::filter()\n",
            "\u001b[31m✖\u001b[39m \u001b[34mdplyr\u001b[39m::\u001b[32mlag()\u001b[39m    masks \u001b[34mstats\u001b[39m::lag()\n",
            "\n",
            "Loading required package: lattice\n",
            "\n",
            "\n",
            "Attaching package: ‘caret’\n",
            "\n",
            "\n",
            "The following object is masked from ‘package:purrr’:\n",
            "\n",
            "    lift\n",
            "\n",
            "\n"
          ]
        }
      ]
    },
    {
      "cell_type": "code",
      "source": [
        "library(httr, quietly=T); library(crayon)\n",
        "Competition = '1-10-22-radon'\n",
        "FileCSV = 'XY_radon.csv'\n",
        "FileZip = 'XY_radon.zip'\n",
        "capture.output( devtools::install_github(\"mkearney/kaggler\"), file='log_kaggler_install.txt') # https://github.com/mkearney/kaggler\n",
        "# capture.output( kaggler::kgl_auth(creds_file='kaggle.json'), file='log_auth.txt')     # log is deleted when session ends\n",
        "url = paste0('https://www.kaggle.com/api/v1/competitions/data/download/', Competition,'/', FileCSV)\n",
        "FileURL = httr::GET(url, kaggler::kgl_auth())$url   # extract full path to zipped data file\n",
        "download.file(FileURL, FileZip, quiet=T, mode=\"wb\") # download zipped data file\n",
        "system(paste0('unzip ', FileZip), intern=T)         # oddly unzip() fails to properly unzip\n",
        "kaggler::kgl_competitions_leaderboard_view(Competition)\n",
        "timeLim = 60  # seconds"
      ],
      "metadata": {
        "colab": {
          "base_uri": "https://localhost:8080/",
          "height": 1316
        },
        "id": "G2zTOk5xHvbs",
        "outputId": "88f6f095-706f-4593-9fe3-d59b868492e5"
      },
      "execution_count": null,
      "outputs": [
        {
          "output_type": "stream",
          "name": "stderr",
          "text": [
            "\n",
            "Attaching package: ‘httr’\n",
            "\n",
            "\n",
            "The following object is masked from ‘package:caret’:\n",
            "\n",
            "    progress\n",
            "\n",
            "\n",
            "\n",
            "Attaching package: ‘crayon’\n",
            "\n",
            "\n",
            "The following object is masked from ‘package:ggplot2’:\n",
            "\n",
            "    %+%\n",
            "\n",
            "\n",
            "Skipping install of 'kaggler' from a github remote, the SHA1 (530b3af5) has not changed since last install.\n",
            "  Use `force = TRUE` to force installation\n",
            "\n",
            "Warning message in system(paste0(\"unzip \", FileZip), intern = T):\n",
            "“running command 'unzip XY_radon.zip' had status 1”\n"
          ]
        },
        {
          "output_type": "display_data",
          "data": {
            "text/plain": [
              "[1] \"Archive:  XY_radon.zip\"\n",
              "attr(,\"status\")\n",
              "[1] 1\n",
              "attr(,\"errmsg\")\n",
              "[1] \"Resource temporarily unavailable\""
            ],
            "text/latex": "'Archive:  XY\\_radon.zip'",
            "text/markdown": "<span style=white-space:pre-wrap>'Archive:  XY_radon.zip'</span>",
            "text/html": [
              "<span style=white-space:pre-wrap>'Archive:  XY_radon.zip'</span>"
            ]
          },
          "metadata": {}
        },
        {
          "output_type": "display_data",
          "data": {
            "text/plain": [
              "$submissions\n",
              "    teamId                                                      teamName\n",
              "1  8047587                                    DP-O-Gyursoy, Ruban, Kouis\n",
              "2  8032645                        IC-Chernobyl-Adshead, Argunov, Odnakov\n",
              "3  8015307                              DH-GG-Ignatev, Zotov, Lanin nado\n",
              "4  8044085                DT-DikiyApelsin-Fayzulina, Goncharov, Kurbatov\n",
              "5  8033647                               DU-XBS-Xu, Baminiwatte, Sharara\n",
              "6  7993311                               DR-Dre-Mozharov,Malchenko,Veips\n",
              "7  8048352        1A-CE-Fakhretdinov Emil, Alyakaev Kamil, Parakal Steve\n",
              "8  8020146               IA-Waterfall-Grigorenko, Lukianov, Miniakhmetov\n",
              "9  8042973         DM-BBB-Boris Vasilev, Oleg Ivanov, Mikhail Vinogradov\n",
              "10 8047880                               DG-Apricot-Rybnikova,Rutsinskiy\n",
              "11 8048332                       DJ-Sharky-Kukarkin, Chernikova, Nikitin\n",
              "12 8046140 DB - tea_instance - Kolobaev, Kobylkin, Stepin, Korotonozhkin\n",
              "13 8032573                    IB-Mars-Ivanushkina, Bakhtiyarov, Blanutsa\n",
              "14 8045029                DQ-Still Learning R-Calmanovici,Korzun,Zaitsew\n",
              "15 8044101            DC-Freeriders-Ushakov, Egorov, Markevich, Dittrich\n",
              "16 8047368                         DD-MBK-Madhavan, Bashminova, Kotukhov\n",
              "17 8014611                                                     Barevdzes\n",
              "18 8035361                                                 Maria Adshead\n",
              "19 8047892                             DI-Tanks-Vasyutin,Fishman,Omarova\n",
              "20 8048458                              DK-Kefir-Lysanyuk,Dzhkha,Babayan\n",
              "21 8048913                           DN-TeamName-Dryagin, Lakeev, Karcha\n",
              "22 8049056                          1F-AmilyTherapy-Repin,Kokin,Poletaev\n",
              "23 8043770                            DS-cuties-Yakunina,Ivanov,Astanina\n",
              "24 8043611                                  DL-TeamName-Sokolov,Yangirov\n",
              "25 7999879                                                 ☢️baseline.csv\n",
              "                 submissionDate    score\n",
              "1  2022-01-23T14:32:18.0466667Z 22.07215\n",
              "2  2022-01-23T15:15:17.7266667Z 60.76185\n",
              "3       2022-01-23T16:18:37.85Z 64.81290\n",
              "4  2022-01-23T17:15:03.3133333Z 66.27496\n",
              "5       2022-01-24T10:52:10.25Z 66.60339\n",
              "6  2022-01-23T15:49:20.3933333Z 66.78625\n",
              "7  2022-01-23T15:50:06.3066667Z 66.83579\n",
              "8  2022-01-23T21:28:02.3633333Z 66.89995\n",
              "9  2022-01-23T20:45:50.5666667Z 67.06925\n",
              "10 2022-01-23T15:42:52.5833333Z 67.07861\n",
              "11 2022-01-23T17:12:24.0933333Z 67.56712\n",
              "12 2022-01-23T20:05:58.8866667Z 68.12335\n",
              "13 2022-01-23T20:48:13.0433333Z 68.50623\n",
              "14      2022-01-23T21:08:58.15Z 69.06333\n",
              "15 2022-01-23T13:20:51.4466667Z 69.54720\n",
              "16 2022-01-23T16:55:13.4033333Z 69.54720\n",
              "17 2022-01-20T11:12:47.0166667Z 69.90982\n",
              "18      2022-01-21T12:02:48.35Z 70.84976\n",
              "19      2022-01-23T20:47:06.01Z 71.36608\n",
              "20       2022-01-23T20:23:30.9Z 71.47870\n",
              "21      2022-01-23T20:18:18.03Z 71.63355\n",
              "22 2022-01-23T20:42:44.8333333Z 71.63355\n",
              "23      2022-01-23T18:19:24.46Z 71.92301\n",
              "24 2022-01-23T20:49:39.4433333Z 72.92202\n",
              "25      2022-01-12T02:06:29.52Z 72.97293\n"
            ],
            "text/latex": "\\textbf{\\$submissions} = A data.frame: 25 × 4\n\\begin{tabular}{r|llll}\n  & teamId & teamName & submissionDate & score\\\\\n  & <int> & <chr> & <chr> & <chr>\\\\\n\\hline\n\t1 & 8047587 & DP-O-Gyursoy, Ruban, Kouis                                    & 2022-01-23T14:32:18.0466667Z & 22.07215\\\\\n\t2 & 8032645 & IC-Chernobyl-Adshead, Argunov, Odnakov                        & 2022-01-23T15:15:17.7266667Z & 60.76185\\\\\n\t3 & 8015307 & DH-GG-Ignatev, Zotov, Lanin nado                              & 2022-01-23T16:18:37.85Z      & 64.81290\\\\\n\t4 & 8044085 & DT-DikiyApelsin-Fayzulina, Goncharov, Kurbatov                & 2022-01-23T17:15:03.3133333Z & 66.27496\\\\\n\t5 & 8033647 & DU-XBS-Xu, Baminiwatte, Sharara                               & 2022-01-24T10:52:10.25Z      & 66.60339\\\\\n\t6 & 7993311 & DR-Dre-Mozharov,Malchenko,Veips                               & 2022-01-23T15:49:20.3933333Z & 66.78625\\\\\n\t7 & 8048352 & 1A-CE-Fakhretdinov Emil, Alyakaev Kamil, Parakal Steve        & 2022-01-23T15:50:06.3066667Z & 66.83579\\\\\n\t8 & 8020146 & IA-Waterfall-Grigorenko, Lukianov, Miniakhmetov               & 2022-01-23T21:28:02.3633333Z & 66.89995\\\\\n\t9 & 8042973 & DM-BBB-Boris Vasilev, Oleg Ivanov, Mikhail Vinogradov         & 2022-01-23T20:45:50.5666667Z & 67.06925\\\\\n\t10 & 8047880 & DG-Apricot-Rybnikova,Rutsinskiy                               & 2022-01-23T15:42:52.5833333Z & 67.07861\\\\\n\t11 & 8048332 & DJ-Sharky-Kukarkin, Chernikova, Nikitin                       & 2022-01-23T17:12:24.0933333Z & 67.56712\\\\\n\t12 & 8046140 & DB - tea\\_instance - Kolobaev, Kobylkin, Stepin, Korotonozhkin & 2022-01-23T20:05:58.8866667Z & 68.12335\\\\\n\t13 & 8032573 & IB-Mars-Ivanushkina, Bakhtiyarov, Blanutsa                    & 2022-01-23T20:48:13.0433333Z & 68.50623\\\\\n\t14 & 8045029 & DQ-Still Learning R-Calmanovici,Korzun,Zaitsew                & 2022-01-23T21:08:58.15Z      & 69.06333\\\\\n\t15 & 8044101 & DC-Freeriders-Ushakov, Egorov, Markevich, Dittrich            & 2022-01-23T13:20:51.4466667Z & 69.54720\\\\\n\t16 & 8047368 & DD-MBK-Madhavan, Bashminova, Kotukhov                         & 2022-01-23T16:55:13.4033333Z & 69.54720\\\\\n\t17 & 8014611 & Barevdzes                                                     & 2022-01-20T11:12:47.0166667Z & 69.90982\\\\\n\t18 & 8035361 & Maria Adshead                                                 & 2022-01-21T12:02:48.35Z      & 70.84976\\\\\n\t19 & 8047892 & DI-Tanks-Vasyutin,Fishman,Omarova                             & 2022-01-23T20:47:06.01Z      & 71.36608\\\\\n\t20 & 8048458 & DK-Kefir-Lysanyuk,Dzhkha,Babayan                              & 2022-01-23T20:23:30.9Z       & 71.47870\\\\\n\t21 & 8048913 & DN-TeamName-Dryagin, Lakeev, Karcha                           & 2022-01-23T20:18:18.03Z      & 71.63355\\\\\n\t22 & 8049056 & 1F-AmilyTherapy-Repin,Kokin,Poletaev                          & 2022-01-23T20:42:44.8333333Z & 71.63355\\\\\n\t23 & 8043770 & DS-cuties-Yakunina,Ivanov,Astanina                            & 2022-01-23T18:19:24.46Z      & 71.92301\\\\\n\t24 & 8043611 & DL-TeamName-Sokolov,Yangirov                                  & 2022-01-23T20:49:39.4433333Z & 72.92202\\\\\n\t25 & 7999879 & ☢️baseline.csv                                                 & 2022-01-12T02:06:29.52Z      & 72.97293\\\\\n\\end{tabular}\n",
            "text/markdown": "**$submissions** = \nA data.frame: 25 × 4\n\n| <!--/--> | teamId &lt;int&gt; | teamName &lt;chr&gt; | submissionDate &lt;chr&gt; | score &lt;chr&gt; |\n|---|---|---|---|---|\n| 1 | 8047587 | DP-O-Gyursoy, Ruban, Kouis                                    | 2022-01-23T14:32:18.0466667Z | 22.07215 |\n| 2 | 8032645 | IC-Chernobyl-Adshead, Argunov, Odnakov                        | 2022-01-23T15:15:17.7266667Z | 60.76185 |\n| 3 | 8015307 | DH-GG-Ignatev, Zotov, Lanin nado                              | 2022-01-23T16:18:37.85Z      | 64.81290 |\n| 4 | 8044085 | DT-DikiyApelsin-Fayzulina, Goncharov, Kurbatov                | 2022-01-23T17:15:03.3133333Z | 66.27496 |\n| 5 | 8033647 | DU-XBS-Xu, Baminiwatte, Sharara                               | 2022-01-24T10:52:10.25Z      | 66.60339 |\n| 6 | 7993311 | DR-Dre-Mozharov,Malchenko,Veips                               | 2022-01-23T15:49:20.3933333Z | 66.78625 |\n| 7 | 8048352 | 1A-CE-Fakhretdinov Emil, Alyakaev Kamil, Parakal Steve        | 2022-01-23T15:50:06.3066667Z | 66.83579 |\n| 8 | 8020146 | IA-Waterfall-Grigorenko, Lukianov, Miniakhmetov               | 2022-01-23T21:28:02.3633333Z | 66.89995 |\n| 9 | 8042973 | DM-BBB-Boris Vasilev, Oleg Ivanov, Mikhail Vinogradov         | 2022-01-23T20:45:50.5666667Z | 67.06925 |\n| 10 | 8047880 | DG-Apricot-Rybnikova,Rutsinskiy                               | 2022-01-23T15:42:52.5833333Z | 67.07861 |\n| 11 | 8048332 | DJ-Sharky-Kukarkin, Chernikova, Nikitin                       | 2022-01-23T17:12:24.0933333Z | 67.56712 |\n| 12 | 8046140 | DB - tea_instance - Kolobaev, Kobylkin, Stepin, Korotonozhkin | 2022-01-23T20:05:58.8866667Z | 68.12335 |\n| 13 | 8032573 | IB-Mars-Ivanushkina, Bakhtiyarov, Blanutsa                    | 2022-01-23T20:48:13.0433333Z | 68.50623 |\n| 14 | 8045029 | DQ-Still Learning R-Calmanovici,Korzun,Zaitsew                | 2022-01-23T21:08:58.15Z      | 69.06333 |\n| 15 | 8044101 | DC-Freeriders-Ushakov, Egorov, Markevich, Dittrich            | 2022-01-23T13:20:51.4466667Z | 69.54720 |\n| 16 | 8047368 | DD-MBK-Madhavan, Bashminova, Kotukhov                         | 2022-01-23T16:55:13.4033333Z | 69.54720 |\n| 17 | 8014611 | Barevdzes                                                     | 2022-01-20T11:12:47.0166667Z | 69.90982 |\n| 18 | 8035361 | Maria Adshead                                                 | 2022-01-21T12:02:48.35Z      | 70.84976 |\n| 19 | 8047892 | DI-Tanks-Vasyutin,Fishman,Omarova                             | 2022-01-23T20:47:06.01Z      | 71.36608 |\n| 20 | 8048458 | DK-Kefir-Lysanyuk,Dzhkha,Babayan                              | 2022-01-23T20:23:30.9Z       | 71.47870 |\n| 21 | 8048913 | DN-TeamName-Dryagin, Lakeev, Karcha                           | 2022-01-23T20:18:18.03Z      | 71.63355 |\n| 22 | 8049056 | 1F-AmilyTherapy-Repin,Kokin,Poletaev                          | 2022-01-23T20:42:44.8333333Z | 71.63355 |\n| 23 | 8043770 | DS-cuties-Yakunina,Ivanov,Astanina                            | 2022-01-23T18:19:24.46Z      | 71.92301 |\n| 24 | 8043611 | DL-TeamName-Sokolov,Yangirov                                  | 2022-01-23T20:49:39.4433333Z | 72.92202 |\n| 25 | 7999879 | ☢️baseline.csv                                                 | 2022-01-12T02:06:29.52Z      | 72.97293 |\n\n",
            "text/html": [
              "<strong>$submissions</strong> = <table class=\"dataframe\">\n",
              "<caption>A data.frame: 25 × 4</caption>\n",
              "<thead>\n",
              "\t<tr><th></th><th scope=col>teamId</th><th scope=col>teamName</th><th scope=col>submissionDate</th><th scope=col>score</th></tr>\n",
              "\t<tr><th></th><th scope=col>&lt;int&gt;</th><th scope=col>&lt;chr&gt;</th><th scope=col>&lt;chr&gt;</th><th scope=col>&lt;chr&gt;</th></tr>\n",
              "</thead>\n",
              "<tbody>\n",
              "\t<tr><th scope=row>1</th><td>8047587</td><td>DP-O-Gyursoy, Ruban, Kouis                                   </td><td>2022-01-23T14:32:18.0466667Z</td><td>22.07215</td></tr>\n",
              "\t<tr><th scope=row>2</th><td>8032645</td><td>IC-Chernobyl-Adshead, Argunov, Odnakov                       </td><td>2022-01-23T15:15:17.7266667Z</td><td>60.76185</td></tr>\n",
              "\t<tr><th scope=row>3</th><td>8015307</td><td>DH-GG-Ignatev, Zotov, Lanin nado                             </td><td>2022-01-23T16:18:37.85Z     </td><td>64.81290</td></tr>\n",
              "\t<tr><th scope=row>4</th><td>8044085</td><td>DT-DikiyApelsin-Fayzulina, Goncharov, Kurbatov               </td><td>2022-01-23T17:15:03.3133333Z</td><td>66.27496</td></tr>\n",
              "\t<tr><th scope=row>5</th><td>8033647</td><td>DU-XBS-Xu, Baminiwatte, Sharara                              </td><td>2022-01-24T10:52:10.25Z     </td><td>66.60339</td></tr>\n",
              "\t<tr><th scope=row>6</th><td>7993311</td><td>DR-Dre-Mozharov,Malchenko,Veips                              </td><td>2022-01-23T15:49:20.3933333Z</td><td>66.78625</td></tr>\n",
              "\t<tr><th scope=row>7</th><td>8048352</td><td>1A-CE-Fakhretdinov Emil, Alyakaev Kamil, Parakal Steve       </td><td>2022-01-23T15:50:06.3066667Z</td><td>66.83579</td></tr>\n",
              "\t<tr><th scope=row>8</th><td>8020146</td><td>IA-Waterfall-Grigorenko, Lukianov, Miniakhmetov              </td><td>2022-01-23T21:28:02.3633333Z</td><td>66.89995</td></tr>\n",
              "\t<tr><th scope=row>9</th><td>8042973</td><td>DM-BBB-Boris Vasilev, Oleg Ivanov, Mikhail Vinogradov        </td><td>2022-01-23T20:45:50.5666667Z</td><td>67.06925</td></tr>\n",
              "\t<tr><th scope=row>10</th><td>8047880</td><td>DG-Apricot-Rybnikova,Rutsinskiy                              </td><td>2022-01-23T15:42:52.5833333Z</td><td>67.07861</td></tr>\n",
              "\t<tr><th scope=row>11</th><td>8048332</td><td>DJ-Sharky-Kukarkin, Chernikova, Nikitin                      </td><td>2022-01-23T17:12:24.0933333Z</td><td>67.56712</td></tr>\n",
              "\t<tr><th scope=row>12</th><td>8046140</td><td>DB - tea_instance - Kolobaev, Kobylkin, Stepin, Korotonozhkin</td><td>2022-01-23T20:05:58.8866667Z</td><td>68.12335</td></tr>\n",
              "\t<tr><th scope=row>13</th><td>8032573</td><td>IB-Mars-Ivanushkina, Bakhtiyarov, Blanutsa                   </td><td>2022-01-23T20:48:13.0433333Z</td><td>68.50623</td></tr>\n",
              "\t<tr><th scope=row>14</th><td>8045029</td><td>DQ-Still Learning R-Calmanovici,Korzun,Zaitsew               </td><td>2022-01-23T21:08:58.15Z     </td><td>69.06333</td></tr>\n",
              "\t<tr><th scope=row>15</th><td>8044101</td><td>DC-Freeriders-Ushakov, Egorov, Markevich, Dittrich           </td><td>2022-01-23T13:20:51.4466667Z</td><td>69.54720</td></tr>\n",
              "\t<tr><th scope=row>16</th><td>8047368</td><td>DD-MBK-Madhavan, Bashminova, Kotukhov                        </td><td>2022-01-23T16:55:13.4033333Z</td><td>69.54720</td></tr>\n",
              "\t<tr><th scope=row>17</th><td>8014611</td><td>Barevdzes                                                    </td><td>2022-01-20T11:12:47.0166667Z</td><td>69.90982</td></tr>\n",
              "\t<tr><th scope=row>18</th><td>8035361</td><td>Maria Adshead                                                </td><td>2022-01-21T12:02:48.35Z     </td><td>70.84976</td></tr>\n",
              "\t<tr><th scope=row>19</th><td>8047892</td><td>DI-Tanks-Vasyutin,Fishman,Omarova                            </td><td>2022-01-23T20:47:06.01Z     </td><td>71.36608</td></tr>\n",
              "\t<tr><th scope=row>20</th><td>8048458</td><td>DK-Kefir-Lysanyuk,Dzhkha,Babayan                             </td><td>2022-01-23T20:23:30.9Z      </td><td>71.47870</td></tr>\n",
              "\t<tr><th scope=row>21</th><td>8048913</td><td>DN-TeamName-Dryagin, Lakeev, Karcha                          </td><td>2022-01-23T20:18:18.03Z     </td><td>71.63355</td></tr>\n",
              "\t<tr><th scope=row>22</th><td>8049056</td><td>1F-AmilyTherapy-Repin,Kokin,Poletaev                         </td><td>2022-01-23T20:42:44.8333333Z</td><td>71.63355</td></tr>\n",
              "\t<tr><th scope=row>23</th><td>8043770</td><td>DS-cuties-Yakunina,Ivanov,Astanina                           </td><td>2022-01-23T18:19:24.46Z     </td><td>71.92301</td></tr>\n",
              "\t<tr><th scope=row>24</th><td>8043611</td><td>DL-TeamName-Sokolov,Yangirov                                 </td><td>2022-01-23T20:49:39.4433333Z</td><td>72.92202</td></tr>\n",
              "\t<tr><th scope=row>25</th><td>7999879</td><td>☢️baseline.csv                                                </td><td>2022-01-12T02:06:29.52Z     </td><td>72.97293</td></tr>\n",
              "</tbody>\n",
              "</table>\n"
            ]
          },
          "metadata": {}
        }
      ]
    },
    {
      "cell_type": "markdown",
      "source": [
        "**A Brief EDA**: Below we load the CSV file and display a few rows from each dataframe, train and test. Notice the textual and categorical fields. Some ordinal fields, such as floor, date and time, can be used as is, but zip code and county might benefit from encoding."
      ],
      "metadata": {
        "id": "nBvyKPxNHVOn"
      }
    },
    {
      "cell_type": "code",
      "source": [
        "t0 <- Sys.time()"
      ],
      "metadata": {
        "id": "46zRgc1tLVJ3"
      },
      "execution_count": null,
      "outputs": []
    },
    {
      "cell_type": "code",
      "source": [
        "XY = read.csv('XY_radon.csv') \n",
        "NumericCols =  unlist(lapply(XY, is.numeric))   # find numeric columns (includes categorical features: zip, zipflag, floor, ...)\n",
        "vX = XY[is.na(XY$Y), !(names(XY) %in% c('Y'))]  # testing inputs only\n",
        "tXY = XY[!is.na(XY$Y), ]    # training inputs with output Y\n",
        "tail(vX, 3)    # print tail of test set\n",
        "head(tXY, 3)   # print head of training set"
      ],
      "metadata": {
        "id": "OzwCxAk-H6tJ",
        "outputId": "16423113-6c15-40f4-fb50-c9ce95ee2e2b",
        "colab": {
          "base_uri": "https://localhost:8080/",
          "height": 387
        }
      },
      "execution_count": null,
      "outputs": [
        {
          "output_type": "display_data",
          "data": {
            "text/plain": [
              "     Uppm    adjwt     basement cntyfips county     dupflag floor lat   \n",
              "6284 2.37652  863.7998 N        97       MARION     0       1     39.731\n",
              "6285 2.48179  883.6129 N        23       CLINTON    0       1     40.041\n",
              "6286 2.96551 2083.6527 Y        91       MONTGOMERY 0       0     40.456\n",
              "     lon     pcterr ⋯ state2 stfips stopdt stoptm stratum typebldg wave windoor\n",
              "6284 -85.983 13.279 ⋯ IN     18     40500  1835   4       1        73   NA     \n",
              "6285 -86.982  0.000 ⋯ IN     18     32602  1830   4       1        72   NA     \n",
              "6286 -75.645  7.098 ⋯ PA     42     12498  1100   5       1        81   NA     \n",
              "     zip   zipflag\n",
              "6284 46231 0      \n",
              "6285 46050 0      \n",
              "6286 19426 0      "
            ],
            "text/latex": "A data.frame: 3 × 26\n\\begin{tabular}{r|lllllllllllllllllllll}\n  & Uppm & adjwt & basement & cntyfips & county & dupflag & floor & lat & lon & pcterr & ⋯ & state2 & stfips & stopdt & stoptm & stratum & typebldg & wave & windoor & zip & zipflag\\\\\n  & <dbl> & <dbl> & <chr> & <int> & <chr> & <int> & <int> & <dbl> & <dbl> & <dbl> & ⋯ & <chr> & <int> & <int> & <int> & <int> & <int> & <int> & <lgl> & <int> & <int>\\\\\n\\hline\n\t6284 & 2.37652 &  863.7998 & N & 97 & MARION     & 0 & 1 & 39.731 & -85.983 & 13.279 & ⋯ & IN & 18 & 40500 & 1835 & 4 & 1 & 73 & NA & 46231 & 0\\\\\n\t6285 & 2.48179 &  883.6129 & N & 23 & CLINTON    & 0 & 1 & 40.041 & -86.982 &  0.000 & ⋯ & IN & 18 & 32602 & 1830 & 4 & 1 & 72 & NA & 46050 & 0\\\\\n\t6286 & 2.96551 & 2083.6527 & Y & 91 & MONTGOMERY & 0 & 0 & 40.456 & -75.645 &  7.098 & ⋯ & PA & 42 & 12498 & 1100 & 5 & 1 & 81 & NA & 19426 & 0\\\\\n\\end{tabular}\n",
            "text/markdown": "\nA data.frame: 3 × 26\n\n| <!--/--> | Uppm &lt;dbl&gt; | adjwt &lt;dbl&gt; | basement &lt;chr&gt; | cntyfips &lt;int&gt; | county &lt;chr&gt; | dupflag &lt;int&gt; | floor &lt;int&gt; | lat &lt;dbl&gt; | lon &lt;dbl&gt; | pcterr &lt;dbl&gt; | ⋯ ⋯ | state2 &lt;chr&gt; | stfips &lt;int&gt; | stopdt &lt;int&gt; | stoptm &lt;int&gt; | stratum &lt;int&gt; | typebldg &lt;int&gt; | wave &lt;int&gt; | windoor &lt;lgl&gt; | zip &lt;int&gt; | zipflag &lt;int&gt; |\n|---|---|---|---|---|---|---|---|---|---|---|---|---|---|---|---|---|---|---|---|---|---|\n| 6284 | 2.37652 |  863.7998 | N | 97 | MARION     | 0 | 1 | 39.731 | -85.983 | 13.279 | ⋯ | IN | 18 | 40500 | 1835 | 4 | 1 | 73 | NA | 46231 | 0 |\n| 6285 | 2.48179 |  883.6129 | N | 23 | CLINTON    | 0 | 1 | 40.041 | -86.982 |  0.000 | ⋯ | IN | 18 | 32602 | 1830 | 4 | 1 | 72 | NA | 46050 | 0 |\n| 6286 | 2.96551 | 2083.6527 | Y | 91 | MONTGOMERY | 0 | 0 | 40.456 | -75.645 |  7.098 | ⋯ | PA | 42 | 12498 | 1100 | 5 | 1 | 81 | NA | 19426 | 0 |\n\n",
            "text/html": [
              "<table class=\"dataframe\">\n",
              "<caption>A data.frame: 3 × 26</caption>\n",
              "<thead>\n",
              "\t<tr><th></th><th scope=col>Uppm</th><th scope=col>adjwt</th><th scope=col>basement</th><th scope=col>cntyfips</th><th scope=col>county</th><th scope=col>dupflag</th><th scope=col>floor</th><th scope=col>lat</th><th scope=col>lon</th><th scope=col>pcterr</th><th scope=col>⋯</th><th scope=col>state2</th><th scope=col>stfips</th><th scope=col>stopdt</th><th scope=col>stoptm</th><th scope=col>stratum</th><th scope=col>typebldg</th><th scope=col>wave</th><th scope=col>windoor</th><th scope=col>zip</th><th scope=col>zipflag</th></tr>\n",
              "\t<tr><th></th><th scope=col>&lt;dbl&gt;</th><th scope=col>&lt;dbl&gt;</th><th scope=col>&lt;chr&gt;</th><th scope=col>&lt;int&gt;</th><th scope=col>&lt;chr&gt;</th><th scope=col>&lt;int&gt;</th><th scope=col>&lt;int&gt;</th><th scope=col>&lt;dbl&gt;</th><th scope=col>&lt;dbl&gt;</th><th scope=col>&lt;dbl&gt;</th><th scope=col>⋯</th><th scope=col>&lt;chr&gt;</th><th scope=col>&lt;int&gt;</th><th scope=col>&lt;int&gt;</th><th scope=col>&lt;int&gt;</th><th scope=col>&lt;int&gt;</th><th scope=col>&lt;int&gt;</th><th scope=col>&lt;int&gt;</th><th scope=col>&lt;lgl&gt;</th><th scope=col>&lt;int&gt;</th><th scope=col>&lt;int&gt;</th></tr>\n",
              "</thead>\n",
              "<tbody>\n",
              "\t<tr><th scope=row>6284</th><td>2.37652</td><td> 863.7998</td><td>N</td><td>97</td><td>MARION    </td><td>0</td><td>1</td><td>39.731</td><td>-85.983</td><td>13.279</td><td>⋯</td><td>IN</td><td>18</td><td>40500</td><td>1835</td><td>4</td><td>1</td><td>73</td><td>NA</td><td>46231</td><td>0</td></tr>\n",
              "\t<tr><th scope=row>6285</th><td>2.48179</td><td> 883.6129</td><td>N</td><td>23</td><td>CLINTON   </td><td>0</td><td>1</td><td>40.041</td><td>-86.982</td><td> 0.000</td><td>⋯</td><td>IN</td><td>18</td><td>32602</td><td>1830</td><td>4</td><td>1</td><td>72</td><td>NA</td><td>46050</td><td>0</td></tr>\n",
              "\t<tr><th scope=row>6286</th><td>2.96551</td><td>2083.6527</td><td>Y</td><td>91</td><td>MONTGOMERY</td><td>0</td><td>0</td><td>40.456</td><td>-75.645</td><td> 7.098</td><td>⋯</td><td>PA</td><td>42</td><td>12498</td><td>1100</td><td>5</td><td>1</td><td>81</td><td>NA</td><td>19426</td><td>0</td></tr>\n",
              "</tbody>\n",
              "</table>\n"
            ]
          },
          "metadata": {}
        },
        {
          "output_type": "display_data",
          "data": {
            "text/plain": [
              "     Uppm    adjwt    basement cntyfips county     dupflag floor lat   \n",
              "6287 2.60809 395.1596 N        25       YAVAPAI    0       1     34.370\n",
              "6288 1.43253 182.0487 Y        75       RENVILLE   0       0     48.966\n",
              "6289 1.49571 119.3059 Y        35       GRANDFORKS 0       0     47.676\n",
              "     lon      pcterr ⋯ stfips stopdt stoptm stratum typebldg wave windoor zip  \n",
              "6287 -111.840 0.000  ⋯  4     52090  2212   2       5        81   NA      86333\n",
              "6288 -101.022 5.062  ⋯ 38     22900  1800   4       1        39   NA      58761\n",
              "6289  -97.955 2.430  ⋯ 38     30407   900   3       1        78   NA      58201\n",
              "     zipflag Y   \n",
              "6287 0        0.4\n",
              "6288 0        6.0\n",
              "6289 0       17.4"
            ],
            "text/latex": "A data.frame: 3 × 27\n\\begin{tabular}{r|lllllllllllllllllllll}\n  & Uppm & adjwt & basement & cntyfips & county & dupflag & floor & lat & lon & pcterr & ⋯ & stfips & stopdt & stoptm & stratum & typebldg & wave & windoor & zip & zipflag & Y\\\\\n  & <dbl> & <dbl> & <chr> & <int> & <chr> & <int> & <int> & <dbl> & <dbl> & <dbl> & ⋯ & <int> & <int> & <int> & <int> & <int> & <int> & <lgl> & <int> & <int> & <dbl>\\\\\n\\hline\n\t6287 & 2.60809 & 395.1596 & N & 25 & YAVAPAI    & 0 & 1 & 34.370 & -111.840 & 0.000 & ⋯ &  4 & 52090 & 2212 & 2 & 5 & 81 & NA & 86333 & 0 &  0.4\\\\\n\t6288 & 1.43253 & 182.0487 & Y & 75 & RENVILLE   & 0 & 0 & 48.966 & -101.022 & 5.062 & ⋯ & 38 & 22900 & 1800 & 4 & 1 & 39 & NA & 58761 & 0 &  6.0\\\\\n\t6289 & 1.49571 & 119.3059 & Y & 35 & GRANDFORKS & 0 & 0 & 47.676 &  -97.955 & 2.430 & ⋯ & 38 & 30407 &  900 & 3 & 1 & 78 & NA & 58201 & 0 & 17.4\\\\\n\\end{tabular}\n",
            "text/markdown": "\nA data.frame: 3 × 27\n\n| <!--/--> | Uppm &lt;dbl&gt; | adjwt &lt;dbl&gt; | basement &lt;chr&gt; | cntyfips &lt;int&gt; | county &lt;chr&gt; | dupflag &lt;int&gt; | floor &lt;int&gt; | lat &lt;dbl&gt; | lon &lt;dbl&gt; | pcterr &lt;dbl&gt; | ⋯ ⋯ | stfips &lt;int&gt; | stopdt &lt;int&gt; | stoptm &lt;int&gt; | stratum &lt;int&gt; | typebldg &lt;int&gt; | wave &lt;int&gt; | windoor &lt;lgl&gt; | zip &lt;int&gt; | zipflag &lt;int&gt; | Y &lt;dbl&gt; |\n|---|---|---|---|---|---|---|---|---|---|---|---|---|---|---|---|---|---|---|---|---|---|\n| 6287 | 2.60809 | 395.1596 | N | 25 | YAVAPAI    | 0 | 1 | 34.370 | -111.840 | 0.000 | ⋯ |  4 | 52090 | 2212 | 2 | 5 | 81 | NA | 86333 | 0 |  0.4 |\n| 6288 | 1.43253 | 182.0487 | Y | 75 | RENVILLE   | 0 | 0 | 48.966 | -101.022 | 5.062 | ⋯ | 38 | 22900 | 1800 | 4 | 1 | 39 | NA | 58761 | 0 |  6.0 |\n| 6289 | 1.49571 | 119.3059 | Y | 35 | GRANDFORKS | 0 | 0 | 47.676 |  -97.955 | 2.430 | ⋯ | 38 | 30407 |  900 | 3 | 1 | 78 | NA | 58201 | 0 | 17.4 |\n\n",
            "text/html": [
              "<table class=\"dataframe\">\n",
              "<caption>A data.frame: 3 × 27</caption>\n",
              "<thead>\n",
              "\t<tr><th></th><th scope=col>Uppm</th><th scope=col>adjwt</th><th scope=col>basement</th><th scope=col>cntyfips</th><th scope=col>county</th><th scope=col>dupflag</th><th scope=col>floor</th><th scope=col>lat</th><th scope=col>lon</th><th scope=col>pcterr</th><th scope=col>⋯</th><th scope=col>stfips</th><th scope=col>stopdt</th><th scope=col>stoptm</th><th scope=col>stratum</th><th scope=col>typebldg</th><th scope=col>wave</th><th scope=col>windoor</th><th scope=col>zip</th><th scope=col>zipflag</th><th scope=col>Y</th></tr>\n",
              "\t<tr><th></th><th scope=col>&lt;dbl&gt;</th><th scope=col>&lt;dbl&gt;</th><th scope=col>&lt;chr&gt;</th><th scope=col>&lt;int&gt;</th><th scope=col>&lt;chr&gt;</th><th scope=col>&lt;int&gt;</th><th scope=col>&lt;int&gt;</th><th scope=col>&lt;dbl&gt;</th><th scope=col>&lt;dbl&gt;</th><th scope=col>&lt;dbl&gt;</th><th scope=col>⋯</th><th scope=col>&lt;int&gt;</th><th scope=col>&lt;int&gt;</th><th scope=col>&lt;int&gt;</th><th scope=col>&lt;int&gt;</th><th scope=col>&lt;int&gt;</th><th scope=col>&lt;int&gt;</th><th scope=col>&lt;lgl&gt;</th><th scope=col>&lt;int&gt;</th><th scope=col>&lt;int&gt;</th><th scope=col>&lt;dbl&gt;</th></tr>\n",
              "</thead>\n",
              "<tbody>\n",
              "\t<tr><th scope=row>6287</th><td>2.60809</td><td>395.1596</td><td>N</td><td>25</td><td>YAVAPAI   </td><td>0</td><td>1</td><td>34.370</td><td>-111.840</td><td>0.000</td><td>⋯</td><td> 4</td><td>52090</td><td>2212</td><td>2</td><td>5</td><td>81</td><td>NA</td><td>86333</td><td>0</td><td> 0.4</td></tr>\n",
              "\t<tr><th scope=row>6288</th><td>1.43253</td><td>182.0487</td><td>Y</td><td>75</td><td>RENVILLE  </td><td>0</td><td>0</td><td>48.966</td><td>-101.022</td><td>5.062</td><td>⋯</td><td>38</td><td>22900</td><td>1800</td><td>4</td><td>1</td><td>39</td><td>NA</td><td>58761</td><td>0</td><td> 6.0</td></tr>\n",
              "\t<tr><th scope=row>6289</th><td>1.49571</td><td>119.3059</td><td>Y</td><td>35</td><td>GRANDFORKS</td><td>0</td><td>0</td><td>47.676</td><td> -97.955</td><td>2.430</td><td>⋯</td><td>38</td><td>30407</td><td> 900</td><td>3</td><td>1</td><td>78</td><td>NA</td><td>58201</td><td>0</td><td>17.4</td></tr>\n",
              "</tbody>\n",
              "</table>\n"
            ]
          },
          "metadata": {}
        }
      ]
    },
    {
      "cell_type": "markdown",
      "source": [
        "Next assess the correlations (i.e. the degree of **linear** dependence) between features and **y**. "
      ],
      "metadata": {
        "id": "grHhM3PTH5Ga"
      }
    },
    {
      "cell_type": "code",
      "source": [
        "Corr = cor(tXY[,NumericCols])\n",
        "heatmap(x=Corr, symm=T, col=colorRampPalette(c(\"blue\", \"white\", \"red\"))(40))"
      ],
      "metadata": {
        "id": "Z5sSh5fGaInP",
        "outputId": "64e437aa-5128-4d9b-e318-0b38774ddd74",
        "colab": {
          "base_uri": "https://localhost:8080/",
          "height": 437
        }
      },
      "execution_count": null,
      "outputs": [
        {
          "output_type": "display_data",
          "data": {
            "image/png": "[encoded data removed]",
            "text/plain": [
              "plot without title"
            ]
          },
          "metadata": {
            "image/png": {
              "width": 420,
              "height": 420
            }
          }
        }
      ]
    },
    {
      "cell_type": "markdown",
      "source": [
        "Next, assess the existence of **non-linear** dependence between features and the target."
      ],
      "metadata": {
        "id": "PODaAKUhIDfY"
      }
    },
    {
      "cell_type": "code",
      "source": [
        "pairs(tXY[1:500, c('Y','Uppm', 'floor', 'pcterr', 'lat', 'stfips')])  # scatter plot matrix for selected features"
      ],
      "metadata": {
        "id": "Wqv1NT3Y9Z7i",
        "outputId": "27fde1d4-82c4-4a86-fa3b-65b3596f5b98",
        "colab": {
          "base_uri": "https://localhost:8080/",
          "height": 437
        }
      },
      "execution_count": null,
      "outputs": [
        {
          "output_type": "display_data",
          "data": {
            "image/png": "[encoded data removed]",
            "text/plain": [
              "plot without title"
            ]
          },
          "metadata": {
            "image/png": {
              "width": 420,
              "height": 420
            }
          }
        }
      ]
    },
    {
      "cell_type": "markdown",
      "source": [
        "<hr color=red>\n",
        "\n",
        "<font size=5>⌛</font> <strong><font color=orange size=5>Your Code, Documentation, Ideas and Timer - All Start Here...</font></strong>\n",
        "\n",
        "**Student's Section** (is between ⏳ symbols): is where students add their code and documentation.\n"
      ],
      "metadata": {
        "id": "bm7EJFaLGLbD"
      }
    },
    {
      "cell_type": "markdown",
      "metadata": {
        "id": "OpyLNt3god0c"
      },
      "source": [
        "## **Task 2.1**"
      ]
    },
    {
      "cell_type": "markdown",
      "metadata": {
        "id": "30xYIFXAnaPE"
      },
      "source": [
        "**Explain your preprocessing:** i.e. feature engineering, subsampling, clustering, dimensionality reduction, etc."
      ]
    },
    {
      "cell_type": "markdown",
      "metadata": {
        "id": "KGJRwzqHob4o"
      },
      "source": [
        "## **Task 2.2**"
      ]
    },
    {
      "cell_type": "markdown",
      "metadata": {
        "id": "zi6ZjgtWnb58"
      },
      "source": [
        "**Explain your modeling approach:** ideas you tried and why you thought they would be helpful. Takeaway: how these decisions guided you in modeling."
      ]
    },
    {
      "cell_type": "markdown",
      "source": [
        "In the simple model below we use some predictors, which exhibit +/- correlation with `y`."
      ],
      "metadata": {
        "id": "YJs0jS4fIO1j"
      }
    },
    {
      "cell_type": "code",
      "source": [
        "encode_ordinal <- function(x, order = unique(x)) {\n",
        "  x <- as.numeric(factor(x, levels = order, exclude = NULL))\n",
        "  x\n",
        "}"
      ],
      "metadata": {
        "id": "Oq_67Yj57p1Y"
      },
      "execution_count": null,
      "outputs": []
    },
    {
      "cell_type": "code",
      "source": [
        "# vX <- subset(vX, \n",
        "#            select = c(stratum, region, stfips, lon, zip, floor, typebldg, dupflag, pcterr, state, Uppm, basement, lat))\n",
        "\n",
        "# encoded_df <- subset(tXY, \n",
        "#            select = c(Y, stratum, region, stfips, lon, zip, floor, typebldg, dupflag, pcterr, state, Uppm, basement, lat))\n"
      ],
      "metadata": {
        "id": "Wv9ENorI_Rqc"
      },
      "execution_count": null,
      "outputs": []
    },
    {
      "cell_type": "code",
      "source": [
        "vX['pcterr^2'] <- c(vX$pcterr^2)\n",
        "vX['pcterr^3'] <- c(vX$pcterr^3)\n",
        "vX['pcterr^4'] <- c(vX$pcterr^4)\n",
        "vX['pcterr^5'] <- c(vX$pcterr^5)\n",
        "vX['pcterr^6'] <- c(vX$pcterr^6)\n",
        "vX['pcterr^7'] <- c(vX$pcterr^7)\n",
        "vX['pcterr^8'] <- c(vX$pcterr^8)\n",
        "# vX['pcterr^9'] <- c(vX$pcterr^9)\n",
        "# vX['pcterr^10'] <- c(vX$pcterr^10)\n",
        "\n",
        "\n",
        "tXY['pcterr^2'] <- c(tXY$pcterr^2)\n",
        "tXY['pcterr^3'] <- c(tXY$pcterr^3)\n",
        "tXY['pcterr^4'] <- c(tXY$pcterr^4)\n",
        "tXY['pcterr^5'] <- c(tXY$pcterr^5)\n",
        "tXY['pcterr^6'] <- c(tXY$pcterr^6)\n",
        "tXY['pcterr^7'] <- c(tXY$pcterr^7)\n",
        "tXY['pcterr^8'] <- c(tXY$pcterr^8)\n",
        "# tXY['pcterr^9'] <- c(tXY$pcterr^9)\n",
        "# tXY['pcterr^10'] <- c(tXY$pcterr^10)"
      ],
      "metadata": {
        "id": "kxzT3Zs_ldrj"
      },
      "execution_count": null,
      "outputs": []
    },
    {
      "cell_type": "code",
      "source": [
        "vX <- subset(vX, \n",
        "           select = c(state, dupflag, floor, lon, region, stfips, stratum, \n",
        "                      typebldg, zip, Uppm, basement, county,\n",
        "                      pcterr,`pcterr^2`,`pcterr^3`,`pcterr^4`,\n",
        "                      `pcterr^5`,`pcterr^6`, `pcterr^7`, `pcterr^8`))\n",
        "\n",
        "head(vX, 4)\n",
        "vX <- dummy_cols(vX, select_columns = 'state',\n",
        "           remove_selected_columns = TRUE)\n",
        "# vX <- dummy_cols(vX, select_columns = 'county',\n",
        "#            remove_selected_columns = TRUE)\n",
        "vX[[\"basement_encoded\"]] <- encode_ordinal(vX[[\"basement\"]])\n",
        "vX[[\"basement\"]] = vX[[\"basement_encoded\"]]\n",
        "vX = select(vX, -basement_encoded)\n",
        "vX[[\"county_encoded\"]] <- encode_ordinal(vX[[\"county\"]])\n",
        "vX[[\"county\"]] = vX[[\"county_encoded\"]]\n",
        "vX = select(vX, -county_encoded)\n",
        "head(vX, 4)\n",
        "\n",
        "encoded_df <- subset(tXY, \n",
        "           select = c(Y, state, dupflag, floor, lon, region, stfips, stratum, \n",
        "                      typebldg, zip, Uppm, basement, county,\n",
        "                      pcterr,`pcterr^2`,`pcterr^3`,`pcterr^4`,\n",
        "                      `pcterr^5`,`pcterr^6`, `pcterr^7`, `pcterr^8`)) \n",
        "\n",
        "encoded_df <- dummy_cols(encoded_df, select_columns = 'state',\n",
        "           remove_selected_columns = TRUE)\n",
        "# encoded_df <- dummy_cols(encoded_df, select_columns = 'county',\n",
        "#            remove_selected_columns = TRUE)\n",
        "encoded_df[[\"basement_encoded\"]] <- encode_ordinal(tXY[[\"basement\"]])\n",
        "encoded_df[[\"basement\"]] = encoded_df[[\"basement_encoded\"]]\n",
        "encoded_df = select(encoded_df, -basement_encoded)\n",
        "encoded_df[[\"county_encoded\"]] <- encode_ordinal(tXY[[\"county\"]])\n",
        "encoded_df[[\"county\"]] = encoded_df[[\"county_encoded\"]]\n",
        "encoded_df = select(encoded_df, -county_encoded)\n",
        "head(encoded_df, 4)"
      ],
      "metadata": {
        "colab": {
          "base_uri": "https://localhost:8080/",
          "height": 657
        },
        "id": "E95tn-JoCXaf",
        "outputId": "e093b4a3-3fe2-42e3-fd80-713f3fc0b745"
      },
      "execution_count": null,
      "outputs": [
        {
          "output_type": "display_data",
          "data": {
            "text/plain": [
              "  state dupflag floor lon      region stfips stratum typebldg zip   Uppm   \n",
              "1 ND    0       1     -101.386 1      38     2       2        58554 1.79599\n",
              "2 IN    0       1      -86.218 2      18     3       1        46580 1.64895\n",
              "3 IN    0       1      -85.361 3      18     4       1        46012 2.12879\n",
              "4 AZ    0       1     -112.515 3       4     2       1        85304 3.14314\n",
              "  basement county    pcterr pcterr^2   pcterr^3    pcterr^4    pcterr^5    \n",
              "1 Y        MORTON     7.763   60.26417    467.8307    3631.770     28193.43\n",
              "2 N        KOSCIUSKO 55.015 3026.65022 166511.1621 9160611.584 503971046.32\n",
              "3 N        MADISON    6.348   40.29710    255.8060    1623.857     10308.24\n",
              "4 N        MARICOPA  22.632  512.20742  11592.2784  262356.445   5937651.07\n",
              "  pcterr^6     pcterr^7     pcterr^8    \n",
              "1 2.188656e+05 1.699054e+06 1.318975e+07\n",
              "2 2.772597e+10 1.525344e+12 8.391680e+13\n",
              "3 6.543672e+04 4.153923e+05 2.636910e+06\n",
              "4 1.343809e+08 3.041309e+09 6.883090e+10"
            ],
            "text/latex": "A data.frame: 4 × 20\n\\begin{tabular}{r|llllllllllllllllllll}\n  & state & dupflag & floor & lon & region & stfips & stratum & typebldg & zip & Uppm & basement & county & pcterr & pcterr\\textasciicircum{}2 & pcterr\\textasciicircum{}3 & pcterr\\textasciicircum{}4 & pcterr\\textasciicircum{}5 & pcterr\\textasciicircum{}6 & pcterr\\textasciicircum{}7 & pcterr\\textasciicircum{}8\\\\\n  & <chr> & <int> & <int> & <dbl> & <int> & <int> & <int> & <int> & <int> & <dbl> & <chr> & <chr> & <dbl> & <dbl> & <dbl> & <dbl> & <dbl> & <dbl> & <dbl> & <dbl>\\\\\n\\hline\n\t1 & ND & 0 & 1 & -101.386 & 1 & 38 & 2 & 2 & 58554 & 1.79599 & Y & MORTON    &  7.763 &   60.26417 &    467.8307 &    3631.770 &     28193.43 & 2.188656e+05 & 1.699054e+06 & 1.318975e+07\\\\\n\t2 & IN & 0 & 1 &  -86.218 & 2 & 18 & 3 & 1 & 46580 & 1.64895 & N & KOSCIUSKO & 55.015 & 3026.65022 & 166511.1621 & 9160611.584 & 503971046.32 & 2.772597e+10 & 1.525344e+12 & 8.391680e+13\\\\\n\t3 & IN & 0 & 1 &  -85.361 & 3 & 18 & 4 & 1 & 46012 & 2.12879 & N & MADISON   &  6.348 &   40.29710 &    255.8060 &    1623.857 &     10308.24 & 6.543672e+04 & 4.153923e+05 & 2.636910e+06\\\\\n\t4 & AZ & 0 & 1 & -112.515 & 3 &  4 & 2 & 1 & 85304 & 3.14314 & N & MARICOPA  & 22.632 &  512.20742 &  11592.2784 &  262356.445 &   5937651.07 & 1.343809e+08 & 3.041309e+09 & 6.883090e+10\\\\\n\\end{tabular}\n",
            "text/markdown": "\nA data.frame: 4 × 20\n\n| <!--/--> | state &lt;chr&gt; | dupflag &lt;int&gt; | floor &lt;int&gt; | lon &lt;dbl&gt; | region &lt;int&gt; | stfips &lt;int&gt; | stratum &lt;int&gt; | typebldg &lt;int&gt; | zip &lt;int&gt; | Uppm &lt;dbl&gt; | basement &lt;chr&gt; | county &lt;chr&gt; | pcterr &lt;dbl&gt; | pcterr^2 &lt;dbl&gt; | pcterr^3 &lt;dbl&gt; | pcterr^4 &lt;dbl&gt; | pcterr^5 &lt;dbl&gt; | pcterr^6 &lt;dbl&gt; | pcterr^7 &lt;dbl&gt; | pcterr^8 &lt;dbl&gt; |\n|---|---|---|---|---|---|---|---|---|---|---|---|---|---|---|---|---|---|---|---|---|\n| 1 | ND | 0 | 1 | -101.386 | 1 | 38 | 2 | 2 | 58554 | 1.79599 | Y | MORTON    |  7.763 |   60.26417 |    467.8307 |    3631.770 |     28193.43 | 2.188656e+05 | 1.699054e+06 | 1.318975e+07 |\n| 2 | IN | 0 | 1 |  -86.218 | 2 | 18 | 3 | 1 | 46580 | 1.64895 | N | KOSCIUSKO | 55.015 | 3026.65022 | 166511.1621 | 9160611.584 | 503971046.32 | 2.772597e+10 | 1.525344e+12 | 8.391680e+13 |\n| 3 | IN | 0 | 1 |  -85.361 | 3 | 18 | 4 | 1 | 46012 | 2.12879 | N | MADISON   |  6.348 |   40.29710 |    255.8060 |    1623.857 |     10308.24 | 6.543672e+04 | 4.153923e+05 | 2.636910e+06 |\n| 4 | AZ | 0 | 1 | -112.515 | 3 |  4 | 2 | 1 | 85304 | 3.14314 | N | MARICOPA  | 22.632 |  512.20742 |  11592.2784 |  262356.445 |   5937651.07 | 1.343809e+08 | 3.041309e+09 | 6.883090e+10 |\n\n",
            "text/html": [
              "<table class=\"dataframe\">\n",
              "<caption>A data.frame: 4 × 20</caption>\n",
              "<thead>\n",
              "\t<tr><th></th><th scope=col>state</th><th scope=col>dupflag</th><th scope=col>floor</th><th scope=col>lon</th><th scope=col>region</th><th scope=col>stfips</th><th scope=col>stratum</th><th scope=col>typebldg</th><th scope=col>zip</th><th scope=col>Uppm</th><th scope=col>basement</th><th scope=col>county</th><th scope=col>pcterr</th><th scope=col>pcterr^2</th><th scope=col>pcterr^3</th><th scope=col>pcterr^4</th><th scope=col>pcterr^5</th><th scope=col>pcterr^6</th><th scope=col>pcterr^7</th><th scope=col>pcterr^8</th></tr>\n",
              "\t<tr><th></th><th scope=col>&lt;chr&gt;</th><th scope=col>&lt;int&gt;</th><th scope=col>&lt;int&gt;</th><th scope=col>&lt;dbl&gt;</th><th scope=col>&lt;int&gt;</th><th scope=col>&lt;int&gt;</th><th scope=col>&lt;int&gt;</th><th scope=col>&lt;int&gt;</th><th scope=col>&lt;int&gt;</th><th scope=col>&lt;dbl&gt;</th><th scope=col>&lt;chr&gt;</th><th scope=col>&lt;chr&gt;</th><th scope=col>&lt;dbl&gt;</th><th scope=col>&lt;dbl&gt;</th><th scope=col>&lt;dbl&gt;</th><th scope=col>&lt;dbl&gt;</th><th scope=col>&lt;dbl&gt;</th><th scope=col>&lt;dbl&gt;</th><th scope=col>&lt;dbl&gt;</th><th scope=col>&lt;dbl&gt;</th></tr>\n",
              "</thead>\n",
              "<tbody>\n",
              "\t<tr><th scope=row>1</th><td>ND</td><td>0</td><td>1</td><td>-101.386</td><td>1</td><td>38</td><td>2</td><td>2</td><td>58554</td><td>1.79599</td><td>Y</td><td>MORTON   </td><td> 7.763</td><td>  60.26417</td><td>   467.8307</td><td>   3631.770</td><td>    28193.43</td><td>2.188656e+05</td><td>1.699054e+06</td><td>1.318975e+07</td></tr>\n",
              "\t<tr><th scope=row>2</th><td>IN</td><td>0</td><td>1</td><td> -86.218</td><td>2</td><td>18</td><td>3</td><td>1</td><td>46580</td><td>1.64895</td><td>N</td><td>KOSCIUSKO</td><td>55.015</td><td>3026.65022</td><td>166511.1621</td><td>9160611.584</td><td>503971046.32</td><td>2.772597e+10</td><td>1.525344e+12</td><td>8.391680e+13</td></tr>\n",
              "\t<tr><th scope=row>3</th><td>IN</td><td>0</td><td>1</td><td> -85.361</td><td>3</td><td>18</td><td>4</td><td>1</td><td>46012</td><td>2.12879</td><td>N</td><td>MADISON  </td><td> 6.348</td><td>  40.29710</td><td>   255.8060</td><td>   1623.857</td><td>    10308.24</td><td>6.543672e+04</td><td>4.153923e+05</td><td>2.636910e+06</td></tr>\n",
              "\t<tr><th scope=row>4</th><td>AZ</td><td>0</td><td>1</td><td>-112.515</td><td>3</td><td> 4</td><td>2</td><td>1</td><td>85304</td><td>3.14314</td><td>N</td><td>MARICOPA </td><td>22.632</td><td> 512.20742</td><td> 11592.2784</td><td> 262356.445</td><td>  5937651.07</td><td>1.343809e+08</td><td>3.041309e+09</td><td>6.883090e+10</td></tr>\n",
              "</tbody>\n",
              "</table>\n"
            ]
          },
          "metadata": {}
        },
        {
          "output_type": "display_data",
          "data": {
            "text/plain": [
              "  dupflag floor lon      region stfips stratum typebldg zip   Uppm    basement\n",
              "1 0       1     -101.386 1      38     2       2        58554 1.79599 1       \n",
              "2 0       1      -86.218 2      18     3       1        46580 1.64895 2       \n",
              "3 0       1      -85.361 3      18     4       1        46012 2.12879 2       \n",
              "4 0       1     -112.515 3       4     2       1        85304 3.14314 2       \n",
              "  ⋯ pcterr^7     pcterr^8     state_AZ state_IN state_MA state_MN state_MO\n",
              "1 ⋯ 1.699054e+06 1.318975e+07 0        0        0        0        0       \n",
              "2 ⋯ 1.525344e+12 8.391680e+13 0        1        0        0        0       \n",
              "3 ⋯ 4.153923e+05 2.636910e+06 0        1        0        0        0       \n",
              "4 ⋯ 3.041309e+09 6.883090e+10 1        0        0        0        0       \n",
              "  state_ND state_PA state_R5\n",
              "1 1        0        0       \n",
              "2 0        0        0       \n",
              "3 0        0        0       \n",
              "4 0        0        0       "
            ],
            "text/latex": "A data.frame: 4 × 27\n\\begin{tabular}{r|lllllllllllllllllllll}\n  & dupflag & floor & lon & region & stfips & stratum & typebldg & zip & Uppm & basement & ⋯ & pcterr\\textasciicircum{}7 & pcterr\\textasciicircum{}8 & state\\_AZ & state\\_IN & state\\_MA & state\\_MN & state\\_MO & state\\_ND & state\\_PA & state\\_R5\\\\\n  & <int> & <int> & <dbl> & <int> & <int> & <int> & <int> & <int> & <dbl> & <dbl> & ⋯ & <dbl> & <dbl> & <int> & <int> & <int> & <int> & <int> & <int> & <int> & <int>\\\\\n\\hline\n\t1 & 0 & 1 & -101.386 & 1 & 38 & 2 & 2 & 58554 & 1.79599 & 1 & ⋯ & 1.699054e+06 & 1.318975e+07 & 0 & 0 & 0 & 0 & 0 & 1 & 0 & 0\\\\\n\t2 & 0 & 1 &  -86.218 & 2 & 18 & 3 & 1 & 46580 & 1.64895 & 2 & ⋯ & 1.525344e+12 & 8.391680e+13 & 0 & 1 & 0 & 0 & 0 & 0 & 0 & 0\\\\\n\t3 & 0 & 1 &  -85.361 & 3 & 18 & 4 & 1 & 46012 & 2.12879 & 2 & ⋯ & 4.153923e+05 & 2.636910e+06 & 0 & 1 & 0 & 0 & 0 & 0 & 0 & 0\\\\\n\t4 & 0 & 1 & -112.515 & 3 &  4 & 2 & 1 & 85304 & 3.14314 & 2 & ⋯ & 3.041309e+09 & 6.883090e+10 & 1 & 0 & 0 & 0 & 0 & 0 & 0 & 0\\\\\n\\end{tabular}\n",
            "text/markdown": "\nA data.frame: 4 × 27\n\n| <!--/--> | dupflag &lt;int&gt; | floor &lt;int&gt; | lon &lt;dbl&gt; | region &lt;int&gt; | stfips &lt;int&gt; | stratum &lt;int&gt; | typebldg &lt;int&gt; | zip &lt;int&gt; | Uppm &lt;dbl&gt; | basement &lt;dbl&gt; | ⋯ ⋯ | pcterr^7 &lt;dbl&gt; | pcterr^8 &lt;dbl&gt; | state_AZ &lt;int&gt; | state_IN &lt;int&gt; | state_MA &lt;int&gt; | state_MN &lt;int&gt; | state_MO &lt;int&gt; | state_ND &lt;int&gt; | state_PA &lt;int&gt; | state_R5 &lt;int&gt; |\n|---|---|---|---|---|---|---|---|---|---|---|---|---|---|---|---|---|---|---|---|---|---|\n| 1 | 0 | 1 | -101.386 | 1 | 38 | 2 | 2 | 58554 | 1.79599 | 1 | ⋯ | 1.699054e+06 | 1.318975e+07 | 0 | 0 | 0 | 0 | 0 | 1 | 0 | 0 |\n| 2 | 0 | 1 |  -86.218 | 2 | 18 | 3 | 1 | 46580 | 1.64895 | 2 | ⋯ | 1.525344e+12 | 8.391680e+13 | 0 | 1 | 0 | 0 | 0 | 0 | 0 | 0 |\n| 3 | 0 | 1 |  -85.361 | 3 | 18 | 4 | 1 | 46012 | 2.12879 | 2 | ⋯ | 4.153923e+05 | 2.636910e+06 | 0 | 1 | 0 | 0 | 0 | 0 | 0 | 0 |\n| 4 | 0 | 1 | -112.515 | 3 |  4 | 2 | 1 | 85304 | 3.14314 | 2 | ⋯ | 3.041309e+09 | 6.883090e+10 | 1 | 0 | 0 | 0 | 0 | 0 | 0 | 0 |\n\n",
            "text/html": [
              "<table class=\"dataframe\">\n",
              "<caption>A data.frame: 4 × 27</caption>\n",
              "<thead>\n",
              "\t<tr><th></th><th scope=col>dupflag</th><th scope=col>floor</th><th scope=col>lon</th><th scope=col>region</th><th scope=col>stfips</th><th scope=col>stratum</th><th scope=col>typebldg</th><th scope=col>zip</th><th scope=col>Uppm</th><th scope=col>basement</th><th scope=col>⋯</th><th scope=col>pcterr^7</th><th scope=col>pcterr^8</th><th scope=col>state_AZ</th><th scope=col>state_IN</th><th scope=col>state_MA</th><th scope=col>state_MN</th><th scope=col>state_MO</th><th scope=col>state_ND</th><th scope=col>state_PA</th><th scope=col>state_R5</th></tr>\n",
              "\t<tr><th></th><th scope=col>&lt;int&gt;</th><th scope=col>&lt;int&gt;</th><th scope=col>&lt;dbl&gt;</th><th scope=col>&lt;int&gt;</th><th scope=col>&lt;int&gt;</th><th scope=col>&lt;int&gt;</th><th scope=col>&lt;int&gt;</th><th scope=col>&lt;int&gt;</th><th scope=col>&lt;dbl&gt;</th><th scope=col>&lt;dbl&gt;</th><th scope=col>⋯</th><th scope=col>&lt;dbl&gt;</th><th scope=col>&lt;dbl&gt;</th><th scope=col>&lt;int&gt;</th><th scope=col>&lt;int&gt;</th><th scope=col>&lt;int&gt;</th><th scope=col>&lt;int&gt;</th><th scope=col>&lt;int&gt;</th><th scope=col>&lt;int&gt;</th><th scope=col>&lt;int&gt;</th><th scope=col>&lt;int&gt;</th></tr>\n",
              "</thead>\n",
              "<tbody>\n",
              "\t<tr><th scope=row>1</th><td>0</td><td>1</td><td>-101.386</td><td>1</td><td>38</td><td>2</td><td>2</td><td>58554</td><td>1.79599</td><td>1</td><td>⋯</td><td>1.699054e+06</td><td>1.318975e+07</td><td>0</td><td>0</td><td>0</td><td>0</td><td>0</td><td>1</td><td>0</td><td>0</td></tr>\n",
              "\t<tr><th scope=row>2</th><td>0</td><td>1</td><td> -86.218</td><td>2</td><td>18</td><td>3</td><td>1</td><td>46580</td><td>1.64895</td><td>2</td><td>⋯</td><td>1.525344e+12</td><td>8.391680e+13</td><td>0</td><td>1</td><td>0</td><td>0</td><td>0</td><td>0</td><td>0</td><td>0</td></tr>\n",
              "\t<tr><th scope=row>3</th><td>0</td><td>1</td><td> -85.361</td><td>3</td><td>18</td><td>4</td><td>1</td><td>46012</td><td>2.12879</td><td>2</td><td>⋯</td><td>4.153923e+05</td><td>2.636910e+06</td><td>0</td><td>1</td><td>0</td><td>0</td><td>0</td><td>0</td><td>0</td><td>0</td></tr>\n",
              "\t<tr><th scope=row>4</th><td>0</td><td>1</td><td>-112.515</td><td>3</td><td> 4</td><td>2</td><td>1</td><td>85304</td><td>3.14314</td><td>2</td><td>⋯</td><td>3.041309e+09</td><td>6.883090e+10</td><td>1</td><td>0</td><td>0</td><td>0</td><td>0</td><td>0</td><td>0</td><td>0</td></tr>\n",
              "</tbody>\n",
              "</table>\n"
            ]
          },
          "metadata": {}
        },
        {
          "output_type": "display_data",
          "data": {
            "text/plain": [
              "  Y    dupflag floor lon      region stfips stratum typebldg zip   Uppm    ⋯\n",
              "1  0.4 0       1     -111.840 2       4     2       5        86333 2.60809 ⋯\n",
              "2  6.0 0       0     -101.022 5      38     4       1        58761 1.43253 ⋯\n",
              "3 17.4 0       0      -97.955 4      38     3       1        58201 1.49571 ⋯\n",
              "4  0.7 0       1      -78.812 5      42     4       1        15656 2.71062 ⋯\n",
              "  pcterr^7     pcterr^8     state_AZ state_IN state_MA state_MN state_MO\n",
              "1 0.000000e+00 0.000000e+00 1        0        0        0        0       \n",
              "2 8.516379e+04 4.310991e+05 0        0        0        0        0       \n",
              "3 5.003155e+02 1.215767e+03 0        0        0        0        0       \n",
              "4 2.014683e+11 8.300293e+12 0        0        0        0        0       \n",
              "  state_ND state_PA state_R5\n",
              "1 0        0        0       \n",
              "2 1        0        0       \n",
              "3 1        0        0       \n",
              "4 0        1        0       "
            ],
            "text/latex": "A data.frame: 4 × 28\n\\begin{tabular}{r|lllllllllllllllllllll}\n  & Y & dupflag & floor & lon & region & stfips & stratum & typebldg & zip & Uppm & ⋯ & pcterr\\textasciicircum{}7 & pcterr\\textasciicircum{}8 & state\\_AZ & state\\_IN & state\\_MA & state\\_MN & state\\_MO & state\\_ND & state\\_PA & state\\_R5\\\\\n  & <dbl> & <int> & <int> & <dbl> & <int> & <int> & <int> & <int> & <int> & <dbl> & ⋯ & <dbl> & <dbl> & <int> & <int> & <int> & <int> & <int> & <int> & <int> & <int>\\\\\n\\hline\n\t1 &  0.4 & 0 & 1 & -111.840 & 2 &  4 & 2 & 5 & 86333 & 2.60809 & ⋯ & 0.000000e+00 & 0.000000e+00 & 1 & 0 & 0 & 0 & 0 & 0 & 0 & 0\\\\\n\t2 &  6.0 & 0 & 0 & -101.022 & 5 & 38 & 4 & 1 & 58761 & 1.43253 & ⋯ & 8.516379e+04 & 4.310991e+05 & 0 & 0 & 0 & 0 & 0 & 1 & 0 & 0\\\\\n\t3 & 17.4 & 0 & 0 &  -97.955 & 4 & 38 & 3 & 1 & 58201 & 1.49571 & ⋯ & 5.003155e+02 & 1.215767e+03 & 0 & 0 & 0 & 0 & 0 & 1 & 0 & 0\\\\\n\t4 &  0.7 & 0 & 1 &  -78.812 & 5 & 42 & 4 & 1 & 15656 & 2.71062 & ⋯ & 2.014683e+11 & 8.300293e+12 & 0 & 0 & 0 & 0 & 0 & 0 & 1 & 0\\\\\n\\end{tabular}\n",
            "text/markdown": "\nA data.frame: 4 × 28\n\n| <!--/--> | Y &lt;dbl&gt; | dupflag &lt;int&gt; | floor &lt;int&gt; | lon &lt;dbl&gt; | region &lt;int&gt; | stfips &lt;int&gt; | stratum &lt;int&gt; | typebldg &lt;int&gt; | zip &lt;int&gt; | Uppm &lt;dbl&gt; | ⋯ ⋯ | pcterr^7 &lt;dbl&gt; | pcterr^8 &lt;dbl&gt; | state_AZ &lt;int&gt; | state_IN &lt;int&gt; | state_MA &lt;int&gt; | state_MN &lt;int&gt; | state_MO &lt;int&gt; | state_ND &lt;int&gt; | state_PA &lt;int&gt; | state_R5 &lt;int&gt; |\n|---|---|---|---|---|---|---|---|---|---|---|---|---|---|---|---|---|---|---|---|---|---|\n| 1 |  0.4 | 0 | 1 | -111.840 | 2 |  4 | 2 | 5 | 86333 | 2.60809 | ⋯ | 0.000000e+00 | 0.000000e+00 | 1 | 0 | 0 | 0 | 0 | 0 | 0 | 0 |\n| 2 |  6.0 | 0 | 0 | -101.022 | 5 | 38 | 4 | 1 | 58761 | 1.43253 | ⋯ | 8.516379e+04 | 4.310991e+05 | 0 | 0 | 0 | 0 | 0 | 1 | 0 | 0 |\n| 3 | 17.4 | 0 | 0 |  -97.955 | 4 | 38 | 3 | 1 | 58201 | 1.49571 | ⋯ | 5.003155e+02 | 1.215767e+03 | 0 | 0 | 0 | 0 | 0 | 1 | 0 | 0 |\n| 4 |  0.7 | 0 | 1 |  -78.812 | 5 | 42 | 4 | 1 | 15656 | 2.71062 | ⋯ | 2.014683e+11 | 8.300293e+12 | 0 | 0 | 0 | 0 | 0 | 0 | 1 | 0 |\n\n",
            "text/html": [
              "<table class=\"dataframe\">\n",
              "<caption>A data.frame: 4 × 28</caption>\n",
              "<thead>\n",
              "\t<tr><th></th><th scope=col>Y</th><th scope=col>dupflag</th><th scope=col>floor</th><th scope=col>lon</th><th scope=col>region</th><th scope=col>stfips</th><th scope=col>stratum</th><th scope=col>typebldg</th><th scope=col>zip</th><th scope=col>Uppm</th><th scope=col>⋯</th><th scope=col>pcterr^7</th><th scope=col>pcterr^8</th><th scope=col>state_AZ</th><th scope=col>state_IN</th><th scope=col>state_MA</th><th scope=col>state_MN</th><th scope=col>state_MO</th><th scope=col>state_ND</th><th scope=col>state_PA</th><th scope=col>state_R5</th></tr>\n",
              "\t<tr><th></th><th scope=col>&lt;dbl&gt;</th><th scope=col>&lt;int&gt;</th><th scope=col>&lt;int&gt;</th><th scope=col>&lt;dbl&gt;</th><th scope=col>&lt;int&gt;</th><th scope=col>&lt;int&gt;</th><th scope=col>&lt;int&gt;</th><th scope=col>&lt;int&gt;</th><th scope=col>&lt;int&gt;</th><th scope=col>&lt;dbl&gt;</th><th scope=col>⋯</th><th scope=col>&lt;dbl&gt;</th><th scope=col>&lt;dbl&gt;</th><th scope=col>&lt;int&gt;</th><th scope=col>&lt;int&gt;</th><th scope=col>&lt;int&gt;</th><th scope=col>&lt;int&gt;</th><th scope=col>&lt;int&gt;</th><th scope=col>&lt;int&gt;</th><th scope=col>&lt;int&gt;</th><th scope=col>&lt;int&gt;</th></tr>\n",
              "</thead>\n",
              "<tbody>\n",
              "\t<tr><th scope=row>1</th><td> 0.4</td><td>0</td><td>1</td><td>-111.840</td><td>2</td><td> 4</td><td>2</td><td>5</td><td>86333</td><td>2.60809</td><td>⋯</td><td>0.000000e+00</td><td>0.000000e+00</td><td>1</td><td>0</td><td>0</td><td>0</td><td>0</td><td>0</td><td>0</td><td>0</td></tr>\n",
              "\t<tr><th scope=row>2</th><td> 6.0</td><td>0</td><td>0</td><td>-101.022</td><td>5</td><td>38</td><td>4</td><td>1</td><td>58761</td><td>1.43253</td><td>⋯</td><td>8.516379e+04</td><td>4.310991e+05</td><td>0</td><td>0</td><td>0</td><td>0</td><td>0</td><td>1</td><td>0</td><td>0</td></tr>\n",
              "\t<tr><th scope=row>3</th><td>17.4</td><td>0</td><td>0</td><td> -97.955</td><td>4</td><td>38</td><td>3</td><td>1</td><td>58201</td><td>1.49571</td><td>⋯</td><td>5.003155e+02</td><td>1.215767e+03</td><td>0</td><td>0</td><td>0</td><td>0</td><td>0</td><td>1</td><td>0</td><td>0</td></tr>\n",
              "\t<tr><th scope=row>4</th><td> 0.7</td><td>0</td><td>1</td><td> -78.812</td><td>5</td><td>42</td><td>4</td><td>1</td><td>15656</td><td>2.71062</td><td>⋯</td><td>2.014683e+11</td><td>8.300293e+12</td><td>0</td><td>0</td><td>0</td><td>0</td><td>0</td><td>0</td><td>1</td><td>0</td></tr>\n",
              "</tbody>\n",
              "</table>\n"
            ]
          },
          "metadata": {}
        }
      ]
    },
    {
      "cell_type": "code",
      "source": [
        "vX['county^2'] <- c(vX$county^2)\n",
        "vX['county^3'] <- c(vX$county^3)\n",
        "encoded_df['county^2'] <- c(encoded_df$county^2)\n",
        "encoded_df['county^3'] <- c(encoded_df$county^3)\n",
        "\n",
        "vX['Uppm^2'] <- c(vX$Uppm^2)\n",
        "vX['Uppm^3'] <- c(vX$Uppm^3)\n",
        "vX['Uppm^4'] <- c(vX$Uppm^4)\n",
        "vX['Uppm^5'] <- c(vX$Uppm^5)\n",
        "vX['Uppm^6'] <- c(vX$Uppm^6)\n",
        "encoded_df['Uppm^2'] <- c(encoded_df$Uppm^2)\n",
        "encoded_df['Uppm^3'] <- c(encoded_df$Uppm^3)\n",
        "encoded_df['Uppm^4'] <- c(encoded_df$Uppm^4)\n",
        "encoded_df['Uppm^5'] <- c(encoded_df$Uppm^5)\n",
        "encoded_df['Uppm^6'] <- c(encoded_df$Uppm^6)\n",
        "\n",
        "\n",
        "\n",
        "vX['floor^2'] <- c(vX$floor^2)\n",
        "vX['floor^3'] <- c(vX$floor^3)\n",
        "vX['floor^4'] <- c(vX$floor^4)\n",
        "encoded_df['floor^2'] <- c(encoded_df$floor^2)\n",
        "encoded_df['floor^3'] <- c(encoded_df$floor^3)\n",
        "encoded_df['floor^4'] <- c(encoded_df$floor^4)"
      ],
      "metadata": {
        "id": "a_UWdDK6M_HO"
      },
      "execution_count": null,
      "outputs": []
    },
    {
      "cell_type": "code",
      "source": [
        "# checking features\n",
        "colnames(encoded_df)"
      ],
      "metadata": {
        "colab": {
          "base_uri": "https://localhost:8080/",
          "height": 69
        },
        "id": "XFPvYJ8k1u2S",
        "outputId": "e80a3064-8392-4f9c-c7bd-65ae881d53ab"
      },
      "execution_count": null,
      "outputs": [
        {
          "output_type": "display_data",
          "data": {
            "text/plain": [
              " [1] \"Y\"        \"dupflag\"  \"floor\"    \"lon\"      \"region\"   \"stfips\"  \n",
              " [7] \"stratum\"  \"typebldg\" \"zip\"      \"Uppm\"     \"basement\" \"county\"  \n",
              "[13] \"pcterr\"   \"pcterr^2\" \"pcterr^3\" \"pcterr^4\" \"pcterr^5\" \"pcterr^6\"\n",
              "[19] \"pcterr^7\" \"pcterr^8\" \"state_AZ\" \"state_IN\" \"state_MA\" \"state_MN\"\n",
              "[25] \"state_MO\" \"state_ND\" \"state_PA\" \"state_R5\" \"county^2\" \"county^3\"\n",
              "[31] \"Uppm^2\"   \"Uppm^3\"   \"Uppm^4\"   \"Uppm^5\"   \"Uppm^6\"   \"floor^2\" \n",
              "[37] \"floor^3\"  \"floor^4\" "
            ],
            "text/latex": "\\begin{enumerate*}\n\\item 'Y'\n\\item 'dupflag'\n\\item 'floor'\n\\item 'lon'\n\\item 'region'\n\\item 'stfips'\n\\item 'stratum'\n\\item 'typebldg'\n\\item 'zip'\n\\item 'Uppm'\n\\item 'basement'\n\\item 'county'\n\\item 'pcterr'\n\\item 'pcterr\\textasciicircum{}2'\n\\item 'pcterr\\textasciicircum{}3'\n\\item 'pcterr\\textasciicircum{}4'\n\\item 'pcterr\\textasciicircum{}5'\n\\item 'pcterr\\textasciicircum{}6'\n\\item 'pcterr\\textasciicircum{}7'\n\\item 'pcterr\\textasciicircum{}8'\n\\item 'state\\_AZ'\n\\item 'state\\_IN'\n\\item 'state\\_MA'\n\\item 'state\\_MN'\n\\item 'state\\_MO'\n\\item 'state\\_ND'\n\\item 'state\\_PA'\n\\item 'state\\_R5'\n\\item 'county\\textasciicircum{}2'\n\\item 'county\\textasciicircum{}3'\n\\item 'Uppm\\textasciicircum{}2'\n\\item 'Uppm\\textasciicircum{}3'\n\\item 'Uppm\\textasciicircum{}4'\n\\item 'Uppm\\textasciicircum{}5'\n\\item 'Uppm\\textasciicircum{}6'\n\\item 'floor\\textasciicircum{}2'\n\\item 'floor\\textasciicircum{}3'\n\\item 'floor\\textasciicircum{}4'\n\\end{enumerate*}\n",
            "text/markdown": "1. 'Y'\n2. 'dupflag'\n3. 'floor'\n4. 'lon'\n5. 'region'\n6. 'stfips'\n7. 'stratum'\n8. 'typebldg'\n9. 'zip'\n10. 'Uppm'\n11. 'basement'\n12. 'county'\n13. 'pcterr'\n14. 'pcterr^2'\n15. 'pcterr^3'\n16. 'pcterr^4'\n17. 'pcterr^5'\n18. 'pcterr^6'\n19. 'pcterr^7'\n20. 'pcterr^8'\n21. 'state_AZ'\n22. 'state_IN'\n23. 'state_MA'\n24. 'state_MN'\n25. 'state_MO'\n26. 'state_ND'\n27. 'state_PA'\n28. 'state_R5'\n29. 'county^2'\n30. 'county^3'\n31. 'Uppm^2'\n32. 'Uppm^3'\n33. 'Uppm^4'\n34. 'Uppm^5'\n35. 'Uppm^6'\n36. 'floor^2'\n37. 'floor^3'\n38. 'floor^4'\n\n\n",
            "text/html": [
              "<style>\n",
              ".list-inline {list-style: none; margin:0; padding: 0}\n",
              ".list-inline>li {display: inline-block}\n",
              ".list-inline>li:not(:last-child)::after {content: \"\\00b7\"; padding: 0 .5ex}\n",
              "</style>\n",
              "<ol class=list-inline><li>'Y'</li><li>'dupflag'</li><li>'floor'</li><li>'lon'</li><li>'region'</li><li>'stfips'</li><li>'stratum'</li><li>'typebldg'</li><li>'zip'</li><li>'Uppm'</li><li>'basement'</li><li>'county'</li><li>'pcterr'</li><li>'pcterr^2'</li><li>'pcterr^3'</li><li>'pcterr^4'</li><li>'pcterr^5'</li><li>'pcterr^6'</li><li>'pcterr^7'</li><li>'pcterr^8'</li><li>'state_AZ'</li><li>'state_IN'</li><li>'state_MA'</li><li>'state_MN'</li><li>'state_MO'</li><li>'state_ND'</li><li>'state_PA'</li><li>'state_R5'</li><li>'county^2'</li><li>'county^3'</li><li>'Uppm^2'</li><li>'Uppm^3'</li><li>'Uppm^4'</li><li>'Uppm^5'</li><li>'Uppm^6'</li><li>'floor^2'</li><li>'floor^3'</li><li>'floor^4'</li></ol>\n"
            ]
          },
          "metadata": {}
        }
      ]
    },
    {
      "cell_type": "code",
      "source": [
        "set.seed(122)\n",
        "\n",
        "training_size <- 0.7\n",
        "training_rows <- sample(seq_len(nrow(encoded_df)), size = floor(training_size * nrow(encoded_df)))\n",
        "#training set\n",
        "tXY_training <- encoded_df[training_rows, ]\n",
        "#validation set\n",
        "tXY_validation <- encoded_df[-training_rows, ]\n",
        "\n",
        "paste(\"Training size: \", nrow(tXY_training))\n",
        "paste(\"Validation size: \", nrow(tXY_validation))"
      ],
      "metadata": {
        "colab": {
          "base_uri": "https://localhost:8080/",
          "height": 52
        },
        "id": "h40fCxjAud0X",
        "outputId": "307fbdfa-8261-4b08-a736-b6416998bc32"
      },
      "execution_count": null,
      "outputs": [
        {
          "output_type": "display_data",
          "data": {
            "text/plain": [
              "[1] \"Training size:  4400\""
            ],
            "text/latex": "'Training size:  4400'",
            "text/markdown": "<span style=white-space:pre-wrap>'Training size:  4400'</span>",
            "text/html": [
              "<span style=white-space:pre-wrap>'Training size:  4400'</span>"
            ]
          },
          "metadata": {}
        },
        {
          "output_type": "display_data",
          "data": {
            "text/plain": [
              "[1] \"Validation size:  1887\""
            ],
            "text/latex": "'Validation size:  1887'",
            "text/markdown": "<span style=white-space:pre-wrap>'Validation size:  1887'</span>",
            "text/html": [
              "<span style=white-space:pre-wrap>'Validation size:  1887'</span>"
            ]
          },
          "metadata": {}
        }
      ]
    },
    {
      "cell_type": "code",
      "source": [
        "m <- lm(Y ~ ., data=tXY_training)   # placing parenthesis around expression prints the updated variable\n",
        "predictions <- m %>% predict(tXY_validation)\n",
        "RMSE(predictions, tXY_validation$Y)"
      ],
      "metadata": {
        "colab": {
          "base_uri": "https://localhost:8080/",
          "height": 69
        },
        "id": "JAbKGhgMy6lN",
        "outputId": "b9207c89-8b17-40a4-b915-69bbb56f9a70"
      },
      "execution_count": null,
      "outputs": [
        {
          "output_type": "stream",
          "name": "stderr",
          "text": [
            "Warning message in predict.lm(., tXY_validation):\n",
            "“prediction from a rank-deficient fit may be misleading”\n"
          ]
        },
        {
          "output_type": "display_data",
          "data": {
            "text/plain": [
              "[1] 5219903"
            ],
            "text/latex": "5219903.48102558",
            "text/markdown": "5219903.48102558",
            "text/html": [
              "5219903.48102558"
            ]
          },
          "metadata": {}
        }
      ]
    },
    {
      "cell_type": "code",
      "source": [
        "summary(m)"
      ],
      "metadata": {
        "colab": {
          "base_uri": "https://localhost:8080/",
          "height": 954
        },
        "id": "cVibqPecLeIa",
        "outputId": "f13b0a65-b6c9-4048-bb7b-0c144d03fca0"
      },
      "execution_count": null,
      "outputs": [
        {
          "output_type": "display_data",
          "data": {
            "text/plain": [
              "\n",
              "Call:\n",
              "lm(formula = Y ~ ., data = tXY_training)\n",
              "\n",
              "Residuals:\n",
              "    Min      1Q  Median      3Q     Max \n",
              "-13.494  -2.688  -0.585   1.294 275.506 \n",
              "\n",
              "Coefficients: (1 not defined because of singularities)\n",
              "              Estimate Std. Error t value Pr(>|t|)    \n",
              "(Intercept)  1.726e+01  1.009e+01   1.711  0.08711 .  \n",
              "dupflag      3.369e+00  5.873e-01   5.737 1.03e-08 ***\n",
              "floor       -4.620e+00  5.676e+00  -0.814  0.41567    \n",
              "lon          8.713e-02  7.492e-02   1.163  0.24495    \n",
              "region      -2.186e-01  6.777e-02  -3.225  0.00127 ** \n",
              "stfips      -5.885e-03  6.470e-02  -0.091  0.92753    \n",
              "stratum      1.127e-01  1.024e-01   1.100  0.27144    \n",
              "typebldg    -4.861e-01  2.480e-01  -1.960  0.05008 .  \n",
              "zip         -7.835e-05  1.356e-04  -0.578  0.56351    \n",
              "Uppm         8.693e-01  9.398e+00   0.092  0.92631    \n",
              "basement     6.019e-01  2.668e-01   2.256  0.02414 *  \n",
              "county       1.081e-02  1.125e-02   0.961  0.33670    \n",
              "pcterr       7.772e-01  1.802e-01   4.314 1.64e-05 ***\n",
              "`pcterr^2`  -2.169e-01  2.583e-02  -8.398  < 2e-16 ***\n",
              "`pcterr^3`   1.423e-02  1.556e-03   9.146  < 2e-16 ***\n",
              "`pcterr^4`  -4.215e-04  4.660e-05  -9.045  < 2e-16 ***\n",
              "`pcterr^5`   6.508e-06  7.458e-07   8.726  < 2e-16 ***\n",
              "`pcterr^6`  -5.404e-08  6.453e-09  -8.373  < 2e-16 ***\n",
              "`pcterr^7`   2.274e-10  2.827e-11   8.046 1.09e-15 ***\n",
              "`pcterr^8`  -3.786e-13  4.875e-14  -7.766 1.00e-14 ***\n",
              "state_AZ     5.691e+00  4.880e+00   1.166  0.24362    \n",
              "state_IN     1.420e-01  1.597e+00   0.089  0.92915    \n",
              "state_MA    -4.311e+00  6.917e+00  -0.623  0.53309    \n",
              "state_MN     2.018e+00  1.242e+00   1.625  0.10429    \n",
              "state_MO     1.597e+00  2.231e+00   0.716  0.47409    \n",
              "state_ND     3.871e+00  1.995e+00   1.941  0.05238 .  \n",
              "state_PA     5.716e-01  4.838e+00   0.118  0.90595    \n",
              "state_R5            NA         NA      NA       NA    \n",
              "`county^2`  -6.006e-05  8.437e-05  -0.712  0.47655    \n",
              "`county^3`   7.865e-08  1.712e-07   0.459  0.64603    \n",
              "`Uppm^2`    -3.685e+00  2.134e+01  -0.173  0.86294    \n",
              "`Uppm^3`     5.252e+00  2.050e+01   0.256  0.79785    \n",
              "`Uppm^4`    -2.832e+00  9.680e+00  -0.293  0.76989    \n",
              "`Uppm^5`     6.392e-01  2.209e+00   0.289  0.77233    \n",
              "`Uppm^6`    -5.096e-02  1.945e-01  -0.262  0.79330    \n",
              "`floor^2`    4.745e+00  8.199e+00   0.579  0.56282    \n",
              "`floor^3`   -1.526e+00  2.808e+00  -0.544  0.58679    \n",
              "`floor^4`    1.170e-01  2.189e-01   0.534  0.59308    \n",
              "---\n",
              "Signif. codes:  0 ‘***’ 0.001 ‘**’ 0.01 ‘*’ 0.05 ‘.’ 0.1 ‘ ’ 1\n",
              "\n",
              "Residual standard error: 8.203 on 4363 degrees of freedom\n",
              "Multiple R-squared:  0.1709,\tAdjusted R-squared:  0.1641 \n",
              "F-statistic: 24.99 on 36 and 4363 DF,  p-value: < 2.2e-16\n"
            ]
          },
          "metadata": {}
        }
      ]
    },
    {
      "cell_type": "code",
      "source": [
        "mean((tXY_validation$Y - predictions)^2)"
      ],
      "metadata": {
        "colab": {
          "base_uri": "https://localhost:8080/",
          "height": 34
        },
        "id": "7_4AqsDczr5H",
        "outputId": "6ae3d56c-7d1a-4bfe-f4d1-3168c5976e5f"
      },
      "execution_count": null,
      "outputs": [
        {
          "output_type": "display_data",
          "data": {
            "text/plain": [
              "[1] 2.724739e+13"
            ],
            "text/latex": "27247392351223",
            "text/markdown": "27247392351223",
            "text/html": [
              "27247392351223"
            ]
          },
          "metadata": {}
        }
      ]
    },
    {
      "cell_type": "code",
      "source": [
        "m <- lm(Y ~.-zip-typebldg, data=encoded_df)   # placing parenthesis around expression prints the updated variable\n",
        "predictions <- m %>% predict(tXY_validation)\n",
        "RMSE(predictions, tXY_validation$Y)\n",
        "summary(m)"
      ],
      "metadata": {
        "colab": {
          "base_uri": "https://localhost:8080/",
          "height": 971
        },
        "id": "XTLbrfxLXoov",
        "outputId": "5fb849f7-f487-4e31-832e-7270763bdf4b"
      },
      "execution_count": null,
      "outputs": [
        {
          "output_type": "stream",
          "name": "stderr",
          "text": [
            "Warning message in predict.lm(., tXY_validation):\n",
            "“prediction from a rank-deficient fit may be misleading”\n"
          ]
        },
        {
          "output_type": "display_data",
          "data": {
            "text/plain": [
              "[1] 10.642"
            ],
            "text/latex": "10.6419985847619",
            "text/markdown": "10.6419985847619",
            "text/html": [
              "10.6419985847619"
            ]
          },
          "metadata": {}
        },
        {
          "output_type": "display_data",
          "data": {
            "text/plain": [
              "\n",
              "Call:\n",
              "lm(formula = Y ~ . - zip - typebldg, data = encoded_df)\n",
              "\n",
              "Residuals:\n",
              "    Min      1Q  Median      3Q     Max \n",
              "-15.324  -2.882  -0.516   1.509 275.251 \n",
              "\n",
              "Coefficients: (1 not defined because of singularities)\n",
              "              Estimate Std. Error t value Pr(>|t|)    \n",
              "(Intercept)  1.291e+01  6.793e+00   1.900 0.057426 .  \n",
              "dupflag      4.348e+00  5.393e-01   8.061 8.98e-16 ***\n",
              "floor       -2.567e+00  5.601e+00  -0.458 0.646681    \n",
              "lon          7.046e-02  6.939e-02   1.015 0.309939    \n",
              "region      -2.913e-01  6.278e-02  -4.641 3.54e-06 ***\n",
              "stfips       3.715e-02  5.832e-02   0.637 0.524086    \n",
              "stratum      4.042e-02  8.770e-02   0.461 0.644855    \n",
              "Uppm        -2.361e+00  8.603e+00  -0.274 0.783765    \n",
              "basement     5.626e-01  2.383e-01   2.361 0.018266 *  \n",
              "county       7.088e-03  1.031e-02   0.688 0.491713    \n",
              "pcterr      -2.457e-01  1.319e-01  -1.863 0.062574 .  \n",
              "`pcterr^2`  -5.564e-02  1.546e-02  -3.598 0.000324 ***\n",
              "`pcterr^3`   3.920e-03  7.480e-04   5.240 1.66e-07 ***\n",
              "`pcterr^4`  -9.990e-05  1.750e-05  -5.709 1.19e-08 ***\n",
              "`pcterr^5`   1.221e-06  2.113e-07   5.778 7.92e-09 ***\n",
              "`pcterr^6`  -7.509e-09  1.314e-09  -5.713 1.16e-08 ***\n",
              "`pcterr^7`   2.164e-11  3.850e-12   5.621 1.98e-08 ***\n",
              "`pcterr^8`  -2.186e-14  3.937e-15  -5.551 2.95e-08 ***\n",
              "state_AZ     2.279e+00  2.211e+00   1.031 0.302807    \n",
              "state_IN     1.725e-01  1.314e+00   0.131 0.895584    \n",
              "state_MA    -9.020e-01  1.853e+00  -0.487 0.626339    \n",
              "state_MN     1.570e+00  1.020e+00   1.538 0.124011    \n",
              "state_MO    -6.049e-01  1.259e+00  -0.481 0.630814    \n",
              "state_ND     2.708e+00  1.564e+00   1.731 0.083433 .  \n",
              "state_PA     2.675e+00  1.670e+00   1.601 0.109324    \n",
              "state_R5            NA         NA      NA       NA    \n",
              "`county^2`  -4.929e-05  7.842e-05  -0.628 0.529706    \n",
              "`county^3`   9.224e-08  1.609e-07   0.573 0.566578    \n",
              "`Uppm^2`     3.263e-02  1.949e+01   0.002 0.998664    \n",
              "`Uppm^3`     4.754e+00  1.872e+01   0.254 0.799511    \n",
              "`Uppm^4`    -3.524e+00  8.840e+00  -0.399 0.690203    \n",
              "`Uppm^5`     9.210e-01  2.018e+00   0.456 0.648050    \n",
              "`Uppm^6`    -8.179e-02  1.775e-01  -0.461 0.645069    \n",
              "`floor^2`    1.202e+00  8.097e+00   0.148 0.881965    \n",
              "`floor^3`   -2.184e-01  2.768e+00  -0.079 0.937115    \n",
              "`floor^4`    1.257e-02  2.156e-01   0.058 0.953520    \n",
              "---\n",
              "Signif. codes:  0 ‘***’ 0.001 ‘**’ 0.01 ‘*’ 0.05 ‘.’ 0.1 ‘ ’ 1\n",
              "\n",
              "Residual standard error: 9.054 on 6252 degrees of freedom\n",
              "Multiple R-squared:  0.1617,\tAdjusted R-squared:  0.1572 \n",
              "F-statistic: 35.48 on 34 and 6252 DF,  p-value: < 2.2e-16\n"
            ]
          },
          "metadata": {}
        }
      ]
    },
    {
      "cell_type": "code",
      "source": [
        "round(t(head(vY <- setNames(data.frame(predict(m, vX)), 'y'), 20)), 1)  # make predictions on the test set"
      ],
      "metadata": {
        "id": "yxBO7AksUPhT",
        "outputId": "0b7bf75c-368f-40ed-8b55-669e2c73a97c",
        "colab": {
          "base_uri": "https://localhost:8080/",
          "height": 133
        }
      },
      "execution_count": null,
      "outputs": [
        {
          "output_type": "stream",
          "name": "stderr",
          "text": [
            "Warning message in predict.lm(m, vX):\n",
            "“prediction from a rank-deficient fit may be misleading”\n"
          ]
        },
        {
          "output_type": "display_data",
          "data": {
            "text/plain": [
              "  1   2   3   4  5   6   7    8   9    10  11  12   13  14   15  16  17  18 \n",
              "y 6.1 1.7 4.9 -2 1.8 7.9 -1.8 2.2 10.6 5.5 5.6 10.3 6.8 -1.4 2.2 6.1 7.5 6.9\n",
              "  19   20 \n",
              "y 10.3 4.6"
            ],
            "text/latex": "A matrix: 1 × 20 of type dbl\n\\begin{tabular}{r|llllllllllllllllllll}\n  & 1 & 2 & 3 & 4 & 5 & 6 & 7 & 8 & 9 & 10 & 11 & 12 & 13 & 14 & 15 & 16 & 17 & 18 & 19 & 20\\\\\n\\hline\n\ty & 6.1 & 1.7 & 4.9 & -2 & 1.8 & 7.9 & -1.8 & 2.2 & 10.6 & 5.5 & 5.6 & 10.3 & 6.8 & -1.4 & 2.2 & 6.1 & 7.5 & 6.9 & 10.3 & 4.6\\\\\n\\end{tabular}\n",
            "text/markdown": "\nA matrix: 1 × 20 of type dbl\n\n| <!--/--> | 1 | 2 | 3 | 4 | 5 | 6 | 7 | 8 | 9 | 10 | 11 | 12 | 13 | 14 | 15 | 16 | 17 | 18 | 19 | 20 |\n|---|---|---|---|---|---|---|---|---|---|---|---|---|---|---|---|---|---|---|---|---|\n| y | 6.1 | 1.7 | 4.9 | -2 | 1.8 | 7.9 | -1.8 | 2.2 | 10.6 | 5.5 | 5.6 | 10.3 | 6.8 | -1.4 | 2.2 | 6.1 | 7.5 | 6.9 | 10.3 | 4.6 |\n\n",
            "text/html": [
              "<table class=\"dataframe\">\n",
              "<caption>A matrix: 1 × 20 of type dbl</caption>\n",
              "<thead>\n",
              "\t<tr><th></th><th scope=col>1</th><th scope=col>2</th><th scope=col>3</th><th scope=col>4</th><th scope=col>5</th><th scope=col>6</th><th scope=col>7</th><th scope=col>8</th><th scope=col>9</th><th scope=col>10</th><th scope=col>11</th><th scope=col>12</th><th scope=col>13</th><th scope=col>14</th><th scope=col>15</th><th scope=col>16</th><th scope=col>17</th><th scope=col>18</th><th scope=col>19</th><th scope=col>20</th></tr>\n",
              "</thead>\n",
              "<tbody>\n",
              "\t<tr><th scope=row>y</th><td>6.1</td><td>1.7</td><td>4.9</td><td>-2</td><td>1.8</td><td>7.9</td><td>-1.8</td><td>2.2</td><td>10.6</td><td>5.5</td><td>5.6</td><td>10.3</td><td>6.8</td><td>-1.4</td><td>2.2</td><td>6.1</td><td>7.5</td><td>6.9</td><td>10.3</td><td>4.6</td></tr>\n",
              "</tbody>\n",
              "</table>\n"
            ]
          },
          "metadata": {}
        }
      ]
    },
    {
      "cell_type": "code",
      "source": [
        "write.csv(cbind(id=1:nrow(vY), vY), file='fin.csv', row.names=F)  # write to CSV file"
      ],
      "metadata": {
        "id": "RdvgdcNpVu97"
      },
      "execution_count": null,
      "outputs": []
    },
    {
      "cell_type": "markdown",
      "metadata": {
        "id": "pB0a5X5NunFU"
      },
      "source": [
        "<font size=5>⏳</font> <strong><font color=orange size=5>Do not exceed competition's runtime limit!</font></strong>\n",
        "\n",
        "<hr color=red>\n"
      ]
    },
    {
      "cell_type": "code",
      "source": [
        "RunTime = round(difftime(Sys.time(), t0, units = \"secs\")[[1]])\n",
        "msg = paste0('Runtime is ',RunTime,' sec. Time limit is ', timeLim, ' sec')\n",
        "cat(ifelse(timeLim<RunTime, bold(red(paste0('Limit exceeded!!! ', msg))), msg))"
      ],
      "metadata": {
        "id": "FpatiZgGIe0F",
        "outputId": "33c6569e-6dd3-4408-f030-c5b3eae041f2",
        "colab": {
          "base_uri": "https://localhost:8080/"
        }
      },
      "execution_count": null,
      "outputs": [
        {
          "output_type": "stream",
          "name": "stdout",
          "text": [
            "Runtime is 2 sec. Time limit is 60 sec"
          ]
        }
      ]
    }
  ]
}