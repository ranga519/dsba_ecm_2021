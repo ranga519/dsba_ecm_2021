{
 "cells": [
  {
   "cell_type": "code",
   "execution_count": null,
   "id": "b678c159",
   "metadata": {},
   "outputs": [],
   "source": [
    "# install.packages('dplyr')"
   ]
  },
  {
   "cell_type": "code",
   "execution_count": 2,
   "id": "a4b413a4",
   "metadata": {
    "ExecuteTime": {
     "end_time": "2021-09-24T15:15:23.263514Z",
     "start_time": "2021-09-24T15:15:23.248Z"
    }
   },
   "outputs": [],
   "source": [
    "library(dplyr)"
   ]
  },
  {
   "cell_type": "code",
   "execution_count": 5,
   "id": "6ef32b48",
   "metadata": {
    "ExecuteTime": {
     "end_time": "2021-09-24T15:16:59.903328Z",
     "start_time": "2021-09-24T15:16:59.875Z"
    }
   },
   "outputs": [
    {
     "data": {
      "text/html": [
       "<table>\n",
       "<caption>A data.frame: 6 × 11</caption>\n",
       "<thead>\n",
       "\t<tr><th></th><th scope=col>mpg</th><th scope=col>cyl</th><th scope=col>disp</th><th scope=col>hp</th><th scope=col>drat</th><th scope=col>wt</th><th scope=col>qsec</th><th scope=col>vs</th><th scope=col>am</th><th scope=col>gear</th><th scope=col>carb</th></tr>\n",
       "\t<tr><th></th><th scope=col>&lt;dbl&gt;</th><th scope=col>&lt;dbl&gt;</th><th scope=col>&lt;dbl&gt;</th><th scope=col>&lt;dbl&gt;</th><th scope=col>&lt;dbl&gt;</th><th scope=col>&lt;dbl&gt;</th><th scope=col>&lt;dbl&gt;</th><th scope=col>&lt;dbl&gt;</th><th scope=col>&lt;dbl&gt;</th><th scope=col>&lt;dbl&gt;</th><th scope=col>&lt;dbl&gt;</th></tr>\n",
       "</thead>\n",
       "<tbody>\n",
       "\t<tr><th scope=row>Mazda RX4</th><td>21.0</td><td>6</td><td>160</td><td>110</td><td>3.90</td><td>2.620</td><td>16.46</td><td>0</td><td>1</td><td>4</td><td>4</td></tr>\n",
       "\t<tr><th scope=row>Mazda RX4 Wag</th><td>21.0</td><td>6</td><td>160</td><td>110</td><td>3.90</td><td>2.875</td><td>17.02</td><td>0</td><td>1</td><td>4</td><td>4</td></tr>\n",
       "\t<tr><th scope=row>Datsun 710</th><td>22.8</td><td>4</td><td>108</td><td> 93</td><td>3.85</td><td>2.320</td><td>18.61</td><td>1</td><td>1</td><td>4</td><td>1</td></tr>\n",
       "\t<tr><th scope=row>Hornet 4 Drive</th><td>21.4</td><td>6</td><td>258</td><td>110</td><td>3.08</td><td>3.215</td><td>19.44</td><td>1</td><td>0</td><td>3</td><td>1</td></tr>\n",
       "\t<tr><th scope=row>Hornet Sportabout</th><td>18.7</td><td>8</td><td>360</td><td>175</td><td>3.15</td><td>3.440</td><td>17.02</td><td>0</td><td>0</td><td>3</td><td>2</td></tr>\n",
       "\t<tr><th scope=row>Valiant</th><td>18.1</td><td>6</td><td>225</td><td>105</td><td>2.76</td><td>3.460</td><td>20.22</td><td>1</td><td>0</td><td>3</td><td>1</td></tr>\n",
       "</tbody>\n",
       "</table>\n"
      ],
      "text/latex": [
       "A data.frame: 6 × 11\n",
       "\\begin{tabular}{r|lllllllllll}\n",
       "  & mpg & cyl & disp & hp & drat & wt & qsec & vs & am & gear & carb\\\\\n",
       "  & <dbl> & <dbl> & <dbl> & <dbl> & <dbl> & <dbl> & <dbl> & <dbl> & <dbl> & <dbl> & <dbl>\\\\\n",
       "\\hline\n",
       "\tMazda RX4 & 21.0 & 6 & 160 & 110 & 3.90 & 2.620 & 16.46 & 0 & 1 & 4 & 4\\\\\n",
       "\tMazda RX4 Wag & 21.0 & 6 & 160 & 110 & 3.90 & 2.875 & 17.02 & 0 & 1 & 4 & 4\\\\\n",
       "\tDatsun 710 & 22.8 & 4 & 108 &  93 & 3.85 & 2.320 & 18.61 & 1 & 1 & 4 & 1\\\\\n",
       "\tHornet 4 Drive & 21.4 & 6 & 258 & 110 & 3.08 & 3.215 & 19.44 & 1 & 0 & 3 & 1\\\\\n",
       "\tHornet Sportabout & 18.7 & 8 & 360 & 175 & 3.15 & 3.440 & 17.02 & 0 & 0 & 3 & 2\\\\\n",
       "\tValiant & 18.1 & 6 & 225 & 105 & 2.76 & 3.460 & 20.22 & 1 & 0 & 3 & 1\\\\\n",
       "\\end{tabular}\n"
      ],
      "text/markdown": [
       "\n",
       "A data.frame: 6 × 11\n",
       "\n",
       "| <!--/--> | mpg &lt;dbl&gt; | cyl &lt;dbl&gt; | disp &lt;dbl&gt; | hp &lt;dbl&gt; | drat &lt;dbl&gt; | wt &lt;dbl&gt; | qsec &lt;dbl&gt; | vs &lt;dbl&gt; | am &lt;dbl&gt; | gear &lt;dbl&gt; | carb &lt;dbl&gt; |\n",
       "|---|---|---|---|---|---|---|---|---|---|---|---|\n",
       "| Mazda RX4 | 21.0 | 6 | 160 | 110 | 3.90 | 2.620 | 16.46 | 0 | 1 | 4 | 4 |\n",
       "| Mazda RX4 Wag | 21.0 | 6 | 160 | 110 | 3.90 | 2.875 | 17.02 | 0 | 1 | 4 | 4 |\n",
       "| Datsun 710 | 22.8 | 4 | 108 |  93 | 3.85 | 2.320 | 18.61 | 1 | 1 | 4 | 1 |\n",
       "| Hornet 4 Drive | 21.4 | 6 | 258 | 110 | 3.08 | 3.215 | 19.44 | 1 | 0 | 3 | 1 |\n",
       "| Hornet Sportabout | 18.7 | 8 | 360 | 175 | 3.15 | 3.440 | 17.02 | 0 | 0 | 3 | 2 |\n",
       "| Valiant | 18.1 | 6 | 225 | 105 | 2.76 | 3.460 | 20.22 | 1 | 0 | 3 | 1 |\n",
       "\n"
      ],
      "text/plain": [
       "                  mpg  cyl disp hp  drat wt    qsec  vs am gear carb\n",
       "Mazda RX4         21.0 6   160  110 3.90 2.620 16.46 0  1  4    4   \n",
       "Mazda RX4 Wag     21.0 6   160  110 3.90 2.875 17.02 0  1  4    4   \n",
       "Datsun 710        22.8 4   108   93 3.85 2.320 18.61 1  1  4    1   \n",
       "Hornet 4 Drive    21.4 6   258  110 3.08 3.215 19.44 1  0  3    1   \n",
       "Hornet Sportabout 18.7 8   360  175 3.15 3.440 17.02 0  0  3    2   \n",
       "Valiant           18.1 6   225  105 2.76 3.460 20.22 1  0  3    1   "
      ]
     },
     "metadata": {},
     "output_type": "display_data"
    },
    {
     "data": {
      "text/html": [
       "<table>\n",
       "<caption>A data.frame: 6 × 11</caption>\n",
       "<thead>\n",
       "\t<tr><th></th><th scope=col>mpg</th><th scope=col>cyl</th><th scope=col>disp</th><th scope=col>hp</th><th scope=col>drat</th><th scope=col>wt</th><th scope=col>qsec</th><th scope=col>vs</th><th scope=col>am</th><th scope=col>gear</th><th scope=col>carb</th></tr>\n",
       "\t<tr><th></th><th scope=col>&lt;dbl&gt;</th><th scope=col>&lt;dbl&gt;</th><th scope=col>&lt;dbl&gt;</th><th scope=col>&lt;dbl&gt;</th><th scope=col>&lt;dbl&gt;</th><th scope=col>&lt;dbl&gt;</th><th scope=col>&lt;dbl&gt;</th><th scope=col>&lt;dbl&gt;</th><th scope=col>&lt;dbl&gt;</th><th scope=col>&lt;dbl&gt;</th><th scope=col>&lt;dbl&gt;</th></tr>\n",
       "</thead>\n",
       "<tbody>\n",
       "\t<tr><th scope=row>Porsche 914-2</th><td>26.0</td><td>4</td><td>120.3</td><td> 91</td><td>4.43</td><td>2.140</td><td>16.7</td><td>0</td><td>1</td><td>5</td><td>2</td></tr>\n",
       "\t<tr><th scope=row>Lotus Europa</th><td>30.4</td><td>4</td><td> 95.1</td><td>113</td><td>3.77</td><td>1.513</td><td>16.9</td><td>1</td><td>1</td><td>5</td><td>2</td></tr>\n",
       "\t<tr><th scope=row>Ford Pantera L</th><td>15.8</td><td>8</td><td>351.0</td><td>264</td><td>4.22</td><td>3.170</td><td>14.5</td><td>0</td><td>1</td><td>5</td><td>4</td></tr>\n",
       "\t<tr><th scope=row>Ferrari Dino</th><td>19.7</td><td>6</td><td>145.0</td><td>175</td><td>3.62</td><td>2.770</td><td>15.5</td><td>0</td><td>1</td><td>5</td><td>6</td></tr>\n",
       "\t<tr><th scope=row>Maserati Bora</th><td>15.0</td><td>8</td><td>301.0</td><td>335</td><td>3.54</td><td>3.570</td><td>14.6</td><td>0</td><td>1</td><td>5</td><td>8</td></tr>\n",
       "\t<tr><th scope=row>Volvo 142E</th><td>21.4</td><td>4</td><td>121.0</td><td>109</td><td>4.11</td><td>2.780</td><td>18.6</td><td>1</td><td>1</td><td>4</td><td>2</td></tr>\n",
       "</tbody>\n",
       "</table>\n"
      ],
      "text/latex": [
       "A data.frame: 6 × 11\n",
       "\\begin{tabular}{r|lllllllllll}\n",
       "  & mpg & cyl & disp & hp & drat & wt & qsec & vs & am & gear & carb\\\\\n",
       "  & <dbl> & <dbl> & <dbl> & <dbl> & <dbl> & <dbl> & <dbl> & <dbl> & <dbl> & <dbl> & <dbl>\\\\\n",
       "\\hline\n",
       "\tPorsche 914-2 & 26.0 & 4 & 120.3 &  91 & 4.43 & 2.140 & 16.7 & 0 & 1 & 5 & 2\\\\\n",
       "\tLotus Europa & 30.4 & 4 &  95.1 & 113 & 3.77 & 1.513 & 16.9 & 1 & 1 & 5 & 2\\\\\n",
       "\tFord Pantera L & 15.8 & 8 & 351.0 & 264 & 4.22 & 3.170 & 14.5 & 0 & 1 & 5 & 4\\\\\n",
       "\tFerrari Dino & 19.7 & 6 & 145.0 & 175 & 3.62 & 2.770 & 15.5 & 0 & 1 & 5 & 6\\\\\n",
       "\tMaserati Bora & 15.0 & 8 & 301.0 & 335 & 3.54 & 3.570 & 14.6 & 0 & 1 & 5 & 8\\\\\n",
       "\tVolvo 142E & 21.4 & 4 & 121.0 & 109 & 4.11 & 2.780 & 18.6 & 1 & 1 & 4 & 2\\\\\n",
       "\\end{tabular}\n"
      ],
      "text/markdown": [
       "\n",
       "A data.frame: 6 × 11\n",
       "\n",
       "| <!--/--> | mpg &lt;dbl&gt; | cyl &lt;dbl&gt; | disp &lt;dbl&gt; | hp &lt;dbl&gt; | drat &lt;dbl&gt; | wt &lt;dbl&gt; | qsec &lt;dbl&gt; | vs &lt;dbl&gt; | am &lt;dbl&gt; | gear &lt;dbl&gt; | carb &lt;dbl&gt; |\n",
       "|---|---|---|---|---|---|---|---|---|---|---|---|\n",
       "| Porsche 914-2 | 26.0 | 4 | 120.3 |  91 | 4.43 | 2.140 | 16.7 | 0 | 1 | 5 | 2 |\n",
       "| Lotus Europa | 30.4 | 4 |  95.1 | 113 | 3.77 | 1.513 | 16.9 | 1 | 1 | 5 | 2 |\n",
       "| Ford Pantera L | 15.8 | 8 | 351.0 | 264 | 4.22 | 3.170 | 14.5 | 0 | 1 | 5 | 4 |\n",
       "| Ferrari Dino | 19.7 | 6 | 145.0 | 175 | 3.62 | 2.770 | 15.5 | 0 | 1 | 5 | 6 |\n",
       "| Maserati Bora | 15.0 | 8 | 301.0 | 335 | 3.54 | 3.570 | 14.6 | 0 | 1 | 5 | 8 |\n",
       "| Volvo 142E | 21.4 | 4 | 121.0 | 109 | 4.11 | 2.780 | 18.6 | 1 | 1 | 4 | 2 |\n",
       "\n"
      ],
      "text/plain": [
       "               mpg  cyl disp  hp  drat wt    qsec vs am gear carb\n",
       "Porsche 914-2  26.0 4   120.3  91 4.43 2.140 16.7 0  1  5    2   \n",
       "Lotus Europa   30.4 4    95.1 113 3.77 1.513 16.9 1  1  5    2   \n",
       "Ford Pantera L 15.8 8   351.0 264 4.22 3.170 14.5 0  1  5    4   \n",
       "Ferrari Dino   19.7 6   145.0 175 3.62 2.770 15.5 0  1  5    6   \n",
       "Maserati Bora  15.0 8   301.0 335 3.54 3.570 14.6 0  1  5    8   \n",
       "Volvo 142E     21.4 4   121.0 109 4.11 2.780 18.6 1  1  4    2   "
      ]
     },
     "metadata": {},
     "output_type": "display_data"
    }
   ],
   "source": [
    "head(mtcars)\n",
    "tail(mtcars)"
   ]
  },
  {
   "cell_type": "code",
   "execution_count": 6,
   "id": "e6d926b4",
   "metadata": {
    "ExecuteTime": {
     "end_time": "2021-09-24T15:17:36.041573Z",
     "start_time": "2021-09-24T15:17:35.992Z"
    }
   },
   "outputs": [
    {
     "data": {
      "text/html": [
       "<table>\n",
       "<caption>A data.frame: 6 × 11</caption>\n",
       "<thead>\n",
       "\t<tr><th></th><th scope=col>mpg</th><th scope=col>cyl</th><th scope=col>disp</th><th scope=col>hp</th><th scope=col>drat</th><th scope=col>wt</th><th scope=col>qsec</th><th scope=col>vs</th><th scope=col>am</th><th scope=col>gear</th><th scope=col>carb</th></tr>\n",
       "\t<tr><th></th><th scope=col>&lt;dbl&gt;</th><th scope=col>&lt;dbl&gt;</th><th scope=col>&lt;dbl&gt;</th><th scope=col>&lt;dbl&gt;</th><th scope=col>&lt;dbl&gt;</th><th scope=col>&lt;dbl&gt;</th><th scope=col>&lt;dbl&gt;</th><th scope=col>&lt;dbl&gt;</th><th scope=col>&lt;dbl&gt;</th><th scope=col>&lt;dbl&gt;</th><th scope=col>&lt;dbl&gt;</th></tr>\n",
       "</thead>\n",
       "<tbody>\n",
       "\t<tr><th scope=row>Mazda RX4</th><td>21.0</td><td>6</td><td>160</td><td>110</td><td>3.90</td><td>2.620</td><td>16.46</td><td>0</td><td>1</td><td>4</td><td>4</td></tr>\n",
       "\t<tr><th scope=row>Mazda RX4 Wag</th><td>21.0</td><td>6</td><td>160</td><td>110</td><td>3.90</td><td>2.875</td><td>17.02</td><td>0</td><td>1</td><td>4</td><td>4</td></tr>\n",
       "\t<tr><th scope=row>Datsun 710</th><td>22.8</td><td>4</td><td>108</td><td> 93</td><td>3.85</td><td>2.320</td><td>18.61</td><td>1</td><td>1</td><td>4</td><td>1</td></tr>\n",
       "\t<tr><th scope=row>Hornet 4 Drive</th><td>21.4</td><td>6</td><td>258</td><td>110</td><td>3.08</td><td>3.215</td><td>19.44</td><td>1</td><td>0</td><td>3</td><td>1</td></tr>\n",
       "\t<tr><th scope=row>Hornet Sportabout</th><td>18.7</td><td>8</td><td>360</td><td>175</td><td>3.15</td><td>3.440</td><td>17.02</td><td>0</td><td>0</td><td>3</td><td>2</td></tr>\n",
       "\t<tr><th scope=row>Valiant</th><td>18.1</td><td>6</td><td>225</td><td>105</td><td>2.76</td><td>3.460</td><td>20.22</td><td>1</td><td>0</td><td>3</td><td>1</td></tr>\n",
       "</tbody>\n",
       "</table>\n"
      ],
      "text/latex": [
       "A data.frame: 6 × 11\n",
       "\\begin{tabular}{r|lllllllllll}\n",
       "  & mpg & cyl & disp & hp & drat & wt & qsec & vs & am & gear & carb\\\\\n",
       "  & <dbl> & <dbl> & <dbl> & <dbl> & <dbl> & <dbl> & <dbl> & <dbl> & <dbl> & <dbl> & <dbl>\\\\\n",
       "\\hline\n",
       "\tMazda RX4 & 21.0 & 6 & 160 & 110 & 3.90 & 2.620 & 16.46 & 0 & 1 & 4 & 4\\\\\n",
       "\tMazda RX4 Wag & 21.0 & 6 & 160 & 110 & 3.90 & 2.875 & 17.02 & 0 & 1 & 4 & 4\\\\\n",
       "\tDatsun 710 & 22.8 & 4 & 108 &  93 & 3.85 & 2.320 & 18.61 & 1 & 1 & 4 & 1\\\\\n",
       "\tHornet 4 Drive & 21.4 & 6 & 258 & 110 & 3.08 & 3.215 & 19.44 & 1 & 0 & 3 & 1\\\\\n",
       "\tHornet Sportabout & 18.7 & 8 & 360 & 175 & 3.15 & 3.440 & 17.02 & 0 & 0 & 3 & 2\\\\\n",
       "\tValiant & 18.1 & 6 & 225 & 105 & 2.76 & 3.460 & 20.22 & 1 & 0 & 3 & 1\\\\\n",
       "\\end{tabular}\n"
      ],
      "text/markdown": [
       "\n",
       "A data.frame: 6 × 11\n",
       "\n",
       "| <!--/--> | mpg &lt;dbl&gt; | cyl &lt;dbl&gt; | disp &lt;dbl&gt; | hp &lt;dbl&gt; | drat &lt;dbl&gt; | wt &lt;dbl&gt; | qsec &lt;dbl&gt; | vs &lt;dbl&gt; | am &lt;dbl&gt; | gear &lt;dbl&gt; | carb &lt;dbl&gt; |\n",
       "|---|---|---|---|---|---|---|---|---|---|---|---|\n",
       "| Mazda RX4 | 21.0 | 6 | 160 | 110 | 3.90 | 2.620 | 16.46 | 0 | 1 | 4 | 4 |\n",
       "| Mazda RX4 Wag | 21.0 | 6 | 160 | 110 | 3.90 | 2.875 | 17.02 | 0 | 1 | 4 | 4 |\n",
       "| Datsun 710 | 22.8 | 4 | 108 |  93 | 3.85 | 2.320 | 18.61 | 1 | 1 | 4 | 1 |\n",
       "| Hornet 4 Drive | 21.4 | 6 | 258 | 110 | 3.08 | 3.215 | 19.44 | 1 | 0 | 3 | 1 |\n",
       "| Hornet Sportabout | 18.7 | 8 | 360 | 175 | 3.15 | 3.440 | 17.02 | 0 | 0 | 3 | 2 |\n",
       "| Valiant | 18.1 | 6 | 225 | 105 | 2.76 | 3.460 | 20.22 | 1 | 0 | 3 | 1 |\n",
       "\n"
      ],
      "text/plain": [
       "                  mpg  cyl disp hp  drat wt    qsec  vs am gear carb\n",
       "Mazda RX4         21.0 6   160  110 3.90 2.620 16.46 0  1  4    4   \n",
       "Mazda RX4 Wag     21.0 6   160  110 3.90 2.875 17.02 0  1  4    4   \n",
       "Datsun 710        22.8 4   108   93 3.85 2.320 18.61 1  1  4    1   \n",
       "Hornet 4 Drive    21.4 6   258  110 3.08 3.215 19.44 1  0  3    1   \n",
       "Hornet Sportabout 18.7 8   360  175 3.15 3.440 17.02 0  0  3    2   \n",
       "Valiant           18.1 6   225  105 2.76 3.460 20.22 1  0  3    1   "
      ]
     },
     "metadata": {},
     "output_type": "display_data"
    }
   ],
   "source": [
    "mtcars %>% head()"
   ]
  },
  {
   "cell_type": "code",
   "execution_count": 8,
   "id": "e33dfa11",
   "metadata": {
    "ExecuteTime": {
     "end_time": "2021-09-24T15:18:34.160512Z",
     "start_time": "2021-09-24T15:18:34.108Z"
    }
   },
   "outputs": [
    {
     "data": {
      "text/html": [
       "<table>\n",
       "<caption>A data.frame: 14 × 3</caption>\n",
       "<thead>\n",
       "\t<tr><th></th><th scope=col>mpg</th><th scope=col>cyl</th><th scope=col>hp</th></tr>\n",
       "\t<tr><th></th><th scope=col>&lt;dbl&gt;</th><th scope=col>&lt;dbl&gt;</th><th scope=col>&lt;dbl&gt;</th></tr>\n",
       "</thead>\n",
       "<tbody>\n",
       "\t<tr><th scope=row>Mazda RX4</th><td>21.0</td><td>6</td><td>110</td></tr>\n",
       "\t<tr><th scope=row>Mazda RX4 Wag</th><td>21.0</td><td>6</td><td>110</td></tr>\n",
       "\t<tr><th scope=row>Datsun 710</th><td>22.8</td><td>4</td><td> 93</td></tr>\n",
       "\t<tr><th scope=row>Hornet 4 Drive</th><td>21.4</td><td>6</td><td>110</td></tr>\n",
       "\t<tr><th scope=row>Merc 240D</th><td>24.4</td><td>4</td><td> 62</td></tr>\n",
       "\t<tr><th scope=row>Merc 230</th><td>22.8</td><td>4</td><td> 95</td></tr>\n",
       "\t<tr><th scope=row>Fiat 128</th><td>32.4</td><td>4</td><td> 66</td></tr>\n",
       "\t<tr><th scope=row>Honda Civic</th><td>30.4</td><td>4</td><td> 52</td></tr>\n",
       "\t<tr><th scope=row>Toyota Corolla</th><td>33.9</td><td>4</td><td> 65</td></tr>\n",
       "\t<tr><th scope=row>Toyota Corona</th><td>21.5</td><td>4</td><td> 97</td></tr>\n",
       "\t<tr><th scope=row>Fiat X1-9</th><td>27.3</td><td>4</td><td> 66</td></tr>\n",
       "\t<tr><th scope=row>Porsche 914-2</th><td>26.0</td><td>4</td><td> 91</td></tr>\n",
       "\t<tr><th scope=row>Lotus Europa</th><td>30.4</td><td>4</td><td>113</td></tr>\n",
       "\t<tr><th scope=row>Volvo 142E</th><td>21.4</td><td>4</td><td>109</td></tr>\n",
       "</tbody>\n",
       "</table>\n"
      ],
      "text/latex": [
       "A data.frame: 14 × 3\n",
       "\\begin{tabular}{r|lll}\n",
       "  & mpg & cyl & hp\\\\\n",
       "  & <dbl> & <dbl> & <dbl>\\\\\n",
       "\\hline\n",
       "\tMazda RX4 & 21.0 & 6 & 110\\\\\n",
       "\tMazda RX4 Wag & 21.0 & 6 & 110\\\\\n",
       "\tDatsun 710 & 22.8 & 4 &  93\\\\\n",
       "\tHornet 4 Drive & 21.4 & 6 & 110\\\\\n",
       "\tMerc 240D & 24.4 & 4 &  62\\\\\n",
       "\tMerc 230 & 22.8 & 4 &  95\\\\\n",
       "\tFiat 128 & 32.4 & 4 &  66\\\\\n",
       "\tHonda Civic & 30.4 & 4 &  52\\\\\n",
       "\tToyota Corolla & 33.9 & 4 &  65\\\\\n",
       "\tToyota Corona & 21.5 & 4 &  97\\\\\n",
       "\tFiat X1-9 & 27.3 & 4 &  66\\\\\n",
       "\tPorsche 914-2 & 26.0 & 4 &  91\\\\\n",
       "\tLotus Europa & 30.4 & 4 & 113\\\\\n",
       "\tVolvo 142E & 21.4 & 4 & 109\\\\\n",
       "\\end{tabular}\n"
      ],
      "text/markdown": [
       "\n",
       "A data.frame: 14 × 3\n",
       "\n",
       "| <!--/--> | mpg &lt;dbl&gt; | cyl &lt;dbl&gt; | hp &lt;dbl&gt; |\n",
       "|---|---|---|---|\n",
       "| Mazda RX4 | 21.0 | 6 | 110 |\n",
       "| Mazda RX4 Wag | 21.0 | 6 | 110 |\n",
       "| Datsun 710 | 22.8 | 4 |  93 |\n",
       "| Hornet 4 Drive | 21.4 | 6 | 110 |\n",
       "| Merc 240D | 24.4 | 4 |  62 |\n",
       "| Merc 230 | 22.8 | 4 |  95 |\n",
       "| Fiat 128 | 32.4 | 4 |  66 |\n",
       "| Honda Civic | 30.4 | 4 |  52 |\n",
       "| Toyota Corolla | 33.9 | 4 |  65 |\n",
       "| Toyota Corona | 21.5 | 4 |  97 |\n",
       "| Fiat X1-9 | 27.3 | 4 |  66 |\n",
       "| Porsche 914-2 | 26.0 | 4 |  91 |\n",
       "| Lotus Europa | 30.4 | 4 | 113 |\n",
       "| Volvo 142E | 21.4 | 4 | 109 |\n",
       "\n"
      ],
      "text/plain": [
       "               mpg  cyl hp \n",
       "Mazda RX4      21.0 6   110\n",
       "Mazda RX4 Wag  21.0 6   110\n",
       "Datsun 710     22.8 4    93\n",
       "Hornet 4 Drive 21.4 6   110\n",
       "Merc 240D      24.4 4    62\n",
       "Merc 230       22.8 4    95\n",
       "Fiat 128       32.4 4    66\n",
       "Honda Civic    30.4 4    52\n",
       "Toyota Corolla 33.9 4    65\n",
       "Toyota Corona  21.5 4    97\n",
       "Fiat X1-9      27.3 4    66\n",
       "Porsche 914-2  26.0 4    91\n",
       "Lotus Europa   30.4 4   113\n",
       "Volvo 142E     21.4 4   109"
      ]
     },
     "metadata": {},
     "output_type": "display_data"
    }
   ],
   "source": [
    "mtcars %>% select(mpg, cyl, hp) %>% filter(mpg>20)"
   ]
  },
  {
   "cell_type": "code",
   "execution_count": 9,
   "id": "fb6efc12",
   "metadata": {
    "ExecuteTime": {
     "end_time": "2021-09-24T15:19:17.298280Z",
     "start_time": "2021-09-24T15:19:17.065Z"
    }
   },
   "outputs": [],
   "source": [
    "# install.packages('dplyr')\n",
    "library(explore)"
   ]
  },
  {
   "cell_type": "code",
   "execution_count": 10,
   "id": "5961d97b",
   "metadata": {
    "ExecuteTime": {
     "end_time": "2021-09-24T15:19:59.027565Z",
     "start_time": "2021-09-24T15:19:58.913Z"
    }
   },
   "outputs": [
    {
     "data": {
      "text/html": [
       "<table>\n",
       "<caption>A tibble: 11 × 8</caption>\n",
       "<thead>\n",
       "\t<tr><th scope=col>variable</th><th scope=col>type</th><th scope=col>na</th><th scope=col>na_pct</th><th scope=col>unique</th><th scope=col>min</th><th scope=col>mean</th><th scope=col>max</th></tr>\n",
       "\t<tr><th scope=col>&lt;chr&gt;</th><th scope=col>&lt;chr&gt;</th><th scope=col>&lt;int&gt;</th><th scope=col>&lt;dbl&gt;</th><th scope=col>&lt;int&gt;</th><th scope=col>&lt;dbl&gt;</th><th scope=col>&lt;dbl&gt;</th><th scope=col>&lt;dbl&gt;</th></tr>\n",
       "</thead>\n",
       "<tbody>\n",
       "\t<tr><td>mpg </td><td>dbl</td><td>0</td><td>0</td><td>25</td><td>10.40</td><td> 20.09</td><td> 33.90</td></tr>\n",
       "\t<tr><td>cyl </td><td>dbl</td><td>0</td><td>0</td><td> 3</td><td> 4.00</td><td>  6.19</td><td>  8.00</td></tr>\n",
       "\t<tr><td>disp</td><td>dbl</td><td>0</td><td>0</td><td>27</td><td>71.10</td><td>230.72</td><td>472.00</td></tr>\n",
       "\t<tr><td>hp  </td><td>dbl</td><td>0</td><td>0</td><td>22</td><td>52.00</td><td>146.69</td><td>335.00</td></tr>\n",
       "\t<tr><td>drat</td><td>dbl</td><td>0</td><td>0</td><td>22</td><td> 2.76</td><td>  3.60</td><td>  4.93</td></tr>\n",
       "\t<tr><td>wt  </td><td>dbl</td><td>0</td><td>0</td><td>29</td><td> 1.51</td><td>  3.22</td><td>  5.42</td></tr>\n",
       "\t<tr><td>qsec</td><td>dbl</td><td>0</td><td>0</td><td>30</td><td>14.50</td><td> 17.85</td><td> 22.90</td></tr>\n",
       "\t<tr><td>vs  </td><td>dbl</td><td>0</td><td>0</td><td> 2</td><td> 0.00</td><td>  0.44</td><td>  1.00</td></tr>\n",
       "\t<tr><td>am  </td><td>dbl</td><td>0</td><td>0</td><td> 2</td><td> 0.00</td><td>  0.41</td><td>  1.00</td></tr>\n",
       "\t<tr><td>gear</td><td>dbl</td><td>0</td><td>0</td><td> 3</td><td> 3.00</td><td>  3.69</td><td>  5.00</td></tr>\n",
       "\t<tr><td>carb</td><td>dbl</td><td>0</td><td>0</td><td> 6</td><td> 1.00</td><td>  2.81</td><td>  8.00</td></tr>\n",
       "</tbody>\n",
       "</table>\n"
      ],
      "text/latex": [
       "A tibble: 11 × 8\n",
       "\\begin{tabular}{llllllll}\n",
       " variable & type & na & na\\_pct & unique & min & mean & max\\\\\n",
       " <chr> & <chr> & <int> & <dbl> & <int> & <dbl> & <dbl> & <dbl>\\\\\n",
       "\\hline\n",
       "\t mpg  & dbl & 0 & 0 & 25 & 10.40 &  20.09 &  33.90\\\\\n",
       "\t cyl  & dbl & 0 & 0 &  3 &  4.00 &   6.19 &   8.00\\\\\n",
       "\t disp & dbl & 0 & 0 & 27 & 71.10 & 230.72 & 472.00\\\\\n",
       "\t hp   & dbl & 0 & 0 & 22 & 52.00 & 146.69 & 335.00\\\\\n",
       "\t drat & dbl & 0 & 0 & 22 &  2.76 &   3.60 &   4.93\\\\\n",
       "\t wt   & dbl & 0 & 0 & 29 &  1.51 &   3.22 &   5.42\\\\\n",
       "\t qsec & dbl & 0 & 0 & 30 & 14.50 &  17.85 &  22.90\\\\\n",
       "\t vs   & dbl & 0 & 0 &  2 &  0.00 &   0.44 &   1.00\\\\\n",
       "\t am   & dbl & 0 & 0 &  2 &  0.00 &   0.41 &   1.00\\\\\n",
       "\t gear & dbl & 0 & 0 &  3 &  3.00 &   3.69 &   5.00\\\\\n",
       "\t carb & dbl & 0 & 0 &  6 &  1.00 &   2.81 &   8.00\\\\\n",
       "\\end{tabular}\n"
      ],
      "text/markdown": [
       "\n",
       "A tibble: 11 × 8\n",
       "\n",
       "| variable &lt;chr&gt; | type &lt;chr&gt; | na &lt;int&gt; | na_pct &lt;dbl&gt; | unique &lt;int&gt; | min &lt;dbl&gt; | mean &lt;dbl&gt; | max &lt;dbl&gt; |\n",
       "|---|---|---|---|---|---|---|---|\n",
       "| mpg  | dbl | 0 | 0 | 25 | 10.40 |  20.09 |  33.90 |\n",
       "| cyl  | dbl | 0 | 0 |  3 |  4.00 |   6.19 |   8.00 |\n",
       "| disp | dbl | 0 | 0 | 27 | 71.10 | 230.72 | 472.00 |\n",
       "| hp   | dbl | 0 | 0 | 22 | 52.00 | 146.69 | 335.00 |\n",
       "| drat | dbl | 0 | 0 | 22 |  2.76 |   3.60 |   4.93 |\n",
       "| wt   | dbl | 0 | 0 | 29 |  1.51 |   3.22 |   5.42 |\n",
       "| qsec | dbl | 0 | 0 | 30 | 14.50 |  17.85 |  22.90 |\n",
       "| vs   | dbl | 0 | 0 |  2 |  0.00 |   0.44 |   1.00 |\n",
       "| am   | dbl | 0 | 0 |  2 |  0.00 |   0.41 |   1.00 |\n",
       "| gear | dbl | 0 | 0 |  3 |  3.00 |   3.69 |   5.00 |\n",
       "| carb | dbl | 0 | 0 |  6 |  1.00 |   2.81 |   8.00 |\n",
       "\n"
      ],
      "text/plain": [
       "   variable type na na_pct unique min   mean   max   \n",
       "1  mpg      dbl  0  0      25     10.40  20.09  33.90\n",
       "2  cyl      dbl  0  0       3      4.00   6.19   8.00\n",
       "3  disp     dbl  0  0      27     71.10 230.72 472.00\n",
       "4  hp       dbl  0  0      22     52.00 146.69 335.00\n",
       "5  drat     dbl  0  0      22      2.76   3.60   4.93\n",
       "6  wt       dbl  0  0      29      1.51   3.22   5.42\n",
       "7  qsec     dbl  0  0      30     14.50  17.85  22.90\n",
       "8  vs       dbl  0  0       2      0.00   0.44   1.00\n",
       "9  am       dbl  0  0       2      0.00   0.41   1.00\n",
       "10 gear     dbl  0  0       3      3.00   3.69   5.00\n",
       "11 carb     dbl  0  0       6      1.00   2.81   8.00"
      ]
     },
     "metadata": {},
     "output_type": "display_data"
    }
   ],
   "source": [
    "mtcars %>% describe()"
   ]
  },
  {
   "cell_type": "code",
   "execution_count": 11,
   "id": "27f0cc5c",
   "metadata": {
    "ExecuteTime": {
     "end_time": "2021-09-24T15:20:20.410179Z",
     "start_time": "2021-09-24T15:20:20.361Z"
    }
   },
   "outputs": [
    {
     "data": {
      "text/plain": [
       "      mpg             cyl             disp             hp       \n",
       " Min.   :10.40   Min.   :4.000   Min.   : 71.1   Min.   : 52.0  \n",
       " 1st Qu.:15.43   1st Qu.:4.000   1st Qu.:120.8   1st Qu.: 96.5  \n",
       " Median :19.20   Median :6.000   Median :196.3   Median :123.0  \n",
       " Mean   :20.09   Mean   :6.188   Mean   :230.7   Mean   :146.7  \n",
       " 3rd Qu.:22.80   3rd Qu.:8.000   3rd Qu.:326.0   3rd Qu.:180.0  \n",
       " Max.   :33.90   Max.   :8.000   Max.   :472.0   Max.   :335.0  \n",
       "      drat             wt             qsec             vs        \n",
       " Min.   :2.760   Min.   :1.513   Min.   :14.50   Min.   :0.0000  \n",
       " 1st Qu.:3.080   1st Qu.:2.581   1st Qu.:16.89   1st Qu.:0.0000  \n",
       " Median :3.695   Median :3.325   Median :17.71   Median :0.0000  \n",
       " Mean   :3.597   Mean   :3.217   Mean   :17.85   Mean   :0.4375  \n",
       " 3rd Qu.:3.920   3rd Qu.:3.610   3rd Qu.:18.90   3rd Qu.:1.0000  \n",
       " Max.   :4.930   Max.   :5.424   Max.   :22.90   Max.   :1.0000  \n",
       "       am              gear            carb      \n",
       " Min.   :0.0000   Min.   :3.000   Min.   :1.000  \n",
       " 1st Qu.:0.0000   1st Qu.:3.000   1st Qu.:2.000  \n",
       " Median :0.0000   Median :4.000   Median :2.000  \n",
       " Mean   :0.4062   Mean   :3.688   Mean   :2.812  \n",
       " 3rd Qu.:1.0000   3rd Qu.:4.000   3rd Qu.:4.000  \n",
       " Max.   :1.0000   Max.   :5.000   Max.   :8.000  "
      ]
     },
     "metadata": {},
     "output_type": "display_data"
    }
   ],
   "source": [
    "summary(mtcars)"
   ]
  },
  {
   "cell_type": "code",
   "execution_count": 12,
   "id": "f93d9bea",
   "metadata": {
    "ExecuteTime": {
     "end_time": "2021-09-24T15:21:14.802414Z",
     "start_time": "2021-09-24T15:21:13.422Z"
    }
   },
   "outputs": [
    {
     "data": {
      "image/png": "[encoded data removed]",
      "text/plain": [
       "plot without title"
      ]
     },
     "metadata": {
      "image/png": {
       "height": 420,
       "width": 420
      }
     },
     "output_type": "display_data"
    }
   ],
   "source": [
    "mtcars %>% explore_all()"
   ]
  },
  {
   "cell_type": "code",
   "execution_count": 13,
   "id": "2b227367",
   "metadata": {
    "ExecuteTime": {
     "end_time": "2021-09-24T15:23:31.623752Z",
     "start_time": "2021-09-24T15:23:31.448Z"
    }
   },
   "outputs": [
    {
     "data": {
      "image/png": "[encoded data removed]",
      "text/plain": [
       "plot without title"
      ]
     },
     "metadata": {
      "image/png": {
       "height": 420,
       "width": 420
      }
     },
     "output_type": "display_data"
    }
   ],
   "source": [
    "mtcars %>% explore(gear)"
   ]
  },
  {
   "cell_type": "code",
   "execution_count": 20,
   "id": "f9a66c69",
   "metadata": {
    "ExecuteTime": {
     "end_time": "2021-09-24T15:28:05.781310Z",
     "start_time": "2021-09-24T15:28:05.206Z"
    }
   },
   "outputs": [
    {
     "data": {
      "image/png": "[encoded data removed]",
      "text/plain": [
       "plot without title"
      ]
     },
     "metadata": {
      "image/png": {
       "height": 420,
       "width": 420
      }
     },
     "output_type": "display_data"
    }
   ],
   "source": [
    "mtcars %>% select(gear, mpg, hp, cyl) %>% explore_all(target =gear)"
   ]
  },
  {
   "cell_type": "code",
   "execution_count": 16,
   "id": "3754e2c7",
   "metadata": {
    "ExecuteTime": {
     "end_time": "2021-09-24T15:25:48.268030Z",
     "start_time": "2021-09-24T15:25:48.125Z"
    }
   },
   "outputs": [
    {
     "data": {
      "image/png": "[encoded data removed]",
      "text/plain": [
       "plot without title"
      ]
     },
     "metadata": {
      "image/png": {
       "height": 420,
       "width": 420
      }
     },
     "output_type": "display_data"
    }
   ],
   "source": [
    "mtcars %>% explore(wt, mpg)"
   ]
  },
  {
   "cell_type": "code",
   "execution_count": 18,
   "id": "185fa63d",
   "metadata": {
    "ExecuteTime": {
     "end_time": "2021-09-24T15:26:44.001302Z",
     "start_time": "2021-09-24T15:26:43.963Z"
    }
   },
   "outputs": [],
   "source": [
    "library('ggplot2')"
   ]
  },
  {
   "cell_type": "code",
   "execution_count": 28,
   "id": "9d13e965",
   "metadata": {
    "ExecuteTime": {
     "end_time": "2021-09-24T15:30:01.698182Z",
     "start_time": "2021-09-24T15:30:01.676Z"
    }
   },
   "outputs": [],
   "source": [
    "# mtcars[['mpg']]"
   ]
  },
  {
   "cell_type": "code",
   "execution_count": 29,
   "id": "6cd916f4",
   "metadata": {
    "ExecuteTime": {
     "end_time": "2021-09-24T15:30:03.215804Z",
     "start_time": "2021-09-24T15:30:03.200Z"
    }
   },
   "outputs": [],
   "source": [
    "# mtcars$mpg"
   ]
  },
  {
   "cell_type": "code",
   "execution_count": 30,
   "id": "94e03b22",
   "metadata": {
    "ExecuteTime": {
     "end_time": "2021-09-24T15:30:17.837617Z",
     "start_time": "2021-09-24T15:30:17.732Z"
    }
   },
   "outputs": [
    {
     "data": {
      "image/png": "[encoded data removed]",
      "text/plain": [
       "plot without title"
      ]
     },
     "metadata": {
      "image/png": {
       "height": 420,
       "width": 420
      }
     },
     "output_type": "display_data"
    }
   ],
   "source": [
    "plot(mtcars$wt,mtcars$mpg)"
   ]
  },
  {
   "cell_type": "code",
   "execution_count": 23,
   "id": "e94f43a4",
   "metadata": {
    "ExecuteTime": {
     "end_time": "2021-09-24T15:28:54.072575Z",
     "start_time": "2021-09-24T15:28:54.045Z"
    }
   },
   "outputs": [],
   "source": [
    "# ??qt"
   ]
  },
  {
   "cell_type": "code",
   "execution_count": 37,
   "id": "7bb9521c",
   "metadata": {
    "ExecuteTime": {
     "end_time": "2021-09-24T15:33:53.599193Z",
     "start_time": "2021-09-24T15:33:53.453Z"
    }
   },
   "outputs": [
    {
     "name": "stderr",
     "output_type": "stream",
     "text": [
      "`geom_smooth()` using formula 'y ~ x'\n",
      "\n"
     ]
    },
    {
     "data": {
      "image/png": "[encoded data removed]",
      "text/plain": [
       "plot without title"
      ]
     },
     "metadata": {
      "image/png": {
       "height": 420,
       "width": 420
      }
     },
     "output_type": "display_data"
    }
   ],
   "source": [
    "ggplot(mtcars, aes(hp,mpg)) +\n",
    "    geom_point() + geom_smooth(method = 'lm', se=F)"
   ]
  },
  {
   "cell_type": "code",
   "execution_count": 107,
   "id": "3b587414",
   "metadata": {
    "ExecuteTime": {
     "end_time": "2021-09-24T21:57:41.091852Z",
     "start_time": "2021-09-24T21:57:41.025Z"
    }
   },
   "outputs": [],
   "source": [
    "model <- lm(mpg~hp, data = mtcars)\n",
    "# model = lm(mpg~hp, data = mtcars)"
   ]
  },
  {
   "cell_type": "code",
   "execution_count": 108,
   "id": "a4888340",
   "metadata": {
    "ExecuteTime": {
     "end_time": "2021-09-24T21:57:41.830072Z",
     "start_time": "2021-09-24T21:57:41.783Z"
    }
   },
   "outputs": [
    {
     "data": {
      "text/plain": [
       "\n",
       "Call:\n",
       "lm(formula = mpg ~ hp, data = mtcars)\n",
       "\n",
       "Residuals:\n",
       "    Min      1Q  Median      3Q     Max \n",
       "-5.7121 -2.1122 -0.8854  1.5819  8.2360 \n",
       "\n",
       "Coefficients:\n",
       "            Estimate Std. Error t value Pr(>|t|)    \n",
       "(Intercept) 30.09886    1.63392  18.421  < 2e-16 ***\n",
       "hp          -0.06823    0.01012  -6.742 1.79e-07 ***\n",
       "---\n",
       "Signif. codes:  0 ‘***’ 0.001 ‘**’ 0.01 ‘*’ 0.05 ‘.’ 0.1 ‘ ’ 1\n",
       "\n",
       "Residual standard error: 3.863 on 30 degrees of freedom\n",
       "Multiple R-squared:  0.6024,\tAdjusted R-squared:  0.5892 \n",
       "F-statistic: 45.46 on 1 and 30 DF,  p-value: 1.788e-07\n"
      ]
     },
     "metadata": {},
     "output_type": "display_data"
    }
   ],
   "source": [
    "summary(model)"
   ]
  },
  {
   "cell_type": "code",
   "execution_count": 113,
   "id": "b8a19523",
   "metadata": {
    "ExecuteTime": {
     "end_time": "2021-09-24T22:00:35.557421Z",
     "start_time": "2021-09-24T22:00:35.512Z"
    }
   },
   "outputs": [
    {
     "data": {
      "text/html": [
       "<style>\n",
       ".dl-inline {width: auto; margin:0; padding: 0}\n",
       ".dl-inline>dt, .dl-inline>dd {float: none; width: auto; display: inline-block}\n",
       ".dl-inline>dt::after {content: \":\\0020\"; padding-right: .5ex}\n",
       ".dl-inline>dt:not(:first-of-type) {padding-left: .5ex}\n",
       "</style><dl class=dl-inline><dt>(Intercept)</dt><dd>0</dd><dt>hp</dt><dd>1.78783525317527e-07</dd></dl>\n"
      ],
      "text/latex": [
       "\\begin{description*}\n",
       "\\item[(Intercept)] 0\n",
       "\\item[hp] 1.78783525317527e-07\n",
       "\\end{description*}\n"
      ],
      "text/markdown": [
       "(Intercept)\n",
       ":   0hp\n",
       ":   1.78783525317527e-07\n",
       "\n"
      ],
      "text/plain": [
       " (Intercept)           hp \n",
       "0.000000e+00 1.787835e-07 "
      ]
     },
     "metadata": {},
     "output_type": "display_data"
    }
   ],
   "source": [
    "2*(1-(pt(abs(s1$coefficients[,3]),30)))"
   ]
  },
  {
   "cell_type": "code",
   "execution_count": 76,
   "id": "c393f01d",
   "metadata": {
    "ExecuteTime": {
     "end_time": "2021-09-24T16:00:52.673425Z",
     "start_time": "2021-09-24T16:00:52.638Z"
    }
   },
   "outputs": [
    {
     "data": {
      "text/html": [
       "<table>\n",
       "<caption>A matrix: 2 × 2 of type dbl</caption>\n",
       "<thead>\n",
       "\t<tr><th></th><th scope=col>2.5 %</th><th scope=col>97.5 %</th></tr>\n",
       "</thead>\n",
       "<tbody>\n",
       "\t<tr><th scope=row>(Intercept)</th><td>26.76194879</td><td>33.4357723</td></tr>\n",
       "\t<tr><th scope=row>hp</th><td>-0.08889465</td><td>-0.0475619</td></tr>\n",
       "</tbody>\n",
       "</table>\n"
      ],
      "text/latex": [
       "A matrix: 2 × 2 of type dbl\n",
       "\\begin{tabular}{r|ll}\n",
       "  & 2.5 \\% & 97.5 \\%\\\\\n",
       "\\hline\n",
       "\t(Intercept) & 26.76194879 & 33.4357723\\\\\n",
       "\thp & -0.08889465 & -0.0475619\\\\\n",
       "\\end{tabular}\n"
      ],
      "text/markdown": [
       "\n",
       "A matrix: 2 × 2 of type dbl\n",
       "\n",
       "| <!--/--> | 2.5 % | 97.5 % |\n",
       "|---|---|---|\n",
       "| (Intercept) | 26.76194879 | 33.4357723 |\n",
       "| hp | -0.08889465 | -0.0475619 |\n",
       "\n"
      ],
      "text/plain": [
       "            2.5 %       97.5 %    \n",
       "(Intercept) 26.76194879 33.4357723\n",
       "hp          -0.08889465 -0.0475619"
      ]
     },
     "metadata": {},
     "output_type": "display_data"
    }
   ],
   "source": [
    "confint(model)"
   ]
  },
  {
   "cell_type": "code",
   "execution_count": 75,
   "id": "fd7d0c10",
   "metadata": {
    "ExecuteTime": {
     "end_time": "2021-09-24T16:00:19.866847Z",
     "start_time": "2021-09-24T16:00:19.852Z"
    }
   },
   "outputs": [],
   "source": [
    "# qnorm(0.975,mean = 40)"
   ]
  },
  {
   "cell_type": "code",
   "execution_count": 64,
   "id": "7938b4e9",
   "metadata": {
    "ExecuteTime": {
     "end_time": "2021-09-24T15:55:22.627780Z",
     "start_time": "2021-09-24T15:55:22.592Z"
    }
   },
   "outputs": [
    {
     "data": {
      "text/html": [
       "2.04227245630124"
      ],
      "text/latex": [
       "2.04227245630124"
      ],
      "text/markdown": [
       "2.04227245630124"
      ],
      "text/plain": [
       "[1] 2.042272"
      ]
     },
     "metadata": {},
     "output_type": "display_data"
    },
    {
     "data": {
      "text/html": [
       "0.000524716440197408"
      ],
      "text/latex": [
       "0.000524716440197408"
      ],
      "text/markdown": [
       "0.000524716440197408"
      ],
      "text/plain": [
       "[1] 0.0005247164"
      ]
     },
     "metadata": {},
     "output_type": "display_data"
    },
    {
     "data": {
      "text/html": [
       "0.5"
      ],
      "text/latex": [
       "0.5"
      ],
      "text/markdown": [
       "0.5"
      ],
      "text/plain": [
       "[1] 0.5"
      ]
     },
     "metadata": {},
     "output_type": "display_data"
    }
   ],
   "source": [
    "qt(0.975, 30)\n",
    "dt(4, 30)\n",
    "pt(0, 30)"
   ]
  },
  {
   "cell_type": "code",
   "execution_count": 67,
   "id": "4bae451d",
   "metadata": {
    "ExecuteTime": {
     "end_time": "2021-09-24T15:56:04.095133Z",
     "start_time": "2021-09-24T15:56:04.069Z"
    }
   },
   "outputs": [],
   "source": [
    "# hist(rt(1000,30))"
   ]
  },
  {
   "cell_type": "code",
   "execution_count": 43,
   "id": "6c95b3f7",
   "metadata": {
    "ExecuteTime": {
     "end_time": "2021-09-24T15:43:45.583650Z",
     "start_time": "2021-09-24T15:43:45.561Z"
    }
   },
   "outputs": [],
   "source": [
    "s1 <- summary(model)"
   ]
  },
  {
   "cell_type": "code",
   "execution_count": 56,
   "id": "4fd7c75f",
   "metadata": {
    "ExecuteTime": {
     "end_time": "2021-09-24T15:46:08.229715Z",
     "start_time": "2021-09-24T15:46:08.197Z"
    }
   },
   "outputs": [
    {
     "data": {
      "text/html": [
       "<style>\n",
       ".list-inline {list-style: none; margin:0; padding: 0}\n",
       ".list-inline>li {display: inline-block}\n",
       ".list-inline>li:not(:last-child)::after {content: \"\\00b7\"; padding: 0 .5ex}\n",
       "</style>\n",
       "<ol class=list-inline><li>'Estimate'</li><li>'Std. Error'</li><li>'t value'</li><li>'Pr(&gt;|t|)'</li></ol>\n"
      ],
      "text/latex": [
       "\\begin{enumerate*}\n",
       "\\item 'Estimate'\n",
       "\\item 'Std. Error'\n",
       "\\item 't value'\n",
       "\\item 'Pr(>\\textbar{}t\\textbar{})'\n",
       "\\end{enumerate*}\n"
      ],
      "text/markdown": [
       "1. 'Estimate'\n",
       "2. 'Std. Error'\n",
       "3. 't value'\n",
       "4. 'Pr(&gt;|t|)'\n",
       "\n",
       "\n"
      ],
      "text/plain": [
       "[1] \"Estimate\"   \"Std. Error\" \"t value\"    \"Pr(>|t|)\"  "
      ]
     },
     "metadata": {},
     "output_type": "display_data"
    }
   ],
   "source": [
    "colnames(s1$coefficients)"
   ]
  },
  {
   "cell_type": "code",
   "execution_count": 52,
   "id": "a2a84fbf",
   "metadata": {
    "ExecuteTime": {
     "end_time": "2021-09-24T15:45:27.736940Z",
     "start_time": "2021-09-24T15:45:27.708Z"
    }
   },
   "outputs": [
    {
     "data": {
      "text/html": [
       "<style>\n",
       ".dl-inline {width: auto; margin:0; padding: 0}\n",
       ".dl-inline>dt, .dl-inline>dd {float: none; width: auto; display: inline-block}\n",
       ".dl-inline>dt::after {content: \":\\0020\"; padding-right: .5ex}\n",
       ".dl-inline>dt:not(:first-of-type) {padding-left: .5ex}\n",
       "</style><dl class=dl-inline><dt>(Intercept)</dt><dd>18.4212464709768</dd><dt>hp</dt><dd>-6.74238854270679</dd></dl>\n"
      ],
      "text/latex": [
       "\\begin{description*}\n",
       "\\item[(Intercept)] 18.4212464709768\n",
       "\\item[hp] -6.74238854270679\n",
       "\\end{description*}\n"
      ],
      "text/markdown": [
       "(Intercept)\n",
       ":   18.4212464709768hp\n",
       ":   -6.74238854270679\n",
       "\n"
      ],
      "text/plain": [
       "(Intercept)          hp \n",
       "  18.421246   -6.742389 "
      ]
     },
     "metadata": {},
     "output_type": "display_data"
    }
   ],
   "source": [
    "s1$coefficients[,1]/s1$coefficients[,2]"
   ]
  },
  {
   "cell_type": "code",
   "execution_count": 57,
   "id": "5f311607",
   "metadata": {
    "ExecuteTime": {
     "end_time": "2021-09-24T15:46:13.482912Z",
     "start_time": "2021-09-24T15:46:13.450Z"
    }
   },
   "outputs": [
    {
     "data": {
      "text/html": [
       "<style>\n",
       ".dl-inline {width: auto; margin:0; padding: 0}\n",
       ".dl-inline>dt, .dl-inline>dd {float: none; width: auto; display: inline-block}\n",
       ".dl-inline>dt::after {content: \":\\0020\"; padding-right: .5ex}\n",
       ".dl-inline>dt:not(:first-of-type) {padding-left: .5ex}\n",
       "</style><dl class=dl-inline><dt>(Intercept)</dt><dd>18.4212464709768</dd><dt>hp</dt><dd>-6.74238854270679</dd></dl>\n"
      ],
      "text/latex": [
       "\\begin{description*}\n",
       "\\item[(Intercept)] 18.4212464709768\n",
       "\\item[hp] -6.74238854270679\n",
       "\\end{description*}\n"
      ],
      "text/markdown": [
       "(Intercept)\n",
       ":   18.4212464709768hp\n",
       ":   -6.74238854270679\n",
       "\n"
      ],
      "text/plain": [
       "(Intercept)          hp \n",
       "  18.421246   -6.742389 "
      ]
     },
     "metadata": {},
     "output_type": "display_data"
    }
   ],
   "source": [
    "s1$coefficients[,'t value']"
   ]
  },
  {
   "cell_type": "code",
   "execution_count": 59,
   "id": "e5f6ba37",
   "metadata": {
    "ExecuteTime": {
     "end_time": "2021-09-24T15:47:13.075470Z",
     "start_time": "2021-09-24T15:47:13.042Z"
    }
   },
   "outputs": [
    {
     "data": {
      "text/html": [
       "<table>\n",
       "<caption>A matrix: 2 × 2 of type dbl</caption>\n",
       "<thead>\n",
       "\t<tr><th></th><th scope=col>t value</th><th scope=col>Estimate</th></tr>\n",
       "</thead>\n",
       "<tbody>\n",
       "\t<tr><th scope=row>(Intercept)</th><td>18.421246</td><td>30.09886054</td></tr>\n",
       "\t<tr><th scope=row>hp</th><td>-6.742389</td><td>-0.06822828</td></tr>\n",
       "</tbody>\n",
       "</table>\n"
      ],
      "text/latex": [
       "A matrix: 2 × 2 of type dbl\n",
       "\\begin{tabular}{r|ll}\n",
       "  & t value & Estimate\\\\\n",
       "\\hline\n",
       "\t(Intercept) & 18.421246 & 30.09886054\\\\\n",
       "\thp & -6.742389 & -0.06822828\\\\\n",
       "\\end{tabular}\n"
      ],
      "text/markdown": [
       "\n",
       "A matrix: 2 × 2 of type dbl\n",
       "\n",
       "| <!--/--> | t value | Estimate |\n",
       "|---|---|---|\n",
       "| (Intercept) | 18.421246 | 30.09886054 |\n",
       "| hp | -6.742389 | -0.06822828 |\n",
       "\n"
      ],
      "text/plain": [
       "            t value   Estimate   \n",
       "(Intercept) 18.421246 30.09886054\n",
       "hp          -6.742389 -0.06822828"
      ]
     },
     "metadata": {},
     "output_type": "display_data"
    }
   ],
   "source": [
    "s1$coefficients[c(1,2),c('t value', 'Estimate')]"
   ]
  },
  {
   "cell_type": "code",
   "execution_count": 83,
   "id": "b2abf8ab",
   "metadata": {
    "ExecuteTime": {
     "end_time": "2021-09-24T16:07:11.854207Z",
     "start_time": "2021-09-24T16:07:11.834Z"
    }
   },
   "outputs": [
    {
     "name": "stderr",
     "output_type": "stream",
     "text": [
      "Warning message in predict.lm(model, interval = \"prediction\"):\n",
      "“predictions on current data refer to _future_ responses\n",
      "”\n"
     ]
    }
   ],
   "source": [
    "df1 <- data.frame(mtcars, predict(model, interval='prediction'))"
   ]
  },
  {
   "cell_type": "code",
   "execution_count": 86,
   "id": "97775120",
   "metadata": {
    "ExecuteTime": {
     "end_time": "2021-09-24T16:09:07.327245Z",
     "start_time": "2021-09-24T16:09:07.303Z"
    },
    "scrolled": true
   },
   "outputs": [
    {
     "data": {
      "text/html": [
       "<style>\n",
       ".list-inline {list-style: none; margin:0; padding: 0}\n",
       ".list-inline>li {display: inline-block}\n",
       ".list-inline>li:not(:last-child)::after {content: \"\\00b7\"; padding: 0 .5ex}\n",
       "</style>\n",
       "<ol class=list-inline><li>'mpg'</li><li>'cyl'</li><li>'disp'</li><li>'hp'</li><li>'drat'</li><li>'wt'</li><li>'qsec'</li><li>'vs'</li><li>'am'</li><li>'gear'</li><li>'carb'</li><li>'fit'</li><li>'lwr'</li><li>'upr'</li></ol>\n"
      ],
      "text/latex": [
       "\\begin{enumerate*}\n",
       "\\item 'mpg'\n",
       "\\item 'cyl'\n",
       "\\item 'disp'\n",
       "\\item 'hp'\n",
       "\\item 'drat'\n",
       "\\item 'wt'\n",
       "\\item 'qsec'\n",
       "\\item 'vs'\n",
       "\\item 'am'\n",
       "\\item 'gear'\n",
       "\\item 'carb'\n",
       "\\item 'fit'\n",
       "\\item 'lwr'\n",
       "\\item 'upr'\n",
       "\\end{enumerate*}\n"
      ],
      "text/markdown": [
       "1. 'mpg'\n",
       "2. 'cyl'\n",
       "3. 'disp'\n",
       "4. 'hp'\n",
       "5. 'drat'\n",
       "6. 'wt'\n",
       "7. 'qsec'\n",
       "8. 'vs'\n",
       "9. 'am'\n",
       "10. 'gear'\n",
       "11. 'carb'\n",
       "12. 'fit'\n",
       "13. 'lwr'\n",
       "14. 'upr'\n",
       "\n",
       "\n"
      ],
      "text/plain": [
       " [1] \"mpg\"  \"cyl\"  \"disp\" \"hp\"   \"drat\" \"wt\"   \"qsec\" \"vs\"   \"am\"   \"gear\"\n",
       "[11] \"carb\" \"fit\"  \"lwr\"  \"upr\" "
      ]
     },
     "metadata": {},
     "output_type": "display_data"
    }
   ],
   "source": [
    "colnames(df1)"
   ]
  },
  {
   "cell_type": "code",
   "execution_count": 105,
   "id": "eba34224",
   "metadata": {
    "ExecuteTime": {
     "end_time": "2021-09-24T16:19:46.708599Z",
     "start_time": "2021-09-24T16:19:46.538Z"
    }
   },
   "outputs": [
    {
     "name": "stderr",
     "output_type": "stream",
     "text": [
      "`geom_smooth()` using formula 'y ~ x'\n",
      "\n"
     ]
    },
    {
     "data": {
      "image/png": "[encoded data removed]",
      "text/plain": [
       "plot without title"
      ]
     },
     "metadata": {
      "image/png": {
       "height": 420,
       "width": 420
      }
     },
     "output_type": "display_data"
    }
   ],
   "source": [
    "ggplot(df1, aes(hp,mpg)) + \n",
    "    geom_ribbon(aes(ymin=lwr, ymax=upr), alpha=0.1) + \n",
    "    geom_point() + geom_smooth(method = 'lm', se=F)"
   ]
  },
  {
   "cell_type": "code",
   "execution_count": 97,
   "id": "abd6a503",
   "metadata": {
    "ExecuteTime": {
     "end_time": "2021-09-24T16:11:26.644083Z",
     "start_time": "2021-09-24T16:11:26.629Z"
    }
   },
   "outputs": [
    {
     "data": {
      "text/plain": [
       "\n",
       "Call:\n",
       "lm(formula = mpg ~ hp, data = mtcars)\n",
       "\n",
       "Residuals:\n",
       "    Min      1Q  Median      3Q     Max \n",
       "-5.7121 -2.1122 -0.8854  1.5819  8.2360 \n",
       "\n",
       "Coefficients:\n",
       "            Estimate Std. Error t value Pr(>|t|)    \n",
       "(Intercept) 30.09886    1.63392  18.421  < 2e-16 ***\n",
       "hp          -0.06823    0.01012  -6.742 1.79e-07 ***\n",
       "---\n",
       "Signif. codes:  0 ‘***’ 0.001 ‘**’ 0.01 ‘*’ 0.05 ‘.’ 0.1 ‘ ’ 1\n",
       "\n",
       "Residual standard error: 3.863 on 30 degrees of freedom\n",
       "Multiple R-squared:  0.6024,\tAdjusted R-squared:  0.5892 \n",
       "F-statistic: 45.46 on 1 and 30 DF,  p-value: 1.788e-07\n"
      ]
     },
     "metadata": {},
     "output_type": "display_data"
    }
   ],
   "source": [
    "model <- lm(mpg~hp, data = mtcars)\n",
    "summary(model)"
   ]
  },
  {
   "cell_type": "code",
   "execution_count": 98,
   "id": "b5603423",
   "metadata": {
    "ExecuteTime": {
     "end_time": "2021-09-24T16:11:42.329743Z",
     "start_time": "2021-09-24T16:11:42.307Z"
    }
   },
   "outputs": [
    {
     "data": {
      "text/plain": [
       "\n",
       "Call:\n",
       "lm(formula = mpg ~ hp + cyl + wt, data = mtcars)\n",
       "\n",
       "Residuals:\n",
       "    Min      1Q  Median      3Q     Max \n",
       "-3.9290 -1.5598 -0.5311  1.1850  5.8986 \n",
       "\n",
       "Coefficients:\n",
       "            Estimate Std. Error t value Pr(>|t|)    \n",
       "(Intercept) 38.75179    1.78686  21.687  < 2e-16 ***\n",
       "hp          -0.01804    0.01188  -1.519 0.140015    \n",
       "cyl         -0.94162    0.55092  -1.709 0.098480 .  \n",
       "wt          -3.16697    0.74058  -4.276 0.000199 ***\n",
       "---\n",
       "Signif. codes:  0 ‘***’ 0.001 ‘**’ 0.01 ‘*’ 0.05 ‘.’ 0.1 ‘ ’ 1\n",
       "\n",
       "Residual standard error: 2.512 on 28 degrees of freedom\n",
       "Multiple R-squared:  0.8431,\tAdjusted R-squared:  0.8263 \n",
       "F-statistic: 50.17 on 3 and 28 DF,  p-value: 2.184e-11\n"
      ]
     },
     "metadata": {},
     "output_type": "display_data"
    }
   ],
   "source": [
    "model <- lm(mpg~hp+cyl+wt, data = mtcars)\n",
    "summary(model)"
   ]
  },
  {
   "cell_type": "code",
   "execution_count": 101,
   "id": "88c01d8a",
   "metadata": {
    "ExecuteTime": {
     "end_time": "2021-09-24T16:15:37.067860Z",
     "start_time": "2021-09-24T16:15:37.028Z"
    }
   },
   "outputs": [
    {
     "data": {
      "text/html": [
       "<table>\n",
       "<caption>A matrix: 11 × 11 of type dbl</caption>\n",
       "<thead>\n",
       "\t<tr><th></th><th scope=col>mpg</th><th scope=col>cyl</th><th scope=col>disp</th><th scope=col>hp</th><th scope=col>drat</th><th scope=col>wt</th><th scope=col>qsec</th><th scope=col>vs</th><th scope=col>am</th><th scope=col>gear</th><th scope=col>carb</th></tr>\n",
       "</thead>\n",
       "<tbody>\n",
       "\t<tr><th scope=row>mpg</th><td> 1.0000000</td><td>-0.8521620</td><td>-0.8475514</td><td>-0.7761684</td><td> 0.68117191</td><td>-0.8676594</td><td> 0.41868403</td><td> 0.6640389</td><td> 0.59983243</td><td> 0.4802848</td><td>-0.55092507</td></tr>\n",
       "\t<tr><th scope=row>cyl</th><td>-0.8521620</td><td> 1.0000000</td><td> 0.9020329</td><td> 0.8324475</td><td>-0.69993811</td><td> 0.7824958</td><td>-0.59124207</td><td>-0.8108118</td><td>-0.52260705</td><td>-0.4926866</td><td> 0.52698829</td></tr>\n",
       "\t<tr><th scope=row>disp</th><td>-0.8475514</td><td> 0.9020329</td><td> 1.0000000</td><td> 0.7909486</td><td>-0.71021393</td><td> 0.8879799</td><td>-0.43369788</td><td>-0.7104159</td><td>-0.59122704</td><td>-0.5555692</td><td> 0.39497686</td></tr>\n",
       "\t<tr><th scope=row>hp</th><td>-0.7761684</td><td> 0.8324475</td><td> 0.7909486</td><td> 1.0000000</td><td>-0.44875912</td><td> 0.6587479</td><td>-0.70822339</td><td>-0.7230967</td><td>-0.24320426</td><td>-0.1257043</td><td> 0.74981247</td></tr>\n",
       "\t<tr><th scope=row>drat</th><td> 0.6811719</td><td>-0.6999381</td><td>-0.7102139</td><td>-0.4487591</td><td> 1.00000000</td><td>-0.7124406</td><td> 0.09120476</td><td> 0.4402785</td><td> 0.71271113</td><td> 0.6996101</td><td>-0.09078980</td></tr>\n",
       "\t<tr><th scope=row>wt</th><td>-0.8676594</td><td> 0.7824958</td><td> 0.8879799</td><td> 0.6587479</td><td>-0.71244065</td><td> 1.0000000</td><td>-0.17471588</td><td>-0.5549157</td><td>-0.69249526</td><td>-0.5832870</td><td> 0.42760594</td></tr>\n",
       "\t<tr><th scope=row>qsec</th><td> 0.4186840</td><td>-0.5912421</td><td>-0.4336979</td><td>-0.7082234</td><td> 0.09120476</td><td>-0.1747159</td><td> 1.00000000</td><td> 0.7445354</td><td>-0.22986086</td><td>-0.2126822</td><td>-0.65624923</td></tr>\n",
       "\t<tr><th scope=row>vs</th><td> 0.6640389</td><td>-0.8108118</td><td>-0.7104159</td><td>-0.7230967</td><td> 0.44027846</td><td>-0.5549157</td><td> 0.74453544</td><td> 1.0000000</td><td> 0.16834512</td><td> 0.2060233</td><td>-0.56960714</td></tr>\n",
       "\t<tr><th scope=row>am</th><td> 0.5998324</td><td>-0.5226070</td><td>-0.5912270</td><td>-0.2432043</td><td> 0.71271113</td><td>-0.6924953</td><td>-0.22986086</td><td> 0.1683451</td><td> 1.00000000</td><td> 0.7940588</td><td> 0.05753435</td></tr>\n",
       "\t<tr><th scope=row>gear</th><td> 0.4802848</td><td>-0.4926866</td><td>-0.5555692</td><td>-0.1257043</td><td> 0.69961013</td><td>-0.5832870</td><td>-0.21268223</td><td> 0.2060233</td><td> 0.79405876</td><td> 1.0000000</td><td> 0.27407284</td></tr>\n",
       "\t<tr><th scope=row>carb</th><td>-0.5509251</td><td> 0.5269883</td><td> 0.3949769</td><td> 0.7498125</td><td>-0.09078980</td><td> 0.4276059</td><td>-0.65624923</td><td>-0.5696071</td><td> 0.05753435</td><td> 0.2740728</td><td> 1.00000000</td></tr>\n",
       "</tbody>\n",
       "</table>\n"
      ],
      "text/latex": [
       "A matrix: 11 × 11 of type dbl\n",
       "\\begin{tabular}{r|lllllllllll}\n",
       "  & mpg & cyl & disp & hp & drat & wt & qsec & vs & am & gear & carb\\\\\n",
       "\\hline\n",
       "\tmpg &  1.0000000 & -0.8521620 & -0.8475514 & -0.7761684 &  0.68117191 & -0.8676594 &  0.41868403 &  0.6640389 &  0.59983243 &  0.4802848 & -0.55092507\\\\\n",
       "\tcyl & -0.8521620 &  1.0000000 &  0.9020329 &  0.8324475 & -0.69993811 &  0.7824958 & -0.59124207 & -0.8108118 & -0.52260705 & -0.4926866 &  0.52698829\\\\\n",
       "\tdisp & -0.8475514 &  0.9020329 &  1.0000000 &  0.7909486 & -0.71021393 &  0.8879799 & -0.43369788 & -0.7104159 & -0.59122704 & -0.5555692 &  0.39497686\\\\\n",
       "\thp & -0.7761684 &  0.8324475 &  0.7909486 &  1.0000000 & -0.44875912 &  0.6587479 & -0.70822339 & -0.7230967 & -0.24320426 & -0.1257043 &  0.74981247\\\\\n",
       "\tdrat &  0.6811719 & -0.6999381 & -0.7102139 & -0.4487591 &  1.00000000 & -0.7124406 &  0.09120476 &  0.4402785 &  0.71271113 &  0.6996101 & -0.09078980\\\\\n",
       "\twt & -0.8676594 &  0.7824958 &  0.8879799 &  0.6587479 & -0.71244065 &  1.0000000 & -0.17471588 & -0.5549157 & -0.69249526 & -0.5832870 &  0.42760594\\\\\n",
       "\tqsec &  0.4186840 & -0.5912421 & -0.4336979 & -0.7082234 &  0.09120476 & -0.1747159 &  1.00000000 &  0.7445354 & -0.22986086 & -0.2126822 & -0.65624923\\\\\n",
       "\tvs &  0.6640389 & -0.8108118 & -0.7104159 & -0.7230967 &  0.44027846 & -0.5549157 &  0.74453544 &  1.0000000 &  0.16834512 &  0.2060233 & -0.56960714\\\\\n",
       "\tam &  0.5998324 & -0.5226070 & -0.5912270 & -0.2432043 &  0.71271113 & -0.6924953 & -0.22986086 &  0.1683451 &  1.00000000 &  0.7940588 &  0.05753435\\\\\n",
       "\tgear &  0.4802848 & -0.4926866 & -0.5555692 & -0.1257043 &  0.69961013 & -0.5832870 & -0.21268223 &  0.2060233 &  0.79405876 &  1.0000000 &  0.27407284\\\\\n",
       "\tcarb & -0.5509251 &  0.5269883 &  0.3949769 &  0.7498125 & -0.09078980 &  0.4276059 & -0.65624923 & -0.5696071 &  0.05753435 &  0.2740728 &  1.00000000\\\\\n",
       "\\end{tabular}\n"
      ],
      "text/markdown": [
       "\n",
       "A matrix: 11 × 11 of type dbl\n",
       "\n",
       "| <!--/--> | mpg | cyl | disp | hp | drat | wt | qsec | vs | am | gear | carb |\n",
       "|---|---|---|---|---|---|---|---|---|---|---|---|\n",
       "| mpg |  1.0000000 | -0.8521620 | -0.8475514 | -0.7761684 |  0.68117191 | -0.8676594 |  0.41868403 |  0.6640389 |  0.59983243 |  0.4802848 | -0.55092507 |\n",
       "| cyl | -0.8521620 |  1.0000000 |  0.9020329 |  0.8324475 | -0.69993811 |  0.7824958 | -0.59124207 | -0.8108118 | -0.52260705 | -0.4926866 |  0.52698829 |\n",
       "| disp | -0.8475514 |  0.9020329 |  1.0000000 |  0.7909486 | -0.71021393 |  0.8879799 | -0.43369788 | -0.7104159 | -0.59122704 | -0.5555692 |  0.39497686 |\n",
       "| hp | -0.7761684 |  0.8324475 |  0.7909486 |  1.0000000 | -0.44875912 |  0.6587479 | -0.70822339 | -0.7230967 | -0.24320426 | -0.1257043 |  0.74981247 |\n",
       "| drat |  0.6811719 | -0.6999381 | -0.7102139 | -0.4487591 |  1.00000000 | -0.7124406 |  0.09120476 |  0.4402785 |  0.71271113 |  0.6996101 | -0.09078980 |\n",
       "| wt | -0.8676594 |  0.7824958 |  0.8879799 |  0.6587479 | -0.71244065 |  1.0000000 | -0.17471588 | -0.5549157 | -0.69249526 | -0.5832870 |  0.42760594 |\n",
       "| qsec |  0.4186840 | -0.5912421 | -0.4336979 | -0.7082234 |  0.09120476 | -0.1747159 |  1.00000000 |  0.7445354 | -0.22986086 | -0.2126822 | -0.65624923 |\n",
       "| vs |  0.6640389 | -0.8108118 | -0.7104159 | -0.7230967 |  0.44027846 | -0.5549157 |  0.74453544 |  1.0000000 |  0.16834512 |  0.2060233 | -0.56960714 |\n",
       "| am |  0.5998324 | -0.5226070 | -0.5912270 | -0.2432043 |  0.71271113 | -0.6924953 | -0.22986086 |  0.1683451 |  1.00000000 |  0.7940588 |  0.05753435 |\n",
       "| gear |  0.4802848 | -0.4926866 | -0.5555692 | -0.1257043 |  0.69961013 | -0.5832870 | -0.21268223 |  0.2060233 |  0.79405876 |  1.0000000 |  0.27407284 |\n",
       "| carb | -0.5509251 |  0.5269883 |  0.3949769 |  0.7498125 | -0.09078980 |  0.4276059 | -0.65624923 | -0.5696071 |  0.05753435 |  0.2740728 |  1.00000000 |\n",
       "\n"
      ],
      "text/plain": [
       "     mpg        cyl        disp       hp         drat        wt        \n",
       "mpg   1.0000000 -0.8521620 -0.8475514 -0.7761684  0.68117191 -0.8676594\n",
       "cyl  -0.8521620  1.0000000  0.9020329  0.8324475 -0.69993811  0.7824958\n",
       "disp -0.8475514  0.9020329  1.0000000  0.7909486 -0.71021393  0.8879799\n",
       "hp   -0.7761684  0.8324475  0.7909486  1.0000000 -0.44875912  0.6587479\n",
       "drat  0.6811719 -0.6999381 -0.7102139 -0.4487591  1.00000000 -0.7124406\n",
       "wt   -0.8676594  0.7824958  0.8879799  0.6587479 -0.71244065  1.0000000\n",
       "qsec  0.4186840 -0.5912421 -0.4336979 -0.7082234  0.09120476 -0.1747159\n",
       "vs    0.6640389 -0.8108118 -0.7104159 -0.7230967  0.44027846 -0.5549157\n",
       "am    0.5998324 -0.5226070 -0.5912270 -0.2432043  0.71271113 -0.6924953\n",
       "gear  0.4802848 -0.4926866 -0.5555692 -0.1257043  0.69961013 -0.5832870\n",
       "carb -0.5509251  0.5269883  0.3949769  0.7498125 -0.09078980  0.4276059\n",
       "     qsec        vs         am          gear       carb       \n",
       "mpg   0.41868403  0.6640389  0.59983243  0.4802848 -0.55092507\n",
       "cyl  -0.59124207 -0.8108118 -0.52260705 -0.4926866  0.52698829\n",
       "disp -0.43369788 -0.7104159 -0.59122704 -0.5555692  0.39497686\n",
       "hp   -0.70822339 -0.7230967 -0.24320426 -0.1257043  0.74981247\n",
       "drat  0.09120476  0.4402785  0.71271113  0.6996101 -0.09078980\n",
       "wt   -0.17471588 -0.5549157 -0.69249526 -0.5832870  0.42760594\n",
       "qsec  1.00000000  0.7445354 -0.22986086 -0.2126822 -0.65624923\n",
       "vs    0.74453544  1.0000000  0.16834512  0.2060233 -0.56960714\n",
       "am   -0.22986086  0.1683451  1.00000000  0.7940588  0.05753435\n",
       "gear -0.21268223  0.2060233  0.79405876  1.0000000  0.27407284\n",
       "carb -0.65624923 -0.5696071  0.05753435  0.2740728  1.00000000"
      ]
     },
     "metadata": {},
     "output_type": "display_data"
    }
   ],
   "source": [
    "cor(mtcars)"
   ]
  },
  {
   "cell_type": "code",
   "execution_count": 99,
   "id": "f746b715",
   "metadata": {
    "ExecuteTime": {
     "end_time": "2021-09-24T16:12:47.391115Z",
     "start_time": "2021-09-24T16:12:47.368Z"
    }
   },
   "outputs": [
    {
     "data": {
      "text/plain": [
       "\n",
       "Call:\n",
       "lm(formula = mpg ~ ., data = mtcars)\n",
       "\n",
       "Residuals:\n",
       "    Min      1Q  Median      3Q     Max \n",
       "-3.4506 -1.6044 -0.1196  1.2193  4.6271 \n",
       "\n",
       "Coefficients:\n",
       "            Estimate Std. Error t value Pr(>|t|)  \n",
       "(Intercept) 12.30337   18.71788   0.657   0.5181  \n",
       "cyl         -0.11144    1.04502  -0.107   0.9161  \n",
       "disp         0.01334    0.01786   0.747   0.4635  \n",
       "hp          -0.02148    0.02177  -0.987   0.3350  \n",
       "drat         0.78711    1.63537   0.481   0.6353  \n",
       "wt          -3.71530    1.89441  -1.961   0.0633 .\n",
       "qsec         0.82104    0.73084   1.123   0.2739  \n",
       "vs           0.31776    2.10451   0.151   0.8814  \n",
       "am           2.52023    2.05665   1.225   0.2340  \n",
       "gear         0.65541    1.49326   0.439   0.6652  \n",
       "carb        -0.19942    0.82875  -0.241   0.8122  \n",
       "---\n",
       "Signif. codes:  0 ‘***’ 0.001 ‘**’ 0.01 ‘*’ 0.05 ‘.’ 0.1 ‘ ’ 1\n",
       "\n",
       "Residual standard error: 2.65 on 21 degrees of freedom\n",
       "Multiple R-squared:  0.869,\tAdjusted R-squared:  0.8066 \n",
       "F-statistic: 13.93 on 10 and 21 DF,  p-value: 3.793e-07\n"
      ]
     },
     "metadata": {},
     "output_type": "display_data"
    }
   ],
   "source": [
    "model <- lm(mpg~., data = mtcars)\n",
    "summary(model)"
   ]
  },
  {
   "cell_type": "code",
   "execution_count": null,
   "id": "6273fc75",
   "metadata": {},
   "outputs": [],
   "source": []
  }
 ],
 "metadata": {
  "hide_input": false,
  "kernelspec": {
   "display_name": "R 4.0.2",
   "language": "R",
   "name": "ir"
  },
  "language_info": {
   "codemirror_mode": "r",
   "file_extension": ".r",
   "mimetype": "text/x-r-source",
   "name": "R",
   "pygments_lexer": "r",
   "version": "4.0.4"
  },
  "latex_envs": {
   "LaTeX_envs_menu_present": true,
   "autoclose": true,
   "autocomplete": true,
   "bibliofile": "biblio.bib",
   "cite_by": "apalike",
   "current_citInitial": 1,
   "eqLabelWithNumbers": true,
   "eqNumInitial": 1,
   "hotkeys": {
    "equation": "Ctrl-E",
    "itemize": "Ctrl-I"
   },
   "labels_anchors": false,
   "latex_user_defs": false,
   "report_style_numbering": false,
   "user_envs_cfg": false
  },
  "toc": {
   "base_numbering": 1,
   "nav_menu": {},
   "number_sections": true,
   "sideBar": true,
   "skip_h1_title": false,
   "title_cell": "Table of Contents",
   "title_sidebar": "Contents",
   "toc_cell": false,
   "toc_position": {},
   "toc_section_display": true,
   "toc_window_display": false
  },
  "varInspector": {
   "cols": {
    "lenName": 16,
    "lenType": 16,
    "lenVar": 40
   },
   "kernels_config": {
    "python": {
     "delete_cmd_postfix": "",
     "delete_cmd_prefix": "del ",
     "library": "var_list.py",
     "varRefreshCmd": "print(var_dic_list())"
    },
    "r": {
     "delete_cmd_postfix": ") ",
     "delete_cmd_prefix": "rm(",
     "library": "var_list.r",
     "varRefreshCmd": "cat(var_dic_list()) "
    }
   },
   "types_to_exclude": [
    "module",
    "function",
    "builtin_function_or_method",
    "instance",
    "_Feature"
   ],
   "window_display": false
  }
 },
 "nbformat": 4,
 "nbformat_minor": 5
}
